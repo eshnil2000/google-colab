{
  "nbformat": 4,
  "nbformat_minor": 0,
  "metadata": {
    "colab": {
      "name": "Untitled5.ipynb",
      "version": "0.3.2",
      "provenance": [],
      "include_colab_link": true
    },
    "kernelspec": {
      "name": "python3",
      "display_name": "Python 3"
    }
  },
  "cells": [
    {
      "cell_type": "markdown",
      "metadata": {
        "id": "view-in-github",
        "colab_type": "text"
      },
      "source": [
        "<a href=\"https://colab.research.google.com/github/eshnil2000/google-colab/blob/master/linear_regression_home_prices.ipynb\" target=\"_parent\"><img src=\"https://colab.research.google.com/assets/colab-badge.svg\" alt=\"Open In Colab\"/></a>"
      ]
    },
    {
      "cell_type": "code",
      "metadata": {
        "id": "0XrB-CXTqbQ2",
        "colab_type": "code",
        "colab": {}
      },
      "source": [
        "# Parameters\n",
        "learning_rate = 0.5\n",
        "training_epochs = \n",
        "display_step = 1\n",
        "batch_size=64"
      ],
      "execution_count": 0,
      "outputs": []
    },
    {
      "cell_type": "code",
      "metadata": {
        "id": "VwWe3Vm7qgsL",
        "colab_type": "code",
        "colab": {
          "base_uri": "https://localhost:8080/",
          "height": 680
        },
        "outputId": "6ac18f89-5d76-48c4-c48b-9fb75a4db3cb"
      },
      "source": [
        "!git clone https://github.com/eshnil2000/google-colab.git\n",
        "%cd google-colab\n",
        "#Install required modules\n",
        "!pip install tensorflow numpy matplotlib pandas sklearn\n",
        "import tensorflow as tf\n",
        "import numpy as np\n",
        "import matplotlib.pyplot as plt\n",
        "from sklearn import preprocessing\n",
        "from tqdm import tqdm"
      ],
      "execution_count": 86,
      "outputs": [
        {
          "output_type": "stream",
          "text": [
            "Cloning into 'google-colab'...\n",
            "remote: Enumerating objects: 117, done.\u001b[K\n",
            "remote: Counting objects:   0% (1/117)   \u001b[K\rremote: Counting objects:   1% (2/117)   \u001b[K\rremote: Counting objects:   2% (3/117)   \u001b[K\rremote: Counting objects:   3% (4/117)   \u001b[K\rremote: Counting objects:   4% (5/117)   \u001b[K\rremote: Counting objects:   5% (6/117)   \u001b[K\rremote: Counting objects:   6% (8/117)   \u001b[K\rremote: Counting objects:   7% (9/117)   \u001b[K\rremote: Counting objects:   8% (10/117)   \u001b[K\rremote: Counting objects:   9% (11/117)   \u001b[K\rremote: Counting objects:  10% (12/117)   \u001b[K\rremote: Counting objects:  11% (13/117)   \u001b[K\rremote: Counting objects:  12% (15/117)   \u001b[K\rremote: Counting objects:  13% (16/117)   \u001b[K\rremote: Counting objects:  14% (17/117)   \u001b[K\rremote: Counting objects:  15% (18/117)   \u001b[K\rremote: Counting objects:  16% (19/117)   \u001b[K\rremote: Counting objects:  17% (20/117)   \u001b[K\rremote: Counting objects:  18% (22/117)   \u001b[K\rremote: Counting objects:  19% (23/117)   \u001b[K\rremote: Counting objects:  20% (24/117)   \u001b[K\rremote: Counting objects:  21% (25/117)   \u001b[K\rremote: Counting objects:  22% (26/117)   \u001b[K\rremote: Counting objects:  23% (27/117)   \u001b[K\rremote: Counting objects:  24% (29/117)   \u001b[K\rremote: Counting objects:  25% (30/117)   \u001b[K\rremote: Counting objects:  26% (31/117)   \u001b[K\rremote: Counting objects:  27% (32/117)   \u001b[K\rremote: Counting objects:  28% (33/117)   \u001b[K\rremote: Counting objects:  29% (34/117)   \u001b[K\rremote: Counting objects:  30% (36/117)   \u001b[K\rremote: Counting objects:  31% (37/117)   \u001b[K\rremote: Counting objects:  32% (38/117)   \u001b[K\rremote: Counting objects:  33% (39/117)   \u001b[K\rremote: Counting objects:  34% (40/117)   \u001b[K\rremote: Counting objects:  35% (41/117)   \u001b[K\rremote: Counting objects:  36% (43/117)   \u001b[K\rremote: Counting objects:  37% (44/117)   \u001b[K\rremote: Counting objects:  38% (45/117)   \u001b[K\rremote: Counting objects:  39% (46/117)   \u001b[K\rremote: Counting objects:  40% (47/117)   \u001b[K\rremote: Counting objects:  41% (48/117)   \u001b[K\rremote: Counting objects:  42% (50/117)   \u001b[K\rremote: Counting objects:  43% (51/117)   \u001b[K\rremote: Counting objects:  44% (52/117)   \u001b[K\rremote: Counting objects:  45% (53/117)   \u001b[K\rremote: Counting objects:  46% (54/117)   \u001b[K\rremote: Counting objects:  47% (55/117)   \u001b[K\rremote: Counting objects:  48% (57/117)   \u001b[K\rremote: Counting objects:  49% (58/117)   \u001b[K\rremote: Counting objects:  50% (59/117)   \u001b[K\rremote: Counting objects:  51% (60/117)   \u001b[K\rremote: Counting objects:  52% (61/117)   \u001b[K\rremote: Counting objects:  53% (63/117)   \u001b[K\rremote: Counting objects:  54% (64/117)   \u001b[K\rremote: Counting objects:  55% (65/117)   \u001b[K\rremote: Counting objects:  56% (66/117)   \u001b[K\rremote: Counting objects:  57% (67/117)   \u001b[K\rremote: Counting objects:  58% (68/117)   \u001b[K\rremote: Counting objects:  59% (70/117)   \u001b[K\rremote: Counting objects:  60% (71/117)   \u001b[K\rremote: Counting objects:  61% (72/117)   \u001b[K\rremote: Counting objects:  62% (73/117)   \u001b[K\rremote: Counting objects:  63% (74/117)   \u001b[K\rremote: Counting objects:  64% (75/117)   \u001b[K\rremote: Counting objects:  65% (77/117)   \u001b[K\rremote: Counting objects:  66% (78/117)   \u001b[K\rremote: Counting objects:  67% (79/117)   \u001b[K\rremote: Counting objects:  68% (80/117)   \u001b[K\rremote: Counting objects:  69% (81/117)   \u001b[K\rremote: Counting objects:  70% (82/117)   \u001b[K\rremote: Counting objects:  71% (84/117)   \u001b[K\rremote: Counting objects:  72% (85/117)   \u001b[K\rremote: Counting objects:  73% (86/117)   \u001b[K\rremote: Counting objects:  74% (87/117)   \u001b[K\rremote: Counting objects:  75% (88/117)   \u001b[K\rremote: Counting objects:  76% (89/117)   \u001b[K\rremote: Counting objects:  77% (91/117)   \u001b[K\rremote: Counting objects:  78% (92/117)   \u001b[K\rremote: Counting objects:  79% (93/117)   \u001b[K\rremote: Counting objects:  80% (94/117)   \u001b[K\rremote: Counting objects:  81% (95/117)   \u001b[K\rremote: Counting objects:  82% (96/117)   \u001b[K\rremote: Counting objects:  83% (98/117)   \u001b[K\rremote: Counting objects:  84% (99/117)   \u001b[K\rremote: Counting objects:  85% (100/117)   \u001b[K\rremote: Counting objects:  86% (101/117)   \u001b[K\rremote: Counting objects:  87% (102/117)   \u001b[K\rremote: Counting objects:  88% (103/117)   \u001b[K\rremote: Counting objects:  89% (105/117)   \u001b[K\rremote: Counting objects:  90% (106/117)   \u001b[K\rremote: Counting objects:  91% (107/117)   \u001b[K\rremote: Counting objects:  92% (108/117)   \u001b[K\rremote: Counting objects:  93% (109/117)   \u001b[K\rremote: Counting objects:  94% (110/117)   \u001b[K\rremote: Counting objects:  95% (112/117)   \u001b[K\rremote: Counting objects:  96% (113/117)   \u001b[K\rremote: Counting objects:  97% (114/117)   \u001b[K\rremote: Counting objects:  98% (115/117)   \u001b[K\rremote: Counting objects:  99% (116/117)   \u001b[K\rremote: Counting objects: 100% (117/117)   \u001b[K\rremote: Counting objects: 100% (117/117), done.\u001b[K\n",
            "remote: Compressing objects: 100% (107/107), done.\u001b[K\n",
            "remote: Total 264 (delta 55), reused 26 (delta 9), pack-reused 147\u001b[K\n",
            "Receiving objects: 100% (264/264), 30.33 MiB | 26.77 MiB/s, done.\n",
            "Resolving deltas: 100% (120/120), done.\n",
            "/content/google-colab/google-colab/google-colab/google-colab/google-colab/google-colab/google-colab\n",
            "Requirement already satisfied: tensorflow in /usr/local/lib/python3.6/dist-packages (1.14.0)\n",
            "Requirement already satisfied: numpy in /usr/local/lib/python3.6/dist-packages (1.16.4)\n",
            "Requirement already satisfied: matplotlib in /usr/local/lib/python3.6/dist-packages (3.0.3)\n",
            "Requirement already satisfied: pandas in /usr/local/lib/python3.6/dist-packages (0.24.2)\n",
            "Requirement already satisfied: sklearn in /usr/local/lib/python3.6/dist-packages (0.0)\n",
            "Requirement already satisfied: absl-py>=0.7.0 in /usr/local/lib/python3.6/dist-packages (from tensorflow) (0.7.1)\n",
            "Requirement already satisfied: tensorboard<1.15.0,>=1.14.0 in /usr/local/lib/python3.6/dist-packages (from tensorflow) (1.14.0)\n",
            "Requirement already satisfied: grpcio>=1.8.6 in /usr/local/lib/python3.6/dist-packages (from tensorflow) (1.15.0)\n",
            "Requirement already satisfied: astor>=0.6.0 in /usr/local/lib/python3.6/dist-packages (from tensorflow) (0.8.0)\n",
            "Requirement already satisfied: gast>=0.2.0 in /usr/local/lib/python3.6/dist-packages (from tensorflow) (0.2.2)\n",
            "Requirement already satisfied: wrapt>=1.11.1 in /usr/local/lib/python3.6/dist-packages (from tensorflow) (1.11.2)\n",
            "Requirement already satisfied: tensorflow-estimator<1.15.0rc0,>=1.14.0rc0 in /usr/local/lib/python3.6/dist-packages (from tensorflow) (1.14.0)\n",
            "Requirement already satisfied: wheel>=0.26 in /usr/local/lib/python3.6/dist-packages (from tensorflow) (0.33.4)\n",
            "Requirement already satisfied: keras-applications>=1.0.6 in /usr/local/lib/python3.6/dist-packages (from tensorflow) (1.0.8)\n",
            "Requirement already satisfied: protobuf>=3.6.1 in /usr/local/lib/python3.6/dist-packages (from tensorflow) (3.7.1)\n",
            "Requirement already satisfied: six>=1.10.0 in /usr/local/lib/python3.6/dist-packages (from tensorflow) (1.12.0)\n",
            "Requirement already satisfied: keras-preprocessing>=1.0.5 in /usr/local/lib/python3.6/dist-packages (from tensorflow) (1.1.0)\n",
            "Requirement already satisfied: termcolor>=1.1.0 in /usr/local/lib/python3.6/dist-packages (from tensorflow) (1.1.0)\n",
            "Requirement already satisfied: google-pasta>=0.1.6 in /usr/local/lib/python3.6/dist-packages (from tensorflow) (0.1.7)\n",
            "Requirement already satisfied: kiwisolver>=1.0.1 in /usr/local/lib/python3.6/dist-packages (from matplotlib) (1.1.0)\n",
            "Requirement already satisfied: cycler>=0.10 in /usr/local/lib/python3.6/dist-packages (from matplotlib) (0.10.0)\n",
            "Requirement already satisfied: pyparsing!=2.0.4,!=2.1.2,!=2.1.6,>=2.0.1 in /usr/local/lib/python3.6/dist-packages (from matplotlib) (2.4.0)\n",
            "Requirement already satisfied: python-dateutil>=2.1 in /usr/local/lib/python3.6/dist-packages (from matplotlib) (2.5.3)\n",
            "Requirement already satisfied: pytz>=2011k in /usr/local/lib/python3.6/dist-packages (from pandas) (2018.9)\n",
            "Requirement already satisfied: scikit-learn in /usr/local/lib/python3.6/dist-packages (from sklearn) (0.21.2)\n",
            "Requirement already satisfied: werkzeug>=0.11.15 in /usr/local/lib/python3.6/dist-packages (from tensorboard<1.15.0,>=1.14.0->tensorflow) (0.15.5)\n",
            "Requirement already satisfied: markdown>=2.6.8 in /usr/local/lib/python3.6/dist-packages (from tensorboard<1.15.0,>=1.14.0->tensorflow) (3.1.1)\n",
            "Requirement already satisfied: setuptools>=41.0.0 in /usr/local/lib/python3.6/dist-packages (from tensorboard<1.15.0,>=1.14.0->tensorflow) (41.0.1)\n",
            "Requirement already satisfied: h5py in /usr/local/lib/python3.6/dist-packages (from keras-applications>=1.0.6->tensorflow) (2.8.0)\n",
            "Requirement already satisfied: joblib>=0.11 in /usr/local/lib/python3.6/dist-packages (from scikit-learn->sklearn) (0.13.2)\n",
            "Requirement already satisfied: scipy>=0.17.0 in /usr/local/lib/python3.6/dist-packages (from scikit-learn->sklearn) (1.3.0)\n"
          ],
          "name": "stdout"
        }
      ]
    },
    {
      "cell_type": "code",
      "metadata": {
        "id": "2MKuyXHGqhSV",
        "colab_type": "code",
        "colab": {}
      },
      "source": [
        "import pandas as pd\n",
        "df = pd.read_csv('data/housepricedata.csv')\n",
        "dataset = df.values\n",
        "train_X = dataset[:,0:10]\n",
        "train_Y = dataset[:,10]\n",
        "n_batches = int(train_X.shape[0]/batch_size)"
      ],
      "execution_count": 0,
      "outputs": []
    },
    {
      "cell_type": "code",
      "metadata": {
        "id": "NTPEu0tuqjqO",
        "colab_type": "code",
        "colab": {}
      },
      "source": [
        "min_max_scaler = preprocessing.MinMaxScaler()\n",
        "X_scale = min_max_scaler.fit_transform(train_X)\n",
        "train_X=X_scale"
      ],
      "execution_count": 0,
      "outputs": []
    },
    {
      "cell_type": "code",
      "metadata": {
        "id": "kfdHh2f6qlo_",
        "colab_type": "code",
        "colab": {}
      },
      "source": [
        "depth=len(np.unique(train_Y))\n",
        "indices=train_Y\n",
        "onehot_Y=tf.one_hot(indices, depth)\n",
        "with tf.Session() as sess:\n",
        "    onehot_Y=sess.run(onehot_Y)\n",
        "sess.close()"
      ],
      "execution_count": 0,
      "outputs": []
    },
    {
      "cell_type": "code",
      "metadata": {
        "id": "nldnzaDaqn32",
        "colab_type": "code",
        "colab": {
          "base_uri": "https://localhost:8080/",
          "height": 51
        },
        "outputId": "67dc8d39-43e5-4074-d59d-34a9d8d7be56"
      },
      "source": [
        "# Run optimization and test\n",
        "loss_history = []\n",
        "acc_history = []\n",
        "optim_history=[]\n",
        "\n",
        "X = tf.placeholder(tf.float32,shape=(batch_size,10), name=\"input\")\n",
        "Y = tf.placeholder(tf.float32,shape=(batch_size,2), name=\"label\")\n",
        "# Set model weights\n",
        "# Create weights and bias\n",
        "w = tf.Variable(tf.random_normal(shape=(10,2), stddev=0.1), name=\"weights\")\n",
        "b = tf.Variable(tf.zeros(shape=(1,2)), name='bias')\n",
        "\n",
        "# calculate scores\n",
        "logits = tf.matmul(X, w)+b\n",
        "\n",
        "# Entropy cost function and loss\n",
        "entropy = tf.nn.softmax_cross_entropy_with_logits(logits=logits,labels=Y)\n",
        "loss = tf.reduce_mean(entropy)\n",
        "\n",
        "# Define optimizer\n",
        "optimizer = tf.train.GradientDescentOptimizer(learning_rate=learning_rate).minimize(loss)\n",
        "#optimizer= tf.train.AdamOptimizer().minimize(loss)\n",
        "\n",
        "gd_step = tf.train.GradientDescentOptimizer(learning_rate).minimize(entropy)\n",
        "\n",
        "correct_mask = tf.equal(tf.argmax(logits, 1), tf.argmax(Y, 1))\n",
        "accuracy = tf.reduce_mean(tf.cast(correct_mask, tf.float32))\n",
        "\n",
        "iterations = len(train_Y*training_epochs)\n",
        "\n",
        "dataset = tf.data.Dataset.from_tensor_slices((train_X, onehot_Y))\n",
        "dataset = dataset.repeat(training_epochs).batch(batch_size)\n",
        "iterator = dataset.make_one_shot_iterator()\n",
        "\n",
        "data_X, data_Y = iterator.get_next()\n",
        "data_Y = tf.cast(data_Y, tf.int32)\n",
        "\n",
        "c1=[]\n",
        "\n",
        "\n",
        "with tf.Session() as sess, tqdm(total = iterations) as pbar:\n",
        "  sess.run(tf.global_variables_initializer())\n",
        "  for epoch in range(training_epochs):\n",
        "    try:\n",
        "      while True:\n",
        "        sess.run(gd_step, feed_dict={X: data_X.eval(), Y: data_Y.eval()})\n",
        "        pbar.update(batch_size)\n",
        "\n",
        "    except tf.errors.OutOfRangeError:\n",
        "      pass\n",
        "  dataset = tf.data.Dataset.from_tensor_slices((train_X, onehot_Y))\n",
        "  dataset = dataset.repeat(training_epochs).batch(batch_size)\n",
        "  iterator = dataset.make_one_shot_iterator()\n",
        "\n",
        "  data_X, data_Y = iterator.get_next()\n",
        "  data_Y = tf.cast(data_Y, tf.int32)\n",
        "  try:\n",
        "    while True:\n",
        "      ans = sess.run(accuracy, feed_dict={X: data_X.eval(), Y: data_Y.eval()})\n",
        "  except tf.errors.OutOfRangeError:\n",
        "    pass\n",
        "  print(\"Accuracy: {:.4}%\".format(ans*100))"
      ],
      "execution_count": 113,
      "outputs": [
        {
          "output_type": "stream",
          "text": [
            "10944it [00:03, 3626.03it/s]"
          ],
          "name": "stderr"
        },
        {
          "output_type": "stream",
          "text": [
            "Accuracy: 54.69%\n"
          ],
          "name": "stdout"
        },
        {
          "output_type": "stream",
          "text": [
            "\n"
          ],
          "name": "stderr"
        }
      ]
    },
    {
      "cell_type": "code",
      "metadata": {
        "id": "NJhAzuF18AAd",
        "colab_type": "code",
        "colab": {}
      },
      "source": [
        ""
      ],
      "execution_count": 0,
      "outputs": []
    }
  ]
}