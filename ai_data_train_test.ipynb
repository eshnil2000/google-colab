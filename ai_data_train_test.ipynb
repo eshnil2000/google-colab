{
  "nbformat": 4,
  "nbformat_minor": 0,
  "metadata": {
    "colab": {
      "name": "ai-data-train-test.ipynb",
      "version": "0.3.2",
      "provenance": [],
      "include_colab_link": true
    },
    "kernelspec": {
      "name": "python3",
      "display_name": "Python 3"
    }
  },
  "cells": [
    {
      "cell_type": "markdown",
      "metadata": {
        "id": "view-in-github",
        "colab_type": "text"
      },
      "source": [
        "<a href=\"https://colab.research.google.com/github/eshnil2000/google-colab/blob/master/ai_data_train_test.ipynb\" target=\"_parent\"><img src=\"https://colab.research.google.com/assets/colab-badge.svg\" alt=\"Open In Colab\"/></a>"
      ]
    },
    {
      "cell_type": "code",
      "metadata": {
        "id": "9bWYdWVNMTQR",
        "colab_type": "code",
        "colab": {
          "base_uri": "https://localhost:8080/",
          "height": 955
        },
        "outputId": "2add0c78-1cb9-454b-8525-e8f7ebf2b60b"
      },
      "source": [
        "!git clone https://github.com/eshnil2000/google-colab.git\n",
        "%cd google-colab/\n",
        "\n",
        "# Automated test ofneural network\n",
        "!python tests/test_nn.py\n",
        "\n",
        "# For manual testing, use the data below\n",
        "from dutils.dataset import DemoDataset\n",
        "d=DemoDataset(data_size=100,partition_size=5)\n",
        "\n",
        "print(\"Total number of points:\",len(d.data))\n",
        "print(\"No of training data points:\", d.training_data_group_size)\n",
        "print(\"No of testing data points:\",d.testing_data_group_size)\n",
        "print(\"Partition size:\",d.partition_size)\n",
        "print(\"No of partitioned data groups:\",d.num_data_groups)\n",
        "\n",
        "d.init_random_training_indexes()\n",
        "print(\"The indices of the training partitions are:\",d.training_partition)\n",
        "print(\"The indices of the testing partitions are:\",d.testing_partition)"
      ],
      "execution_count": 1,
      "outputs": [
        {
          "output_type": "stream",
          "text": [
            "fatal: destination path 'google-colab' already exists and is not an empty directory.\n",
            "/content/google-colab\n",
            "test_2lnn_load_dataset (__main__.TestDanku) ... dummy setup\n",
            "WARNING:tensorflow:From /usr/local/lib/python3.6/dist-packages/tensorflow/python/framework/op_def_library.py:263: colocate_with (from tensorflow.python.framework.ops) is deprecated and will be removed in a future version.\n",
            "Instructions for updating:\n",
            "Colocations handled automatically by placer.\n",
            "WARNING:tensorflow:From /content/google-colab/dutils/neural_network.py:130: softmax_cross_entropy_with_logits (from tensorflow.python.ops.nn_ops) is deprecated and will be removed in a future version.\n",
            "Instructions for updating:\n",
            "\n",
            "Future major versions of TensorFlow will allow gradients to flow\n",
            "into the labels input on backprop by default.\n",
            "\n",
            "See `tf.nn.softmax_cross_entropy_with_logits_v2`.\n",
            "\n",
            "ok\n",
            "test_3lnn_load_dataset (__main__.TestDanku) ... dummy setup\n",
            "ok\n",
            "test_5lnn_load_dataset (__main__.TestDanku) ... dummy setup\n",
            "ok\n",
            "test_create_2_layer_nn (__main__.TestDanku) ... dummy setup\n",
            "ok\n",
            "test_create_3_layer_nn (__main__.TestDanku) ... dummy setup\n",
            "ok\n",
            "test_create_5_layer_nn (__main__.TestDanku) ... dummy setup\n",
            "ok\n",
            "test_packing_biases (__main__.TestDanku) ... dummy setup\n",
            "ok\n",
            "test_packing_weights (__main__.TestDanku) ... dummy setup\n",
            "ok\n",
            "test_train_2lnn (__main__.TestDanku) ... dummy setup\n",
            "2019-06-07 18:26:44.475037: I tensorflow/core/platform/profile_utils/cpu_utils.cc:94] CPU Frequency: 2300000000 Hz\n",
            "2019-06-07 18:26:44.475331: I tensorflow/compiler/xla/service/service.cc:150] XLA service 0x2a54840 executing computations on platform Host. Devices:\n",
            "2019-06-07 18:26:44.475372: I tensorflow/compiler/xla/service/service.cc:158]   StreamExecutor device (0): <undefined>, <undefined>\n",
            "ok\n",
            "test_train_3lnn (__main__.TestDanku) ... dummy setup\n",
            "ok\n",
            "test_train_5lnn (__main__.TestDanku) ... dummy setup\n",
            "ok\n",
            "test_unpacking_biases (__main__.TestDanku) ... dummy setup\n",
            "ok\n",
            "test_unpacking_weights (__main__.TestDanku) ... dummy setup\n",
            "ok\n",
            "\n",
            "----------------------------------------------------------------------\n",
            "Ran 13 tests in 10.278s\n",
            "\n",
            "OK\n",
            "Total number of points: 100\n",
            "No of training data points: 70\n",
            "No of testing data points: 30\n",
            "Partition size: 5\n",
            "No of partitioned data groups: 20\n",
            "The indices of the training partitions are: [14, 1, 10, 0, 6, 18, 9, 17, 12, 8, 19, 16, 13, 3]\n",
            "The indices of the testing partitions are: [2, 4, 5, 7, 11, 15]\n"
          ],
          "name": "stdout"
        }
      ]
    },
    {
      "cell_type": "code",
      "metadata": {
        "id": "4LC45FoLMUJq",
        "colab_type": "code",
        "colab": {}
      },
      "source": [
        ""
      ],
      "execution_count": 0,
      "outputs": []
    }
  ]
}