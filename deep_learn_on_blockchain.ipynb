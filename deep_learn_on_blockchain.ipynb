{
  "nbformat": 4,
  "nbformat_minor": 0,
  "metadata": {
    "kernelspec": {
      "display_name": "Python 3",
      "language": "python",
      "name": "python3"
    },
    "language_info": {
      "codemirror_mode": {
        "name": "ipython",
        "version": 3
      },
      "file_extension": ".py",
      "mimetype": "text/x-python",
      "name": "python",
      "nbconvert_exporter": "python",
      "pygments_lexer": "ipython3",
      "version": "3.7.3"
    },
    "colab": {
      "name": "single-notebook-contract-interaction.ipynb",
      "version": "0.3.2",
      "provenance": [],
      "include_colab_link": true
    }
  },
 
  "cells": [

    {
      "cell_type": "markdown",
      "metadata": {
        "id": "view-in-github",
        "colab_type": "text"
      },
      "source": [
        "<a href=\"https://colab.research.google.com/github/eshnil2000/google-colab/blob/master/deep_learn_on_blockchain.ipynb\" target=\"_parent\"><img src=\"https://colab.research.google.com/assets/colab-badge.svg\" alt=\"Open In Colab\"/></a>"
      ]
    },

    {
      "cell_type": "code",
      "metadata": {
        "id": "1tm5y5ljcrqV",
        "colab_type": "code",
        "colab": {
          "base_uri": "https://localhost:8080/",
          "height": 1000
        },
        "outputId": "a5caeaa3-f824-4b25-db0e-900f1fdfc02a"
      },
      "source": [
        "#Install required modules\n",
        "#Install and import all required modules\n",
        "\n",
        "!git clone https://github.com/eshnil2000/google-colab.git\n",
        "%cd google-colab\n",
        "#prepare for eth-brownie installation\n",
        "!apt-get install libsnappy-dev\n",
        "!pip install python-snappy\n",
        "#install eth-brownie---MAKE SURE VERSION IS 1.0.0b7\n",
        "!pip uninstall typing-extensions -y\n",
        "!pip install typing-extensions==3.7.4.1\n",
        "!pip install eth-brownie==1.0.0b7\n",
        "#install solidity compiler\n",
        "!pip install py-solc-x\n",
        "import solcx\n",
        "#!apt-get install solc\n",
        "from solcx import get_solc_version, set_solc_version\n",
        "# set these versions if contracts are written in older versions\n",
        "solcx.install_solc('v0.4.19')\n",
        "set_solc_version('v0.4.19')\n",
        "\n",
        "#install node, npm, ganache-cli. eth-brownie relies on ganache-cli\n",
        "!apt-get install nodejs-dev node-gyp libssl1.0-dev\n",
        "!apt-get install npm\n",
        "!npm install n --g\n",
        "!n 10.15.3\n",
        "!npm install ganache-cli -g\n",
        "\n",
        "#install web3 to interact with ganache-cli\n",
        "!pip install web3\n",
        "import web3\n",
        "from web3 import Web3\n",
        "\n",
        "#compile the contracts\n",
        "#!brownie compile\n",
        "\n"
      ],
      "execution_count": 1,
      "outputs": [
        {
          "output_type": "stream",
          "text": [
            "fatal: destination path 'google-colab' already exists and is not an empty directory.\n",
            "/content/google-colab\n",
            "Reading package lists... Done\n",
            "Building dependency tree       \n",
            "Reading state information... Done\n",
            "libsnappy-dev is already the newest version (1.1.7-1).\n",
            "The following package was automatically installed and is no longer required:\n",
            "  libnvidia-common-410\n",
            "Use 'apt autoremove' to remove it.\n",
            "0 upgraded, 0 newly installed, 0 to remove and 7 not upgraded.\n",
            "Requirement already satisfied: python-snappy in /usr/local/lib/python3.6/dist-packages (0.5.4)\n",
            "Requirement already satisfied: eth-brownie in /usr/local/lib/python3.6/dist-packages (1.0.0b10)\n",
            "Requirement already satisfied: py-solc-x>=0.4.1 in /usr/local/lib/python3.6/dist-packages (from eth-brownie) (0.5.0)\n",
            "Requirement already satisfied: py-solc-ast<0.2.0,>=0.1.3 in /usr/local/lib/python3.6/dist-packages (from eth-brownie) (0.1.4)\n",
            "Requirement already satisfied: eth-account<0.4.0,>=0.2.1 in /usr/local/lib/python3.6/dist-packages (from eth-brownie) (0.3.0)\n",
            "Requirement already satisfied: eth-event>=0.1.4 in /usr/local/lib/python3.6/dist-packages (from eth-brownie) (0.1.4)\n",
            "Requirement already satisfied: pytest>=5.0.0 in /usr/local/lib/python3.6/dist-packages (from eth-brownie) (5.0.1)\n",
            "Requirement already satisfied: requests<3.0.0,>=2.16.0 in /usr/local/lib/python3.6/dist-packages (from eth-brownie) (2.21.0)\n",
            "Requirement already satisfied: semantic-version>=2.6.0 in /usr/local/lib/python3.6/dist-packages (from eth-brownie) (2.6.0)\n",
            "Requirement already satisfied: eth-abi<2.0.0,>=1.2.0 in /usr/local/lib/python3.6/dist-packages (from eth-brownie) (1.3.0)\n",
            "Requirement already satisfied: cytoolz<1.0.0,>=0.9.0; implementation_name == \"cpython\" in /usr/local/lib/python3.6/dist-packages (from eth-brownie) (0.10.0)\n",
            "Requirement already satisfied: eth-hash[pycryptodome]<1.0.0,>=0.2.0 in /usr/local/lib/python3.6/dist-packages (from eth-brownie) (0.2.0)\n",
            "Requirement already satisfied: websockets<7.0.0,>=6.0.0 in /usr/local/lib/python3.6/dist-packages (from eth-brownie) (6.0)\n",
            "Requirement already satisfied: psutil>=5.6.2 in /usr/local/lib/python3.6/dist-packages (from eth-brownie) (5.6.3)\n",
            "Requirement already satisfied: eth-utils<2.0.0,>=1.2.0 in /usr/local/lib/python3.6/dist-packages (from eth-brownie) (1.6.2)\n",
            "Requirement already satisfied: lru-dict<2.0.0,>=1.1.6 in /usr/local/lib/python3.6/dist-packages (from eth-brownie) (1.1.6)\n",
            "Requirement already satisfied: docopt==0.6.2 in /usr/local/lib/python3.6/dist-packages (from eth-brownie) (0.6.2)\n",
            "Requirement already satisfied: hexbytes<1.0.0,>=0.1.0 in /usr/local/lib/python3.6/dist-packages (from eth-brownie) (0.2.0)\n",
            "Requirement already satisfied: web3<5.0.0,>=4.9.1 in /usr/local/lib/python3.6/dist-packages (from eth-brownie) (4.9.2)\n",
            "Requirement already satisfied: attrdict<3,>=2.0.0 in /usr/local/lib/python3.6/dist-packages (from eth-account<0.4.0,>=0.2.1->eth-brownie) (2.0.1)\n",
            "Requirement already satisfied: eth-keys<0.3.0,>=0.2.0b3 in /usr/local/lib/python3.6/dist-packages (from eth-account<0.4.0,>=0.2.1->eth-brownie) (0.2.4)\n",
            "Requirement already satisfied: eth-rlp<1,>=0.1.2 in /usr/local/lib/python3.6/dist-packages (from eth-account<0.4.0,>=0.2.1->eth-brownie) (0.1.2)\n",
            "Requirement already satisfied: eth-keyfile<0.6.0,>=0.5.0 in /usr/local/lib/python3.6/dist-packages (from eth-account<0.4.0,>=0.2.1->eth-brownie) (0.5.1)\n",
            "Requirement already satisfied: packaging in /usr/local/lib/python3.6/dist-packages (from pytest>=5.0.0->eth-brownie) (19.0)\n",
            "Requirement already satisfied: pluggy<1.0,>=0.12 in /usr/local/lib/python3.6/dist-packages (from pytest>=5.0.0->eth-brownie) (0.12.0)\n",
            "Requirement already satisfied: wcwidth in /usr/local/lib/python3.6/dist-packages (from pytest>=5.0.0->eth-brownie) (0.1.7)\n",
            "Requirement already satisfied: importlib-metadata>=0.12 in /usr/local/lib/python3.6/dist-packages (from pytest>=5.0.0->eth-brownie) (0.18)\n",
            "Requirement already satisfied: more-itertools>=4.0.0 in /usr/local/lib/python3.6/dist-packages (from pytest>=5.0.0->eth-brownie) (7.1.0)\n",
            "Requirement already satisfied: py>=1.5.0 in /usr/local/lib/python3.6/dist-packages (from pytest>=5.0.0->eth-brownie) (1.8.0)\n",
            "Requirement already satisfied: atomicwrites>=1.0 in /usr/local/lib/python3.6/dist-packages (from pytest>=5.0.0->eth-brownie) (1.3.0)\n",
            "Requirement already satisfied: attrs>=17.4.0 in /usr/local/lib/python3.6/dist-packages (from pytest>=5.0.0->eth-brownie) (19.1.0)\n",
            "Requirement already satisfied: chardet<3.1.0,>=3.0.2 in /usr/local/lib/python3.6/dist-packages (from requests<3.0.0,>=2.16.0->eth-brownie) (3.0.4)\n",
            "Requirement already satisfied: urllib3<1.25,>=1.21.1 in /usr/local/lib/python3.6/dist-packages (from requests<3.0.0,>=2.16.0->eth-brownie) (1.24.3)\n",
            "Requirement already satisfied: idna<2.9,>=2.5 in /usr/local/lib/python3.6/dist-packages (from requests<3.0.0,>=2.16.0->eth-brownie) (2.8)\n",
            "Requirement already satisfied: certifi>=2017.4.17 in /usr/local/lib/python3.6/dist-packages (from requests<3.0.0,>=2.16.0->eth-brownie) (2019.6.16)\n",
            "Requirement already satisfied: parsimonious<0.9.0,>=0.8.0 in /usr/local/lib/python3.6/dist-packages (from eth-abi<2.0.0,>=1.2.0->eth-brownie) (0.8.1)\n",
            "Requirement already satisfied: eth-typing<3.0.0,>=2.0.0 in /usr/local/lib/python3.6/dist-packages (from eth-abi<2.0.0,>=1.2.0->eth-brownie) (2.1.0)\n",
            "Requirement already satisfied: toolz>=0.8.0 in /usr/local/lib/python3.6/dist-packages (from cytoolz<1.0.0,>=0.9.0; implementation_name == \"cpython\"->eth-brownie) (0.10.0)\n",
            "Requirement already satisfied: pycryptodome<4,>=3.6.6; extra == \"pycryptodome\" in /usr/local/lib/python3.6/dist-packages (from eth-hash[pycryptodome]<1.0.0,>=0.2.0->eth-brownie) (3.8.2)\n",
            "Requirement already satisfied: six in /usr/local/lib/python3.6/dist-packages (from attrdict<3,>=2.0.0->eth-account<0.4.0,>=0.2.1->eth-brownie) (1.12.0)\n",
            "Requirement already satisfied: rlp<2,>=0.6.0 in /usr/local/lib/python3.6/dist-packages (from eth-rlp<1,>=0.1.2->eth-account<0.4.0,>=0.2.1->eth-brownie) (1.1.0)\n",
            "Requirement already satisfied: pyparsing>=2.0.2 in /usr/local/lib/python3.6/dist-packages (from packaging->pytest>=5.0.0->eth-brownie) (2.4.0)\n",
            "Requirement already satisfied: zipp>=0.5 in /usr/local/lib/python3.6/dist-packages (from importlib-metadata>=0.12->pytest>=5.0.0->eth-brownie) (0.5.2)\n",
            "Requirement already satisfied: py-solc-x in /usr/local/lib/python3.6/dist-packages (0.5.0)\n",
            "Requirement already satisfied: semantic-version>=2.6.0 in /usr/local/lib/python3.6/dist-packages (from py-solc-x) (2.6.0)\n",
            "Requirement already satisfied: requests>=2.9.1 in /usr/local/lib/python3.6/dist-packages (from py-solc-x) (2.21.0)\n",
            "Requirement already satisfied: urllib3<1.25,>=1.21.1 in /usr/local/lib/python3.6/dist-packages (from requests>=2.9.1->py-solc-x) (1.24.3)\n",
            "Requirement already satisfied: idna<2.9,>=2.5 in /usr/local/lib/python3.6/dist-packages (from requests>=2.9.1->py-solc-x) (2.8)\n",
            "Requirement already satisfied: certifi>=2017.4.17 in /usr/local/lib/python3.6/dist-packages (from requests>=2.9.1->py-solc-x) (2019.6.16)\n",
            "Requirement already satisfied: chardet<3.1.0,>=3.0.2 in /usr/local/lib/python3.6/dist-packages (from requests>=2.9.1->py-solc-x) (3.0.4)\n",
            "solc v0.4.19 already installed at: /usr/local/lib/python3.6/dist-packages/solcx/bin/solc-v0.4.19\n",
            "Checking installed executable version @ /usr/local/lib/python3.6/dist-packages/solcx/bin/solc-v0.4.19\n",
            "Executing: /usr/local/lib/python3.6/dist-packages/solcx/bin/solc-v0.4.19 --version\n",
            "solc v0.4.19 successfully installed at: /usr/local/lib/python3.6/dist-packages/solcx/bin/solc-v0.4.19\n",
            "Using solc version v0.4.19\n",
            "Reading package lists... Done\n",
            "Building dependency tree       \n",
            "Reading state information... Done\n",
            "node-gyp is already the newest version (3.6.2-1ubuntu1).\n",
            "libssl1.0-dev is already the newest version (1.0.2n-1ubuntu5.3).\n",
            "nodejs-dev is already the newest version (8.10.0~dfsg-2ubuntu0.4).\n",
            "The following package was automatically installed and is no longer required:\n",
            "  libnvidia-common-410\n",
            "Use 'apt autoremove' to remove it.\n",
            "0 upgraded, 0 newly installed, 0 to remove and 7 not upgraded.\n",
            "Reading package lists... Done\n",
            "Building dependency tree       \n",
            "Reading state information... Done\n",
            "npm is already the newest version (3.5.2-0ubuntu4).\n",
            "The following package was automatically installed and is no longer required:\n",
            "  libnvidia-common-410\n",
            "Use 'apt autoremove' to remove it.\n",
            "0 upgraded, 0 newly installed, 0 to remove and 7 not upgraded.\n",
            "\u001b[K\u001b[?25h/usr/local/bin/n -> /usr/local/lib/node_modules/n/bin/n\n",
            "+ n@5.0.1\n",
            "updated 1 package in 0.5s\n",
            "  \u001b[36m installed\u001b[0m : \u001b[2mv10.15.3\u001b[0m\u001b[0m\n",
            "\u001b[K\u001b[?25h/usr/local/bin/ganache-cli -> /usr/local/lib/node_modules/ganache-cli/cli.js\n",
            "\u001b[K\u001b[?25h+ ganache-cli@6.5.0\n",
            "updated 1 package in 1.511s\n",
            "Requirement already satisfied: web3 in /usr/local/lib/python3.6/dist-packages (4.9.2)\n",
            "Requirement already satisfied: cytoolz<1.0.0,>=0.9.0; implementation_name == \"cpython\" in /usr/local/lib/python3.6/dist-packages (from web3) (0.10.0)\n",
            "Requirement already satisfied: eth-hash[pycryptodome]<1.0.0,>=0.2.0 in /usr/local/lib/python3.6/dist-packages (from web3) (0.2.0)\n",
            "Requirement already satisfied: websockets<7.0.0,>=6.0.0 in /usr/local/lib/python3.6/dist-packages (from web3) (6.0)\n",
            "Requirement already satisfied: requests<3.0.0,>=2.16.0 in /usr/local/lib/python3.6/dist-packages (from web3) (2.21.0)\n",
            "Requirement already satisfied: eth-utils<2.0.0,>=1.2.0 in /usr/local/lib/python3.6/dist-packages (from web3) (1.6.2)\n",
            "Requirement already satisfied: lru-dict<2.0.0,>=1.1.6 in /usr/local/lib/python3.6/dist-packages (from web3) (1.1.6)\n",
            "Requirement already satisfied: hexbytes<1.0.0,>=0.1.0 in /usr/local/lib/python3.6/dist-packages (from web3) (0.2.0)\n",
            "Requirement already satisfied: eth-account<0.4.0,>=0.2.1 in /usr/local/lib/python3.6/dist-packages (from web3) (0.3.0)\n",
            "Requirement already satisfied: eth-abi<2.0.0,>=1.2.0 in /usr/local/lib/python3.6/dist-packages (from web3) (1.3.0)\n",
            "Requirement already satisfied: toolz>=0.8.0 in /usr/local/lib/python3.6/dist-packages (from cytoolz<1.0.0,>=0.9.0; implementation_name == \"cpython\"->web3) (0.10.0)\n",
            "Requirement already satisfied: pycryptodome<4,>=3.6.6; extra == \"pycryptodome\" in /usr/local/lib/python3.6/dist-packages (from eth-hash[pycryptodome]<1.0.0,>=0.2.0->web3) (3.8.2)\n",
            "Requirement already satisfied: idna<2.9,>=2.5 in /usr/local/lib/python3.6/dist-packages (from requests<3.0.0,>=2.16.0->web3) (2.8)\n",
            "Requirement already satisfied: certifi>=2017.4.17 in /usr/local/lib/python3.6/dist-packages (from requests<3.0.0,>=2.16.0->web3) (2019.6.16)\n",
            "Requirement already satisfied: chardet<3.1.0,>=3.0.2 in /usr/local/lib/python3.6/dist-packages (from requests<3.0.0,>=2.16.0->web3) (3.0.4)\n",
            "Requirement already satisfied: urllib3<1.25,>=1.21.1 in /usr/local/lib/python3.6/dist-packages (from requests<3.0.0,>=2.16.0->web3) (1.24.3)\n",
            "Requirement already satisfied: eth-typing<3.0.0,>=1.0.0 in /usr/local/lib/python3.6/dist-packages (from eth-utils<2.0.0,>=1.2.0->web3) (2.1.0)\n",
            "Requirement already satisfied: eth-rlp<1,>=0.1.2 in /usr/local/lib/python3.6/dist-packages (from eth-account<0.4.0,>=0.2.1->web3) (0.1.2)\n",
            "Requirement already satisfied: eth-keyfile<0.6.0,>=0.5.0 in /usr/local/lib/python3.6/dist-packages (from eth-account<0.4.0,>=0.2.1->web3) (0.5.1)\n",
            "Requirement already satisfied: eth-keys<0.3.0,>=0.2.0b3 in /usr/local/lib/python3.6/dist-packages (from eth-account<0.4.0,>=0.2.1->web3) (0.2.4)\n",
            "Requirement already satisfied: attrdict<3,>=2.0.0 in /usr/local/lib/python3.6/dist-packages (from eth-account<0.4.0,>=0.2.1->web3) (2.0.1)\n",
            "Requirement already satisfied: parsimonious<0.9.0,>=0.8.0 in /usr/local/lib/python3.6/dist-packages (from eth-abi<2.0.0,>=1.2.0->web3) (0.8.1)\n",
            "Requirement already satisfied: rlp<2,>=0.6.0 in /usr/local/lib/python3.6/dist-packages (from eth-rlp<1,>=0.1.2->eth-account<0.4.0,>=0.2.1->web3) (1.1.0)\n",
            "Requirement already satisfied: six in /usr/local/lib/python3.6/dist-packages (from attrdict<3,>=2.0.0->eth-account<0.4.0,>=0.2.1->web3) (1.12.0)\n"
          ],
          "name": "stdout"
        }
      ]
    },    
    {
      "cell_type": "code",
      "metadata": {
        "id": "S3hkc3mku-mI",
        "colab_type": "code",
        "colab": {
          "base_uri": "https://localhost:8080/",
          "height": 231
        },
        "outputId": "70c0c008-e531-4c98-8e0a-ce49fd6490c3"
      },
      "source": [
        "\n",
        "#launch blockchain\n",
        "!brownie console &\n"
      ],
      "execution_count": 0,
      "outputs": [
        {
          "output_type": "stream",
          "text": [
            "Brownie v1.0.0b10 - Python development framework for Ethereum\n",
            "\n",
            "WARNING: 'test.revert_traceback' not found in the config file for this project. The default setting has been used.\n",
            "WARNING: 'solc.minify_source' not found in the config file for this project. The default setting has been used.\n",
            "Using solc version v0.4.19\n",
            "Compiling contracts...\n",
            "Optimizer: Enabled  Runs: 200\n",
            "Generating build data...\n",
            " - Danku_demo_final...\n",
            "Launching 'ganache-cli'...\n",
            "Brownie environment is ready.\n",
            ">>> "
          ],
          "name": "stdout"
        }
      ]
    },         
    {
      "cell_type": "code",
      "metadata": {
        "id": "G4HuTCLS9-1F",
        "colab_type": "code",
        "outputId": "bbf8e3bd-c00e-4bd7-8678-f06f33801439",
        "colab": {
          "base_uri": "https://localhost:8080/",
          "height": 323
        }
      },
      "source": [
        "#Import required modules & files\n",
        "%rm -rf /content/google-colab/\n",
        "!git clone https://github.com/eshnil2000/google-colab.git\n",
        "!pip install pandas matplotlib tensorflow numpy\n",
        "%tensorflow_version 1.13.1\n",
        "%cd google-colab\n",
        "!brownie compile\n",
        "\n",
        "import web3\n",
        "from web3 import Web3\n",
        "from brownie import network\n",
        "network.connect('development')\n",
        "web3=network.web3\n",
        "#web3 = Web3(Web3.HTTPProvider(\"http://localhost:8545\",request_kwargs={'timeout':60}))\n",
        "web3.isConnected()\n",
        "\n",
        "import config as cfg\n",
        "cfg.DEBUG='TRUE'\n",
        "import json\n",
        "\n",
        "#Read in the contract\n",
        "with open('contracts/Danku_demo_final.json') as json_file:  \n",
        "    data = json.load(json_file)\n"
      ],
      "execution_count": 1,
      "outputs": [
        {
          "output_type": "stream",
          "text": [
            "Cloning into 'google-colab'...\n",
            "remote: Enumerating objects: 92, done.\u001b[K\n",
            "remote: Counting objects:   1% (1/92)   \u001b[K\rremote: Counting objects:   2% (2/92)   \u001b[K\rremote: Counting objects:   3% (3/92)   \u001b[K\rremote: Counting objects:   4% (4/92)   \u001b[K\rremote: Counting objects:   5% (5/92)   \u001b[K\rremote: Counting objects:   6% (6/92)   \u001b[K\rremote: Counting objects:   7% (7/92)   \u001b[K\rremote: Counting objects:   8% (8/92)   \u001b[K\rremote: Counting objects:   9% (9/92)   \u001b[K\rremote: Counting objects:  10% (10/92)   \u001b[K\rremote: Counting objects:  11% (11/92)   \u001b[K\rremote: Counting objects:  13% (12/92)   \u001b[K\rremote: Counting objects:  14% (13/92)   \u001b[K\rremote: Counting objects:  15% (14/92)   \u001b[K\rremote: Counting objects:  16% (15/92)   \u001b[K\rremote: Counting objects:  17% (16/92)   \u001b[K\rremote: Counting objects:  18% (17/92)   \u001b[K\rremote: Counting objects:  19% (18/92)   \u001b[K\rremote: Counting objects:  20% (19/92)   \u001b[K\rremote: Counting objects:  21% (20/92)   \u001b[K\rremote: Counting objects:  22% (21/92)   \u001b[K\rremote: Counting objects:  23% (22/92)   \u001b[K\rremote: Counting objects:  25% (23/92)   \u001b[K\rremote: Counting objects:  26% (24/92)   \u001b[K\rremote: Counting objects:  27% (25/92)   \u001b[K\rremote: Counting objects:  28% (26/92)   \u001b[K\rremote: Counting objects:  29% (27/92)   \u001b[K\rremote: Counting objects:  30% (28/92)   \u001b[K\rremote: Counting objects:  31% (29/92)   \u001b[K\rremote: Counting objects:  32% (30/92)   \u001b[K\rremote: Counting objects:  33% (31/92)   \u001b[K\rremote: Counting objects:  34% (32/92)   \u001b[K\rremote: Counting objects:  35% (33/92)   \u001b[K\rremote: Counting objects:  36% (34/92)   \u001b[K\rremote: Counting objects:  38% (35/92)   \u001b[K\rremote: Counting objects:  39% (36/92)   \u001b[K\rremote: Counting objects:  40% (37/92)   \u001b[K\rremote: Counting objects:  41% (38/92)   \u001b[K\rremote: Counting objects:  42% (39/92)   \u001b[K\rremote: Counting objects:  43% (40/92)   \u001b[K\rremote: Counting objects:  44% (41/92)   \u001b[K\rremote: Counting objects:  45% (42/92)   \u001b[K\rremote: Counting objects:  46% (43/92)   \u001b[K\rremote: Counting objects:  47% (44/92)   \u001b[K\rremote: Counting objects:  48% (45/92)   \u001b[K\rremote: Counting objects:  50% (46/92)   \u001b[K\rremote: Counting objects:  51% (47/92)   \u001b[K\rremote: Counting objects:  52% (48/92)   \u001b[K\rremote: Counting objects:  53% (49/92)   \u001b[K\rremote: Counting objects:  54% (50/92)   \u001b[K\rremote: Counting objects:  55% (51/92)   \u001b[K\rremote: Counting objects:  56% (52/92)   \u001b[K\rremote: Counting objects:  57% (53/92)   \u001b[K\rremote: Counting objects:  58% (54/92)   \u001b[K\rremote: Counting objects:  59% (55/92)   \u001b[K\rremote: Counting objects:  60% (56/92)   \u001b[K\rremote: Counting objects:  61% (57/92)   \u001b[K\rremote: Counting objects:  63% (58/92)   \u001b[K\rremote: Counting objects:  64% (59/92)   \u001b[K\rremote: Counting objects:  65% (60/92)   \u001b[K\rremote: Counting objects:  66% (61/92)   \u001b[K\rremote: Counting objects:  67% (62/92)   \u001b[K\rremote: Counting objects:  68% (63/92)   \u001b[K\rremote: Counting objects:  69% (64/92)   \u001b[K\rremote: Counting objects:  70% (65/92)   \u001b[K\rremote: Counting objects:  71% (66/92)   \u001b[K\rremote: Counting objects:  72% (67/92)   \u001b[K\rremote: Counting objects:  73% (68/92)   \u001b[K\rremote: Counting objects:  75% (69/92)   \u001b[K\rremote: Counting objects:  76% (70/92)   \u001b[K\rremote: Counting objects:  77% (71/92)   \u001b[K\rremote: Counting objects:  78% (72/92)   \u001b[K\rremote: Counting objects:  79% (73/92)   \u001b[K\rremote: Counting objects:  80% (74/92)   \u001b[K\rremote: Counting objects:  81% (75/92)   \u001b[K\rremote: Counting objects:  82% (76/92)   \u001b[K\rremote: Counting objects:  83% (77/92)   \u001b[K\rremote: Counting objects:  84% (78/92)   \u001b[K\rremote: Counting objects:  85% (79/92)   \u001b[K\rremote: Counting objects:  86% (80/92)   \u001b[K\rremote: Counting objects:  88% (81/92)   \u001b[K\rremote: Counting objects:  89% (82/92)   \u001b[K\rremote: Counting objects:  90% (83/92)   \u001b[K\rremote: Counting objects:  91% (84/92)   \u001b[K\rremote: Counting objects:  92% (85/92)   \u001b[K\rremote: Counting objects:  93% (86/92)   \u001b[K\rremote: Counting objects:  94% (87/92)   \u001b[K\rremote: Counting objects:  95% (88/92)   \u001b[K\rremote: Counting objects:  96% (89/92)   \u001b[K\rremote: Counting objects:  97% (90/92)   \u001b[K\rremote: Counting objects:  98% (91/92)   \u001b[K\rremote: Counting objects: 100% (92/92)   \u001b[K\rremote: Counting objects: 100% (92/92), done.\u001b[K\n",
            "remote: Compressing objects: 100% (92/92), done.\u001b[K\n",
            "remote: Total 357 (delta 41), reused 0 (delta 0), pack-reused 265\u001b[K\n",
            "Receiving objects: 100% (357/357), 31.74 MiB | 33.78 MiB/s, done.\n",
            "Resolving deltas: 100% (170/170), done.\n",
            "/content/google-colab\n",
            "Brownie v1.0.0b10 - Python development framework for Ethereum\n",
            "\n",
            "WARNING: 'test.revert_traceback' not found in the config file for this project. The default setting has been used.\n",
            "WARNING: 'solc.minify_source' not found in the config file for this project. The default setting has been used.\n",
            "Using solc version v0.4.19\n",
            "Compiling contracts...\n",
            "Optimizer: Enabled  Runs: 200\n",
            "Generating build data...\n",
            " - Danku_demo_final...\n",
            "Brownie project has been compiled at /content/google-colab/build/contracts\n"
          ],
          "name": "stdout"
        }
      ]
    },
    {
      "cell_type": "code",
      "metadata": {
        "id": "GXxEmZUd9-1I",
        "colab_type": "code",
        "colab": {
          "base_uri": "https://localhost:8080/",
          "height": 34
        },
        "outputId": "a515bdf3-d63b-40f5-db6c-1a1e336f4042"
      },
      "source": [
        "#Check if connected to the blockchain\n",
        "print(\"Are we Connected to the local blockchain node?: \",web3.isConnected())\n",
        "\n",
        "#Prepare the contract for deployment\n",
        "web3.eth.defaultAccount=web3.eth.accounts[1]\n",
        "myContract = web3.eth.contract(abi=data['abi'], bytecode=data['bytecode'])\n"
      ],
      "execution_count": 31,
      "outputs": [
        {
          "output_type": "stream",
          "text": [
            "Are we Connected to the local blockchain node?:  True\n"
          ],
          "name": "stdout"
        }
      ]
    },
    {
      "cell_type": "code",
      "metadata": {
        "id": "iwXHia729-1L",
        "colab_type": "code",
        "colab": {}
      },
      "source": [
        "tx_hash=myContract.constructor().transact()"
      ],
      "execution_count": 0,
      "outputs": []
    },
    {
      "cell_type": "code",
      "metadata": {
        "id": "ia3FVADv9-1P",
        "colab_type": "code",
        "colab": {}
      },
      "source": [
        "#Confirmation of contract deployment\n",
        "tx_receipt = web3.eth.waitForTransactionReceipt(tx_hash)"
      ],
      "execution_count": 0,
      "outputs": []
    },
    {
      "cell_type": "code",
      "metadata": {
        "id": "lzehFDss9-1S",
        "colab_type": "code",
        "colab": {}
      },
      "source": [
        "# Create a handle to the contract instance with the newly-deployed address\n",
        "myContractaddress = web3.eth.contract(\n",
        "    address=tx_receipt.contractAddress,\n",
        "    abi=data['abi'],\n",
        ")"
      ],
      "execution_count": 0,
      "outputs": []
    },
    {
      "cell_type": "code",
      "metadata": {
        "id": "-403JpwQ9-1W",
        "colab_type": "code",
        "colab": {}
      },
      "source": [
        "#Install modules to read in training data, prepare Neural Network\n",
        "from dutils.dataset import DemoDataset\n",
        "from dutils.neural_network import NeuralNetwork\n",
        "import dutils.debug as dbg\n",
        "from secrets import randbelow\n",
        "from matplotlib import pyplot as plt\n",
        "import numpy as np"
      ],
      "execution_count": 0,
      "outputs": []
    },
    {
      "cell_type": "code",
      "metadata": {
        "id": "8knZIFk_9-1Z",
        "colab_type": "code",
        "colab": {}
      },
      "source": [
        "#Split data into training & test sets\n",
        "scd = DemoDataset(training_percentage=0.8,partition_size=5)\n",
        "#Generate Unique number for each partition\n",
        "scd.generate_nonce()\n",
        "#COmpute the unique hash of each group of data in each of the partitions\n",
        "scd.sha_all_data_groups()\n"
      ],
      "execution_count": 0,
      "outputs": []
    },
    {
      "cell_type": "code",
      "metadata": {
        "id": "4-JYUe0o-ugV",
        "colab_type": "code",
        "outputId": "9d28aead-af7f-456d-eb7f-93192c1fa0c6",
        "colab": {
          "base_uri": "https://localhost:8080/",
          "height": 241
        }
      },
      "source": [
        "print(\"The input data is\\n\",scd.data)\n",
        "print(\"The data is of length:\", len(scd.data), \" and split up into \",scd.num_data_groups, \" data partitions\")\n",
        "print(\"Each partition has a nonces/unique number \\n\",scd.nonce)\n",
        "print(\"Hashed byte value of each partition \\n\")\n",
        "print(scd.hashed_data_group)\n",
        "print(\"The number of training groups\\n\",scd.num_train_data_groups)\n",
        "print(\"Training data in format (latitude,longitude,party_voted):\")\n",
        "print(scd.train_data)"
      ],
      "execution_count": 35,
      "outputs": [
        {
          "output_type": "stream",
          "text": [
            "The input data is\n",
            " [(38377411, -121444429, 0), (32597482, -92708389, 1), (34032383, -119134300, 0), (37589246, -82945214, 1), (40507729, -80565292, 1), (33180820, -85941752, 1), (41420210, -83316860, 1), (36189441, -119851865, 1), (39798287, -88727157, 1), (42581749, -94030651, 1), (35520244, -84825054, 1), (35313130, -77177912, 1), (46984699, -95099350, 1), (36864233, -87409139, 1), (44104905, -83865674, 1), (31762219, -83876179, 1), (42490846, -112836032, 1), (39332488, -119613509, 1), (38281095, -87377340, 1), (33904480, -84862139, 1), (37398617, -83704908, 1), (31694842, -106299987, 0), (43031413, -85550267, 1), (46315267, -119371393, 1), (45978288, -108194508, 1), (44601118, -107788860, 1), (34532713, -85368362, 1), (35179148, -91259428, 1), (33978738, -91699077, 1), (30856633, -83526479, 1), (44991024, -123209356, 1), (45869606, -92302860, 1), (34603933, -96420055, 1), (40710521, -93130436, 1), (33435022, -83626885, 1), (42586029, -76801671, 1), (38122662, -85103096, 1), (43839613, -88543924, 1), (48290933, -101111794, 1), (40112009, -100106003, 1), (34706724, -112397730, 1), (40407173, -75984901, 1), (44580923, -95883387, 1), (38176762, -85521751, 0), (38890378, -89314242, 1), (27660127, -98517875, 0), (42321218, -104722426, 1), (38531698, -84035565, 1), (39771372, -77627020, 1), (40712066, -85468798, 1)]\n",
            "The data is of length: 50  and split up into  10  data partitions\n",
            "Each partition has a nonces/unique number \n",
            " [3631843225, 1468405202, 3056752909, 3517452015, 218274970, 133121983, 474851416, 474734795, 3545040475, 877373490]\n",
            "Hashed byte value of each partition \n",
            "\n",
            "[b\"\\x89^\\x1e\\xbc\\x91Ec\\x88\\x13'\\xea\\xae?\\x05\\x00\\xc9S!\\xe7/L8\\xc0K\\x02\\xda\\x80\\x1d/7\\xbd&\", b'\\x0c\\xbaJ\\x83\\xcd\\xa4*e\\xed\\xef7\\x94t\\xef\\xa7\\xde1\\xben\\xdf*\\xde\\xb7\\xea\\xd1\\xcb\\xd5\\xe8\\x00\\t\\xad\\xbc', b'7\\x7f1]\\\\2\\xa1]\\xc8d\\x156\\xcb\\x9d\\tmq\\xfd\\x0e\\xcdz\\xbe\\xd6{/V\\xa0pA|\\x0fd', b'\\x98fu| \\xcf\\xa5&\\xf5#&\\x07\\x91_\\xd9\\x99o\\xb8\\xa4\\xaf<\\xa6\\xe4\\xec\\xd2L\\x11D\\x110\\xd8\\xf8', b'\\xde\\xde(\\x86j\\x03mCX\\x85\\x85F\\xc0\\x85n\\xae\\xf5\\x01\\xb9\\xf9\\xd0L\\x969\\xa0\\x19Gh\\xd7FlA', b'\\xf0&\\xc0O\\x9f\\x12\\t \\x01\\xb9\\x8f\\x0fq~\\x82\\x97\\xed\\xe5\\x8c\\x06\\xd5G\\x80\\xde[\\x82\\xdd\\x12Q\\xb2o<', b'\\x1c\\x8e%\\xd3\\xcf+\\x83`\\xddk\\xee\\x80\\xa0\\xe4H\\rG\\xa78\\xa2\\xdf\\xd4\\x009\\xd3\\xef\\xe97pe\\x8c ', b'\\xe2\\x1dSe@\\xcft\\x90\\xf7$\\xc8\\x87\\xa4J\\xb4\\n,#\\xdf\\xbe\\xf4t#R:\\x0cHDF\\x17\\x89\\x0c', b'\\xc7\\x08\\xf9O\\xb6\\xdc$\\x17J\\x83\\x8fN\\xda\\x13\\x84\\x1b\\x10\\x8fOy\\xd8\\xa2W\\xed\\xbc,\\x85&@`\\xa6m', b'|\\xc1\\x81\\xa8\\xec\\x84\\x8c\\x0f\\xa2\\xa5^\\x1b\\xf2j\\x1d\\x85\\xdfo\\xfd\\x93p[0r\\x0fKhJ\\xac\\xf52\\xfc']\n",
            "The number of training groups\n",
            " 8\n",
            "Training data in format (latitude,longitude,party_voted):\n",
            "[(33180820, -85941752, 1), (41420210, -83316860, 1), (36189441, -119851865, 1), (39798287, -88727157, 1), (42581749, -94030651, 1), (44991024, -123209356, 1), (45869606, -92302860, 1), (34603933, -96420055, 1), (40710521, -93130436, 1), (33435022, -83626885, 1), (44601118, -107788860, 1), (34532713, -85368362, 1), (35179148, -91259428, 1), (33978738, -91699077, 1), (30856633, -83526479, 1), (34706724, -112397730, 1), (40407173, -75984901, 1), (44580923, -95883387, 1), (38176762, -85521751, 0), (38890378, -89314242, 1), (42586029, -76801671, 1), (38122662, -85103096, 1), (43839613, -88543924, 1), (48290933, -101111794, 1), (40112009, -100106003, 1), (27660127, -98517875, 0), (42321218, -104722426, 1), (38531698, -84035565, 1), (39771372, -77627020, 1), (40712066, -85468798, 1), (37398617, -83704908, 1), (31694842, -106299987, 0), (43031413, -85550267, 1), (46315267, -119371393, 1), (45978288, -108194508, 1), (35520244, -84825054, 1), (35313130, -77177912, 1), (46984699, -95099350, 1), (36864233, -87409139, 1), (44104905, -83865674, 1)]\n"
          ],
          "name": "stdout"
        }
      ]
    },
    {
      "cell_type": "code",
      "metadata": {
        "id": "o0X7eikv9-1e",
        "colab_type": "code",
        "colab": {}
      },
      "source": [
        "offer_account = web3.eth.accounts[1]\n",
        "solver_account = web3.eth.accounts[2]\n",
        "_hashed_data_groups = []\n",
        "accuracy_criteria = 5000 # 50.00%\n",
        "#total_gas_used = 0\n",
        "timeout = 180\n",
        "w_scale = 1000 # Scale up weights by 1000x\n",
        "b_scale = 1000 # Scale up biases by 1000x"
      ],
      "execution_count": 0,
      "outputs": []
    },
    {
      "cell_type": "code",
      "metadata": {
        "id": "-6UBnCtC2Oky",
        "colab_type": "code",
        "colab": {
          "base_uri": "https://localhost:8080/",
          "height": 34
        },
        "outputId": "5d07a2a2-98c5-4c7d-a095-15f81a73328d"
      },
      "source": [
        "print('My contract is deployed at address: ', myContractaddress.address)"
      ],
      "execution_count": 37,
      "outputs": [
        {
          "output_type": "stream",
          "text": [
            "My contract is deployed at address:  0x2Bb749822255014A662956183a5D6c3E8Ff24712\n"
          ],
          "name": "stdout"
        }
      ]
    },
    {
      "cell_type": "code",
      "metadata": {
        "id": "5zaaL9BD4lMU",
        "colab_type": "code",
        "colab": {
          "base_uri": "https://localhost:8080/",
          "height": 68
        },
        "outputId": "f544936d-b7fa-4bc1-ebfa-d8bf69b4de17"
      },
      "source": [
        "#Check initial balances\n",
        "print('initial balance of the Primary Challenge Offerer account is: ', web3.eth.getBalance(offer_account))\n",
        "print('initial balance of the Solver  account is: ', web3.eth.getBalance(solver_account))\n",
        "print('initial balance of the COntract  account is: ', web3.eth.getBalance(myContractaddress.address))\n",
        "\n",
        "\n"
      ],
      "execution_count": 38,
      "outputs": [
        {
          "output_type": "stream",
          "text": [
            "initial balance of the Primary Challenge Offerer account is:  99801888960000000000\n",
            "initial balance of the Solver  account is:  100000000000000000000\n",
            "initial balance of the COntract  account is:  0\n"
          ],
          "name": "stdout"
        }
      ]
    },
    {
      "cell_type": "code",
      "metadata": {
        "id": "zz8PQVG04xty",
        "colab_type": "code",
        "colab": {
          "base_uri": "https://localhost:8080/",
          "height": 51
        },
        "outputId": "32c94ba8-aaa5-477c-bd0d-4117297641d4"
      },
      "source": [
        "# Fund contract\n",
        "fund_tx = web3.eth.sendTransaction({\n",
        "    'from': offer_account,\n",
        "    'to': myContractaddress.address,\n",
        "    'value': web3.toWei(1, \"ether\")\n",
        "})\n",
        "print('After funding, balance of the COntract  account is: ', web3.eth.getBalance(myContractaddress.address))\n",
        "print('After funding, balance of the Primary Challenge Offerer account is: ', web3.eth.getBalance(offer_account))\n"
      ],
      "execution_count": 39,
      "outputs": [
        {
          "output_type": "stream",
          "text": [
            "After funding, balance of the COntract  account is:  1000000000000000000\n",
            "After funding, balance of the Primary Challenge Offerer account is:  98801468160000000000\n"
          ],
          "name": "stdout"
        }
      ]
    },
    {
      "cell_type": "code",
      "metadata": {
        "id": "wt6SEA_n9-1j",
        "colab_type": "code",
        "colab": {}
      },
      "source": [
        "init1_tx=myContractaddress.functions.init1(scd.hashed_data_group, accuracy_criteria,offer_account)\n",
        "init1_tx_hash=init1_tx.transact()\n",
        "\n",
        "init2_tx=myContractaddress.functions.init2().transact()\n"
      ],
      "execution_count": 0,
      "outputs": []
    },
    {
      "cell_type": "code",
      "metadata": {
        "id": "vimT_svw9-1p",
        "colab_type": "code",
        "colab": {}
      },
      "source": [
        "# Get training & testing partition numbers from the Contract. These are randomly generated on the contract\n",
        "training_partition = list(map(lambda x: myContractaddress.functions.training_partition(x).call(),range(scd.num_train_data_groups)))\n",
        "testing_partition = list(map(lambda x: myContractaddress.functions.training_partition(x).call(),range(scd.num_test_data_groups)))\n",
        "scd.partition_dataset(training_partition, testing_partition)\n"
      ],
      "execution_count": 0,
      "outputs": []
    },
    {
      "cell_type": "code",
      "metadata": {
        "id": "jKw5J50H9-1u",
        "colab_type": "code",
        "outputId": "afe15579-6233-45ef-f241-e8a2c9e4672a",
        "colab": {
          "base_uri": "https://localhost:8080/",
          "height": 289
        }
      },
      "source": [
        "def scale_packed_data(data, scale):\n",
        "    # Scale data and convert it to an integer\n",
        "    return list(map(lambda x: int(x*scale), data))\n",
        "\n",
        "training_nonces = []\n",
        "training_data = []\n",
        "for i in training_partition:\n",
        "    training_nonces.append(scd.nonce[i])\n",
        "# Pack data into a 1-dimension array\n",
        "# Since the data array is too large, we're going to send them in single data group chunks\n",
        "train_data = scd.pack_data(scd.train_data)\n",
        "test_data = scd.pack_data(scd.test_data)\n",
        "\n",
        "init3_tx = []\n",
        "for i in range(len(training_partition)):\n",
        "    start = i*scd.dps*scd.partition_size\n",
        "    end = start + scd.dps*scd.partition_size\n",
        "    dbg.dprint(\"(\" + str(training_partition[i]) + \") Train data,nonce: \" + str(train_data[start:end]) + \",\" + str(scd.train_nonce[i]))\n",
        "    iter_tx = myContractaddress.functions.init3(train_data[start:end], scd.train_nonce[i])\n",
        "    iter_receipt = iter_tx.transact()\n",
        "    init3_tx.append(iter_tx)\n"
      ],
      "execution_count": 42,
      "outputs": [
        {
          "output_type": "stream",
          "text": [
            "(1) Train data,nonce: [33180820, -85941752, 1, 41420210, -83316860, 1, 36189441, -119851865, 1, 39798287, -88727157, 1, 42581749, -94030651, 1],1468405202\n",
            "\n",
            "(5) Train data,nonce: [44991024, -123209356, 1, 45869606, -92302860, 1, 34603933, -96420055, 1, 40710521, -93130436, 1, 33435022, -83626885, 1],474851416\n",
            "\n",
            "(8) Train data,nonce: [44601118, -107788860, 1, 34532713, -85368362, 1, 35179148, -91259428, 1, 33978738, -91699077, 1, 30856633, -83526479, 1],133121983\n",
            "\n",
            "(3) Train data,nonce: [34706724, -112397730, 1, 40407173, -75984901, 1, 44580923, -95883387, 1, 38176762, -85521751, 0, 38890378, -89314242, 1],3545040475\n",
            "\n",
            "(6) Train data,nonce: [42586029, -76801671, 1, 38122662, -85103096, 1, 43839613, -88543924, 1, 48290933, -101111794, 1, 40112009, -100106003, 1],474734795\n",
            "\n",
            "(4) Train data,nonce: [27660127, -98517875, 0, 42321218, -104722426, 1, 38531698, -84035565, 1, 39771372, -77627020, 1, 40712066, -85468798, 1],877373490\n",
            "\n",
            "(7) Train data,nonce: [37398617, -83704908, 1, 31694842, -106299987, 0, 43031413, -85550267, 1, 46315267, -119371393, 1, 45978288, -108194508, 1],218274970\n",
            "\n",
            "(0) Train data,nonce: [35520244, -84825054, 1, 35313130, -77177912, 1, 46984699, -95099350, 1, 36864233, -87409139, 1, 44104905, -83865674, 1],3056752909\n",
            "\n"
          ],
          "name": "stdout"
        }
      ]
    },
    {
      "cell_type": "code",
      "metadata": {
        "id": "9bbQuq949-11",
        "colab_type": "code",
        "outputId": "a1fe53fd-f0ef-4575-efd5-7285610d5547",
        "colab": {
          "base_uri": "https://localhost:8080/",
          "height": 71
        }
      },
      "source": [
        "# Get the training data from the contract\n",
        "contract_train_data_length = myContractaddress.functions.get_train_data_length().call()\n",
        "contract_train_data = []\n",
        "for i in range(contract_train_data_length):\n",
        "    for j in range(scd.dps):\n",
        "        contract_train_data.append(myContractaddress.functions.train_data(i,j).call())\n",
        "contract_train_data = scd.unpack_data(contract_train_data)\n",
        "dbg.dprint(\"Contract training data: \" + str(contract_train_data))"
      ],
      "execution_count": 43,
      "outputs": [
        {
          "output_type": "stream",
          "text": [
            "Contract training data: [(33180820, -85941752, 1), (41420210, -83316860, 1), (36189441, -119851865, 1), (39798287, -88727157, 1), (42581749, -94030651, 1), (44991024, -123209356, 1), (45869606, -92302860, 1), (34603933, -96420055, 1), (40710521, -93130436, 1), (33435022, -83626885, 1), (44601118, -107788860, 1), (34532713, -85368362, 1), (35179148, -91259428, 1), (33978738, -91699077, 1), (30856633, -83526479, 1), (34706724, -112397730, 1), (40407173, -75984901, 1), (44580923, -95883387, 1), (38176762, -85521751, 0), (38890378, -89314242, 1), (42586029, -76801671, 1), (38122662, -85103096, 1), (43839613, -88543924, 1), (48290933, -101111794, 1), (40112009, -100106003, 1), (27660127, -98517875, 0), (42321218, -104722426, 1), (38531698, -84035565, 1), (39771372, -77627020, 1), (40712066, -85468798, 1), (37398617, -83704908, 1), (31694842, -106299987, 0), (43031413, -85550267, 1), (46315267, -119371393, 1), (45978288, -108194508, 1), (35520244, -84825054, 1), (35313130, -77177912, 1), (46984699, -95099350, 1), (36864233, -87409139, 1), (44104905, -83865674, 1)]\n",
            "\n"
          ],
          "name": "stdout"
        }
      ]
    },
    {
      "cell_type": "code",
      "metadata": {
        "id": "Y642Zgzb9-18",
        "colab_type": "code",
        "outputId": "69959c40-ddfc-43fd-ac66-68d7b0345f99",
        "colab": {
          "base_uri": "https://localhost:8080/",
          "height": 289
        }
      },
      "source": [
        "#Neural Network structure\n",
        "il_nn = 2  #Input layer\n",
        "hl_nn = [] # hidden layers\n",
        "ol_nn = 2 # output layer\n",
        "#End Neural Network structure\n",
        "\n",
        "# Train a neural network with contract data\n",
        "nn = NeuralNetwork(il_nn, hl_nn, ol_nn, 0.001, 5, 5, 1)\n",
        "contract_train_data = nn.binary_2_one_hot(contract_train_data)\n",
        "nn.load_train_data(contract_train_data)\n",
        "nn.init_network()\n",
        "nn.train()\n",
        "trained_weights = nn.weights\n",
        "trained_biases = nn.bias"
      ],
      "execution_count": 44,
      "outputs": [
        {
          "output_type": "stream",
          "text": [
            "Step 1, Loss= 149581520.0000, Training Accuracy= 0.000\n",
            "\n",
            "Step 2, Loss= 154462256.0000, Training Accuracy= 0.000\n",
            "\n",
            "Step 3, Loss= 141640416.0000, Training Accuracy= 0.000\n",
            "\n",
            "Step 4, Loss= 120016832.0000, Training Accuracy= 0.200\n",
            "\n",
            "Step 5, Loss= 153178752.0000, Training Accuracy= 0.000\n",
            "\n",
            "Training Finished!\n",
            "\n",
            "Saving weights...\n",
            "\n",
            "Weights saved!\n",
            "\n"
          ],
          "name": "stdout"
        }
      ]
    },
    {
      "cell_type": "code",
      "metadata": {
        "id": "_XOZHSWR9-2B",
        "colab_type": "code",
        "outputId": "312a97cf-a0bb-4417-8090-4e9e8188e1de",
        "colab": {
          "base_uri": "https://localhost:8080/",
          "height": 272
        }
      },
      "source": [
        "dbg.dprint(\"Trained weights: \" + str(trained_weights))\n",
        "dbg.dprint(\"Trained biases: \" + str(trained_biases))\n",
        "\n",
        "packed_trained_weights = nn.pack_weights(trained_weights)\n",
        "dbg.dprint(\"Packed weights: \" + str(packed_trained_weights))\n",
        "\n",
        "packed_trained_biases = nn.pack_biases(trained_biases)\n",
        "dbg.dprint(\"Packed biases: \" + str(packed_trained_biases))\n",
        "\n",
        "int_packed_trained_weights = scale_packed_data(packed_trained_weights,\\\n",
        "        w_scale)\n",
        "dbg.dprint(\"Packed integer weights: \" + str(int_packed_trained_weights))\n",
        "\n",
        "int_packed_trained_biases = scale_packed_data(packed_trained_biases,\\\n",
        "        b_scale)\n",
        "dbg.dprint(\"Packed integer biases: \" + str(int_packed_trained_biases))\n",
        "\n",
        "dbg.dprint(\"Solver address: \" + str(solver_account))"
      ],
      "execution_count": 45,
      "outputs": [
        {
          "output_type": "stream",
          "text": [
            "Trained weights: [array([[ 1.534128  , -0.42900813],\n",
            "       [-0.23927125,  0.53085786]], dtype=float32)]\n",
            "\n",
            "Trained biases: [array([ 0.81253403, -1.584769  ], dtype=float32)]\n",
            "\n",
            "Packed weights: [1.534128, -0.42900813, -0.23927125, 0.53085786]\n",
            "\n",
            "Packed biases: [0.81253403, -1.584769]\n",
            "\n",
            "Packed integer weights: [1534, -429, -239, 530]\n",
            "\n",
            "Packed integer biases: [812, -1584]\n",
            "\n",
            "Solver address: 0xF272bAa1644A5DEf49e781bC946aaE8E0584b3A0\n",
            "\n"
          ],
          "name": "stdout"
        }
      ]
    },
    {
      "cell_type": "code",
      "metadata": {
        "id": "a0q7-IBK9-2F",
        "colab_type": "code",
        "outputId": "2e0ad205-fe1e-4688-80c1-7f21cf4d33a6",
        "colab": {
          "base_uri": "https://localhost:8080/",
          "height": 51
        }
      },
      "source": [
        "current_level=myContractaddress.functions.init_level().call()\n",
        "#dbg.dprint(str(current_level))\n",
        "solver_account=web3.eth.accounts[0]\n",
        "# Submit the solution to the contract\n",
        "submit_tx = myContractaddress.functions.submit_model(solver_account, il_nn, ol_nn, hl_nn,int_packed_trained_weights, int_packed_trained_biases).transact()\n",
        "dbg.dprint(\"Submit TX: \" + str(submit_tx))\n"
      ],
      "execution_count": 46,
      "outputs": [
        {
          "output_type": "stream",
          "text": [
            "Submit TX: b'%X\\xe6\\x8b\\xe2\\xdf\\x0f%\\x1cjVZ\\x0ca\\xe0P\\x18\\xfd\\xa0w\\xe0E\\xdf\\xa1\\x90\\xb7\\xb6\\x93\\xad\\x9dV\\x03'\n",
            "\n"
          ],
          "name": "stdout"
        }
      ]
    },
    {
      "cell_type": "code",
      "metadata": {
        "id": "bR6N9s9m9-2I",
        "colab_type": "code",
        "outputId": "c0d17c11-8d4d-4728-e7dc-1140c2de5add",
        "colab": {
          "base_uri": "https://localhost:8080/",
          "height": 153
        }
      },
      "source": [
        "# Reveal the testing dataset after the submission period ends\n",
        "reveal_tx = []\n",
        "for i in range(len(testing_partition)):\n",
        "    start = i*scd.dps*scd.partition_size\n",
        "    end = start + scd.dps*scd.partition_size\n",
        "    dbg.dprint(\"(\" + str(testing_partition[i]) + \") Test data,nonce: \" + str(test_data[start:end]) + \",\" + str(scd.test_nonce[i]))\n",
        "    iter_tx = myContractaddress.functions.reveal_test_data(test_data[start:end], scd.test_nonce[i]).transact()\n",
        "    dbg.dprint(\"Reveal test data iter \" + str(i) )\n",
        "    reveal_tx.append(iter_tx)"
      ],
      "execution_count": 47,
      "outputs": [
        {
          "output_type": "stream",
          "text": [
            "(1) Test data,nonce: [33180820, -85941752, 1, 41420210, -83316860, 1, 36189441, -119851865, 1, 39798287, -88727157, 1, 42581749, -94030651, 1],1468405202\n",
            "\n",
            "Reveal test data iter 0\n",
            "\n",
            "(5) Test data,nonce: [44991024, -123209356, 1, 45869606, -92302860, 1, 34603933, -96420055, 1, 40710521, -93130436, 1, 33435022, -83626885, 1],474851416\n",
            "\n",
            "Reveal test data iter 1\n",
            "\n"
          ],
          "name": "stdout"
        }
      ]
    },
    {
      "cell_type": "code",
      "metadata": {
        "id": "a-DAZH1A9-2L",
        "colab_type": "code",
        "outputId": "b66f584e-3cbc-41d1-ab61-8886c970cdf5",
        "colab": {
          "base_uri": "https://localhost:8080/",
          "height": 51
        }
      },
      "source": [
        "# Finalize the contract\n",
        "final_tx = myContractaddress.functions.finalize_contract().transact()\n",
        "contract_finalized = myContractaddress.functions.contract_terminated().call()\n",
        "dbg.dprint(\"Contract finalized: \" + str(contract_finalized))\n",
        "\n"
      ],
      "execution_count": 48,
      "outputs": [
        {
          "output_type": "stream",
          "text": [
            "Contract finalized: True\n",
            "\n"
          ],
          "name": "stdout"
        }
      ]
    },
    {
      "cell_type": "code",
      "metadata": {
        "id": "rZw-nMxp9-2P",
        "colab_type": "code",
        "outputId": "38f4907c-13d1-4995-d7f4-ba0c46a599ba",
        "colab": {
          "base_uri": "https://localhost:8080/",
          "height": 85
        }
      },
      "source": [
        "# Get best submission accuracy & ID\n",
        "best_submission_accuracy = myContractaddress.functions.best_submission_accuracy().call()\n",
        "best_submission_index = myContractaddress.functions.best_submission_index().call()\n",
        "\n",
        "dbg.dprint(\"Best submission ID: \" + str(best_submission_index))\n",
        "dbg.dprint(\"Best submission accuracy: \" + str(best_submission_accuracy))# Since the data array is too large, we're going to send them in single data group chunks\n",
        "train_data = scd.pack_data(scd.train_data)\n",
        "test_data = scd.pack_data(scd.test_data)\n",
        "\n",
        "#Build the Neural Network\n",
        "#Number of neurons in input layer\n",
        "il_nn=2\n",
        "#Hidden layers: each element represents number of neurons in that layer\n",
        "hl_nn = []\n",
        "#Number of neurons in output layer\n",
        "ol_nn = 2\n",
        "\n",
        "l_nn = [il_nn] + hl_nn + [ol_nn]\n",
        "input_layer = train_data[:2]\n",
        "hidden_layers = [0] * sum(hl_nn)\n",
        "output_layer = [0] * ol_nn\n",
        "weights = int_packed_trained_weights\n",
        "biases = int_packed_trained_biases\n",
        "# Test forward\n",
        "fwd_pass2 = myContractaddress.functions.forward_pass2(l_nn, input_layer, hidden_layers, output_layer, weights, biases).call()\n"
      ],
      "execution_count": 49,
      "outputs": [
        {
          "output_type": "stream",
          "text": [
            "Best submission ID: 0\n",
            "\n",
            "Best submission accuracy: 0\n",
            "\n"
          ],
          "name": "stdout"
        }
      ]
    },
    {
      "cell_type": "code",
      "metadata": {
        "id": "jZGG8eEO9-2U",
        "colab_type": "code",
        "outputId": "b4e9ea07-40bf-416c-f45a-abcbc736097a",
        "colab": {
          "base_uri": "https://localhost:8080/",
          "height": 153
        }
      },
      "source": [
        "dbg.dprint(\"Test input: \" + str(train_data[:2]))\n",
        "dbg.dprint(\"Expected output: \" + str(train_data[2]))\n",
        "dbg.dprint(\"local nn prediction: \" + str(nn.predict([train_data[:2]])))\n",
        "\n",
        "dbg.dprint(\"forward_pass2: \" + str(fwd_pass2))\n",
        "\n",
        "#dbg.dprint(\"Total gas used: \" + str(total_gas_used))"
      ],
      "execution_count": 50,
      "outputs": [
        {
          "output_type": "stream",
          "text": [
            "Test input: [33180820, -85941752]\n",
            "\n",
            "Expected output: 1\n",
            "\n",
            "local nn prediction: [[-1.0328041e+08  1.7216830e+07]]\n",
            "\n",
            "forward_pass2: [8776839, 0]\n",
            "\n"
          ],
          "name": "stdout"
        }
      ]
    },
    {
      "cell_type": "code",
      "metadata": {
        "id": "Zg8PofNe9-2f",
        "colab_type": "code",
        "outputId": "c574eed5-f985-4d3b-9a84-6dd95a96c702",
        "colab": {
          "base_uri": "https://localhost:8080/",
          "height": 289
        }
      },
      "source": [
        "# Import the required modules, plot the data\n",
        "import pandas as pd\n",
        "import numpy as np\n",
        "import matplotlib.pyplot as plt\n",
        "\n",
        "scatter_x = np.array(list(map(lambda x: x[1:2][0], scd.data)))\n",
        "scatter_y = np.array(list(map(lambda x: x[:1][0], scd.data)))\n",
        "group = np.array(list(map(lambda x: x[2:3][0], scd.data)))\n",
        "cdict = {0: \"blue\", 1: \"red\"}\n",
        "\n",
        "fig, ax = plt.subplots()\n",
        "for g in np.unique(group):\n",
        "    ix = np.where(group == g)\n",
        "    ax.scatter(scatter_x[ix], scatter_y[ix], c = cdict[g], label = g, s = 4)\n",
        "ax.legend()\n",
        "plt.show()\n"
      ],
      "execution_count": 51,
      "outputs": [
        {
          "output_type": "display_data",
          "data": {
            "image/png": "[encoded data removed]",
            "text/plain": [
              "<Figure size 432x288 with 1 Axes>"
            ]
          },
          "metadata": {
            "tags": []
          }
        }
      ]
    },
    {
      "cell_type": "code",
      "metadata": {
        "id": "NY0H0eG9-ceF",
        "colab_type": "code",
        "colab": {
          "base_uri": "https://localhost:8080/",
          "height": 68
        },
        "outputId": "9af8d069-f414-434c-94dd-beaaa9d47a00"
      },
      "source": [
        "#Check initial balances\n",
        "print('Final balance of the Primary Challenge Offerer account is: ', web3.eth.getBalance(offer_account))\n",
        "print('Final balance of the Solver  account is: ', web3.eth.getBalance(solver_account))\n",
        "print('Final balance of the COntract  account is: ', web3.eth.getBalance(myContractaddress.address))\n"
      ],
      "execution_count": 52,
      "outputs": [
        {
          "output_type": "stream",
          "text": [
            "Final balance of the Primary Challenge Offerer account is:  99706639320000000000\n",
            "Final balance of the Solver  account is:  100000000000000000000\n",
            "Final balance of the COntract  account is:  0\n"
          ],
          "name": "stdout"
        }
      ]
    },
    {
      "cell_type": "code",
      "metadata": {
        "id": "GnkFGSjN5x1F",
        "colab_type": "code",
        "colab": {}
      },
      "source": [
        "#NOTE: Challenge Offerer is refunded Contract amount, if solution accuracy criteria is not met"
      ],
      "execution_count": 0,
      "outputs": []
    }
  ]
}
