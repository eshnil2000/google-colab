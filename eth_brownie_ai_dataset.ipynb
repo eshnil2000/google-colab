{
  "nbformat": 4,
  "nbformat_minor": 0,
  "metadata": {
    "colab": {
      "name": "eth-brownie-ai-dataset.ipynb",
      "version": "0.3.2",
      "provenance": [],
      "include_colab_link": true
    },
    "kernelspec": {
      "name": "python3",
      "display_name": "Python 3"
    }
  },
  "cells": [
    {
      "cell_type": "markdown",
      "metadata": {
        "id": "view-in-github",
        "colab_type": "text"
      },
      "source": [
        "<a href=\"https://colab.research.google.com/github/eshnil2000/google-colab/blob/master/eth_brownie_ai_dataset.ipynb\" target=\"_parent\"><img src=\"https://colab.research.google.com/assets/colab-badge.svg\" alt=\"Open In Colab\"/></a>"
      ]
    },
    {
      "cell_type": "code",
      "metadata": {
        "id": "RqsSYuJVej-G",
        "colab_type": "code",
        "colab": {
          "base_uri": "https://localhost:8080/",
          "height": 479
        },
        "outputId": "6ed339ec-1d86-4752-99a3-50c8d2b6d7bd"
      },
      "source": [
        "# download ai repo\n",
        "!git clone https://github.com/eshnil2000/danku-ai-blockchain.git\n",
        "%cd /content/danku-ai-blockchain\n",
        "import tensorflow as tf\n",
        "## import required modules\n",
        "from dutils.dataset import DemoDataset, SampleCircleDataset, SampleAcrossCornerDataset\n",
        "from dutils.neural_network import NeuralNetwork\n",
        "import dutils.debug as dbg\n",
        "from secrets import randbelow\n",
        "import web3\n",
        "import numpy as np\n",
        "import matplotlib.pyplot as plt\n",
        "\n",
        "## Initialize data \n",
        "scd = DemoDataset(training_percentage=0.8,partition_size=5)\n",
        "\n",
        "scatter_x = np.array(list(map(lambda x: x[1:2][0], scd.data)))\n",
        "scatter_y = np.array(list(map(lambda x: x[:1][0], scd.data)))\n",
        "\n",
        "group = np.array(list(map(lambda x: x[2:3][0], scd.data)))\n",
        "\n",
        "cdict = {0: \"blue\", 1: \"red\"}\n",
        "\n",
        "fig, ax = plt.subplots()\n",
        "for g in np.unique(group):\n",
        "    ix = np.where(group == g)\n",
        "    ax.scatter(scatter_x[ix], scatter_y[ix], c = cdict[g], label = g, s = 4)\n",
        "ax.legend()\n",
        "plt.show()"
      ],
      "execution_count": 1,
      "outputs": [
        {
          "output_type": "stream",
          "text": [
            "Cloning into 'danku-ai-blockchain'...\n",
            "remote: Enumerating objects: 104, done.\u001b[K\n",
            "remote: Counting objects: 100% (104/104), done.\u001b[K\n",
            "remote: Compressing objects: 100% (83/83), done.\u001b[K\n",
            "remote: Total 104 (delta 36), reused 78 (delta 18), pack-reused 0\u001b[K\n",
            "Receiving objects: 100% (104/104), 6.02 MiB | 19.39 MiB/s, done.\n",
            "Resolving deltas: 100% (36/36), done.\n",
            "/content/danku-ai-blockchain\n"
          ],
          "name": "stdout"
        },
        {
          "output_type": "stream",
          "text": [
            "/usr/local/lib/python3.6/dist-packages/IPython/core/interactiveshell.py:2822: DtypeWarning: Columns (0) have mixed types. Specify dtype option on import or set low_memory=False.\n",
            "  if self.run_code(code, result):\n"
          ],
          "name": "stderr"
        },
        {
          "output_type": "display_data",
          "data": {
            "image/png": "[encoded data removed]",
            "text/plain": [
              "<Figure size 432x288 with 1 Axes>"
            ]
          },
          "metadata": {
            "tags": []
          }
        }
      ]
    }
  ]
}