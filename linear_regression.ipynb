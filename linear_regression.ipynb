{
 "cells": [
  
  {
      "cell_type": "markdown",
      "metadata": {
        "id": "view-in-github",
        "colab_type": "text"
      },
      "source": [
        "<a href=\"https://colab.research.google.com/github/eshnil2000/google-colab/blob/master/linear_regression.ipynb\" target=\"_parent\"><img src=\"https://colab.research.google.com/assets/colab-badge.svg\" alt=\"Open In Colab\"/></a>"
      ]
    },
  {
   "cell_type": "code",
   "execution_count": 1,
   "metadata": {},
   "outputs": [],
   "source": [
    "#Install required modules\n",
    "!pip install tensorflow numpy matplotlib\n",
    "import tensorflow as tf\n",
    "import numpy\n",
    "import matplotlib.pyplot as plt\n",
    "rng = numpy.random"
   ]
  },
  {
   "cell_type": "code",
   "execution_count": 2,
   "metadata": {},
   "outputs": [],
   "source": [
    "# Parameters\n",
    "learning_rate = 0.5\n",
    "training_epochs = 100\n",
    "display_step = 50"
   ]
  },
  {
   "cell_type": "code",
   "execution_count": 3,
   "metadata": {},
   "outputs": [],
   "source": [
    "# Training Data\n",
    "train_X = numpy.asarray([3.3,4.4,5.5,6.71,6.93,4.168,9.779,6.182,7.59,2.167,\n",
    "                         7.042,10.791,5.313,7.997,5.654,9.27,3.1])\n",
    "train_Y = numpy.asarray([1.7,2.76,2.09,3.19,1.694,1.573,3.366,2.596,2.53,1.221,\n",
    "                         2.827,3.465,1.65,2.904,2.42,2.94,1.3])\n",
    "n_samples = train_X.shape[0]"
   ]
  },
  {
   "cell_type": "code",
   "execution_count": 4,
   "metadata": {},
   "outputs": [],
   "source": [
    "# tf Graph Input\n",
    "X = tf.placeholder(\"float\")\n",
    "Y = tf.placeholder(\"float\")\n",
    "\n",
    "# Set model weights\n",
    "W = tf.Variable(rng.randn(), name=\"weight\")\n",
    "b = tf.Variable(rng.randn(), name=\"bias\")"
   ]
  },
  {
   "cell_type": "code",
   "execution_count": 5,
   "metadata": {},
   "outputs": [],
   "source": [
    "# Construct a linear model\n",
    "pred = tf.add(tf.multiply(X, W), b)"
   ]
  },
  {
   "cell_type": "code",
   "execution_count": 6,
   "metadata": {},
   "outputs": [
    {
     "name": "stderr",
     "output_type": "stream",
     "text": [
      "WARNING: Logging before flag parsing goes to stderr.\n",
      "W0710 11:33:24.227620 139909176473408 deprecation.py:323] From /srv/conda/envs/notebook/lib/python3.7/site-packages/tensorflow/python/ops/math_grad.py:1205: add_dispatch_support.<locals>.wrapper (from tensorflow.python.ops.array_ops) is deprecated and will be removed in a future version.\n",
      "Instructions for updating:\n",
      "Use tf.where in 2.0, which has the same broadcast rule as np.where\n"
     ]
    }
   ],
   "source": [
    "# Mean squared error\n",
    "cost = tf.reduce_sum(tf.pow(pred-Y, 2))/(2*n_samples)\n",
    "# Gradient descent\n",
    "optimizer = tf.train.GradientDescentOptimizer(learning_rate).minimize(cost)"
   ]
  },
  {
   "cell_type": "code",
   "execution_count": 7,
   "metadata": {},
   "outputs": [],
   "source": [
    "# Initialize the variables (i.e. assign their default value)\n",
    "init = tf.global_variables_initializer()"
   ]
  },
  {
   "cell_type": "code",
   "execution_count": 13,
   "metadata": {},
   "outputs": [
    {
     "name": "stdout",
     "output_type": "stream",
     "text": [
      "Epoch: 0050 cost= 0.171449438 W= 0.4214635 b= -0.4349531\n",
      "Epoch: 0100 cost= 0.160533413 W= 0.41124153 b= -0.3614173\n",
      "Epoch: 0150 cost= 0.150878057 W= 0.4016275 b= -0.2922548\n",
      "Epoch: 0200 cost= 0.142337903 W= 0.3925854 b= -0.22720626\n",
      "Epoch: 0250 cost= 0.134784117 W= 0.38408095 b= -0.16602626\n",
      "Epoch: 0300 cost= 0.128102839 W= 0.37608224 b= -0.108484715\n",
      "Epoch: 0350 cost= 0.122193284 W= 0.36855948 b= -0.05436558\n",
      "Epoch: 0400 cost= 0.116966434 W= 0.36148402 b= -0.003465164\n",
      "Epoch: 0450 cost= 0.112343401 W= 0.3548294 b= 0.044407975\n",
      "Epoch: 0500 cost= 0.108254500 W= 0.3485705 b= 0.08943379\n",
      "Epoch: 0550 cost= 0.104638018 W= 0.34268388 b= 0.1317817\n",
      "Epoch: 0600 cost= 0.101439409 W= 0.33714736 b= 0.17161107\n",
      "Epoch: 0650 cost= 0.098610446 W= 0.33194005 b= 0.20907156\n",
      "Epoch: 0700 cost= 0.096108362 W= 0.3270425 b= 0.24430452\n",
      "Epoch: 0750 cost= 0.093895473 W= 0.32243627 b= 0.27744153\n",
      "Epoch: 0800 cost= 0.091938384 W= 0.3181039 b= 0.30860814\n",
      "Epoch: 0850 cost= 0.090207532 W= 0.3140293 b= 0.3379204\n",
      "Epoch: 0900 cost= 0.088676788 W= 0.31019706 b= 0.36548948\n",
      "Epoch: 0950 cost= 0.087323010 W= 0.30659255 b= 0.3914196\n",
      "Epoch: 1000 cost= 0.086125799 W= 0.3032027 b= 0.41580647\n",
      "Optimization Finished!\n",
      "Training cost= 0.0861258 W= 0.3032027 b= 0.41580647 \n",
      "\n"
     ]
    },
    {
     "data": {
      "image/png": "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\n",
      "text/plain": [
       "<Figure size 432x288 with 1 Axes>"
      ]
     },
     "metadata": {
      "needs_background": "light"
     },
     "output_type": "display_data"
    }
   ],
   "source": [
    "# Start training\n",
    "with tf.Session() as sess:\n",
    "    sess.run(init)\n",
    "\n",
    "    # Fit all training data\n",
    "    for epoch in range(training_epochs):\n",
    "        for (x, y) in zip(train_X, train_Y):\n",
    "            sess.run(optimizer, feed_dict={X: x, Y: y})\n",
    "\n",
    "        #Display logs per epoch step\n",
    "        if (epoch+1) % display_step == 0:\n",
    "            c = sess.run(cost, feed_dict={X: train_X, Y:train_Y})\n",
    "            print(\"Epoch:\", '%04d' % (epoch+1), \"cost=\", \"{:.9f}\".format(c), \\\n",
    "                \"W=\", sess.run(W), \"b=\", sess.run(b))\n",
    "\n",
    "    print(\"Optimization Finished!\")\n",
    "    training_cost = sess.run(cost, feed_dict={X: train_X, Y: train_Y})\n",
    "    print(\"Training cost=\", training_cost, \"W=\", sess.run(W), \"b=\", sess.run(b), '\\n')\n",
    "\n",
    "    #Graphic display\n",
    "    plt.plot(train_X, train_Y, 'ro', label='Original data')\n",
    "    plt.plot(train_X, sess.run(W) * train_X + sess.run(b), label='Fitted line')\n",
    "    plt.legend()\n",
    "    plt.show()"
   ]
  },
  {
   "cell_type": "code",
   "execution_count": 9,
   "metadata": {},
   "outputs": [],
   "source": [
    "# Regression result"
   ]
  },
  {
   "cell_type": "code",
   "execution_count": null,
   "metadata": {},
   "outputs": [],
   "source": []
  },
  {
   "cell_type": "code",
   "source": [
    "#Start Predictions\n",
    "with tf.Session() as sess:\n",
     "sess.run(init)\n",
     "predictions = pred.eval(feed_dict = {X:train_X})\n",
    
    "plt.plot(train_X, train_Y, 'ro', label='Original data')\n",
    
    "plt.plot(train_X, predictions, 'bx' ,label='Predicted data')\n",
    
    "plt.legend()\n",
    "plt.show()\n",
   ]
  }
 ],
 "metadata": {
  "anaconda-cloud": {},
  "kernelspec": {
   "display_name": "Python 3",
   "language": "python",
   "name": "python3"
  },
  "language_info": {
   "codemirror_mode": {
    "name": "ipython",
    "version": 3
   },
   "file_extension": ".py",
   "mimetype": "text/x-python",
   "name": "python",
   "nbconvert_exporter": "python",
   "pygments_lexer": "ipython3",
   "version": "3.7.3"
  }
 },
 "nbformat": 4,
 "nbformat_minor": 1
}
