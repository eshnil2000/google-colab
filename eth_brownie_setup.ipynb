{
  "nbformat": 4,
  "nbformat_minor": 0,
  "metadata": {
    "colab": {
      "name": "eth-brownie-setup.ipynb",
      "version": "0.3.2",
      "provenance": [],
      "include_colab_link": true
    },
    "kernelspec": {
      "name": "python3",
      "display_name": "Python 3"
    }
  },
  "cells": [
    {
      "cell_type": "markdown",
      "metadata": {
        "id": "view-in-github",
        "colab_type": "text"
      },
      "source": [
        "<a href=\"https://colab.research.google.com/github/eshnil2000/google-colab/blob/master/eth_brownie_setup.ipynb\" target=\"_parent\"><img src=\"https://colab.research.google.com/assets/colab-badge.svg\" alt=\"Open In Colab\"/></a>"
      ]
    },
    {
      "cell_type": "code",
      "metadata": {
        "id": "1tm5y5ljcrqV",
        "colab_type": "code",
        "colab": {}
      },
      "source": [
        "#prepare for eth-brownie installation\n",
        "!apt-get install libsnappy-dev\n",
        "!pip install python-snappy\n",
        "#install eth-brownie\n",
        "!pip install eth-brownie\n",
        "#install solidity compiler\n",
        "!pip install py-solc-x\n",
        "import solcx\n",
        "#!apt-get install solc\n",
        "from solcx import get_solc_version, set_solc_version\n",
        "# set these versions if contracts are written in older versions\n",
        "#solcx.install_solc('v0.4.19')\n",
        "#set_solc_version('v0.4.19')\n",
        "\n",
        "#install node, npm, ganache-cli. eth-brownie relies on ganache-cli\n",
        "!apt-get install nodejs-dev node-gyp libssl1.0-dev\n",
        "!apt-get install npm\n",
        "!npm install n --g\n",
        "!n 10.15.3\n",
        "!npm install ganache-cli -g\n",
        "\n",
        "#install web3 to interact with ganache-cli\n",
        "!pip install web3\n",
        "import web3\n",
        "from web3 import Web3\n",
        "\n",
        "# get the sample Token contract\n",
        "# %mkdir /content/Token\n",
        "# %cd /content/Token\n",
        "# brownie init\n",
        "# brownie bake token\n",
        "# brownie compile\n",
        "\n",
        "# download ai repo\n",
        "#!git clone https://github.com/eshnil2000/danku-ai-blockchain.git\n",
        "# change into irectory\n",
        "#%cd /content/danku-ai-blockchain\n",
        "\n",
        "#initialize brownie project, if you don't have a brownie-config.json file\n",
        "#!brownie init\n",
        "#!brownie bake danku\n",
        "\n",
        "#overwrite brownie-config.json file to ensure conenction to localhost & set solc version\n",
        "\n",
        "\n",
        "#compile the contracts\n",
        "#!brownie compile\n",
        "\n",
        "#launch blockchain\n",
        "!brownie console \n",
        "\n",
        "#connect to blockchain instance\n",
        "web3 = Web3(Web3.HTTPProvider(\"http://localhost:8545\",request_kwargs={'timeout':60}))"
      ],
      "execution_count": 0,
      "outputs": []
    }
  ]
}