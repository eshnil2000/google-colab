{
  "nbformat": 4,
  "nbformat_minor": 0,
  "metadata": {
    "kernelspec": {
      "display_name": "Python 3",
      "language": "python",
      "name": "python3"
    },
    "language_info": {
      "codemirror_mode": {
        "name": "ipython",
        "version": 3
      },
      "file_extension": ".py",
      "mimetype": "text/x-python",
      "name": "python",
      "nbconvert_exporter": "python",
      "pygments_lexer": "ipython3",
      "version": "3.7.3"
    },
    "colab": {
      "name": "estimate-gas.ipynb",
      "version": "0.3.2",
      "provenance": [],
      "include_colab_link": true
    }
  },
  "cells": [
    {
      "cell_type": "markdown",
      "metadata": {
        "id": "view-in-github",
        "colab_type": "text"
      },
      "source": [
        "<a href=\"https://colab.research.google.com/github/eshnil2000/google-colab/blob/master/estimate_gas.ipynb\" target=\"_parent\"><img src=\"https://colab.research.google.com/assets/colab-badge.svg\" alt=\"Open In Colab\"/></a>"
      ]
    },
    {
      "cell_type": "code",
      "metadata": {
        "id": "XI2jmtcFuHJO",
        "colab_type": "code",
        "colab": {
          "base_uri": "https://localhost:8080/",
          "height": 598
        },
        "outputId": "48244b3c-6515-4752-adb9-5fd13da956c9"
      },
      "source": [
        "#Install and import all required modules\n",
        "\n",
        "%rm -rf google-colab\n",
        "!git clone https://github.com/eshnil2000/google-colab.git\n",
        "%cd google-colab\n",
        "!pip install web3\n",
        "import web3\n",
        "from web3 import Web3\n",
        "#connect to blockchain instance\n",
        "web3 = Web3(Web3.HTTPProvider(\"http://localhost:8545\",request_kwargs={'timeout':60}))\n",
        "print(\"are we connected to blockchain network?\", web3.isConnected())\n",
        "\n",
        "import config as cfg\n",
        "cfg.DEBUG='TRUE'\n",
        "import json\n",
        "with open('contracts/Danku_demo_final.json') as json_file:  \n",
        "    data = json.load(json_file)\n",
        "\n",
        "web3.eth.defaultAccount=web3.eth.accounts[1]\n",
        "myContract = web3.eth.contract(abi=data['abi'], bytecode=data['bytecode'])\n",
        "\n",
        "tx_hash=myContract.constructor().transact()\n",
        "tx_receipt = web3.eth.waitForTransactionReceipt(tx_hash)\n",
        "\n",
        "# Create the contract instance with the newly-deployed address\n",
        "myContractaddress = web3.eth.contract(\n",
        "    address=tx_receipt.contractAddress,\n",
        "    abi=data['abi'],\n",
        ")\n",
        "\n",
        "from dutils.dataset import DemoDataset\n",
        "from dutils.neural_network import NeuralNetwork\n",
        "import dutils.debug as dbg\n",
        "from secrets import randbelow\n",
        "from matplotlib import pyplot as plt\n",
        "import numpy as np\n",
        "\n",
        "offer_account = web3.eth.accounts[1]\n",
        "#solver_account = web3.eth.accounts[2]\n",
        "#_hashed_data_groups = []\n",
        "accuracy_criteria = 5000 # 50.00%\n",
        "#total_gas_used = 0\n",
        "#timeout = 180\n",
        "#w_scale = 1000 # Scale up weights by 1000x\n",
        "#b_scale = 1000 # Scale up biases by 1000x\n",
        "\n",
        "scd = DemoDataset(training_percentage=0.8,partition_size=5)\n",
        "scd.generate_nonce()\n",
        "scd.sha_all_data_groups()\n",
        "\n",
        "scd = DemoDataset(training_percentage=0.8,partition_size=5)\n",
        "scd.generate_nonce()\n",
        "scd.sha_all_data_groups()"
      ],
      "execution_count": 54,
      "outputs": [
        {
          "output_type": "stream",
          "text": [
            "Cloning into 'google-colab'...\n",
            "remote: Enumerating objects: 65, done.\u001b[K\n",
            "remote: Counting objects:   1% (1/65)   \u001b[K\rremote: Counting objects:   3% (2/65)   \u001b[K\rremote: Counting objects:   4% (3/65)   \u001b[K\rremote: Counting objects:   6% (4/65)   \u001b[K\rremote: Counting objects:   7% (5/65)   \u001b[K\rremote: Counting objects:   9% (6/65)   \u001b[K\rremote: Counting objects:  10% (7/65)   \u001b[K\rremote: Counting objects:  12% (8/65)   \u001b[K\rremote: Counting objects:  13% (9/65)   \u001b[K\rremote: Counting objects:  15% (10/65)   \u001b[K\rremote: Counting objects:  16% (11/65)   \u001b[K\rremote: Counting objects:  18% (12/65)   \u001b[K\rremote: Counting objects:  20% (13/65)   \u001b[K\rremote: Counting objects:  21% (14/65)   \u001b[K\rremote: Counting objects:  23% (15/65)   \u001b[K\rremote: Counting objects:  24% (16/65)   \u001b[K\rremote: Counting objects:  26% (17/65)   \u001b[K\rremote: Counting objects:  27% (18/65)   \u001b[K\rremote: Counting objects:  29% (19/65)   \u001b[K\rremote: Counting objects:  30% (20/65)   \u001b[K\rremote: Counting objects:  32% (21/65)   \u001b[K\rremote: Counting objects:  33% (22/65)   \u001b[K\rremote: Counting objects:  35% (23/65)   \u001b[K\rremote: Counting objects:  36% (24/65)   \u001b[K\rremote: Counting objects:  38% (25/65)   \u001b[K\rremote: Counting objects:  40% (26/65)   \u001b[K\rremote: Counting objects:  41% (27/65)   \u001b[K\rremote: Counting objects:  43% (28/65)   \u001b[K\rremote: Counting objects:  44% (29/65)   \u001b[K\rremote: Counting objects:  46% (30/65)   \u001b[K\rremote: Counting objects:  47% (31/65)   \u001b[K\rremote: Counting objects:  49% (32/65)   \u001b[K\rremote: Counting objects:  50% (33/65)   \u001b[K\rremote: Counting objects:  52% (34/65)   \u001b[K\rremote: Counting objects:  53% (35/65)   \u001b[K\rremote: Counting objects:  55% (36/65)   \u001b[K\rremote: Counting objects:  56% (37/65)   \u001b[K\rremote: Counting objects:  58% (38/65)   \u001b[K\rremote: Counting objects:  60% (39/65)   \u001b[K\rremote: Counting objects:  61% (40/65)   \u001b[K\rremote: Counting objects:  63% (41/65)   \u001b[K\rremote: Counting objects:  64% (42/65)   \u001b[K\rremote: Counting objects:  66% (43/65)   \u001b[K\rremote: Counting objects:  67% (44/65)   \u001b[K\rremote: Counting objects:  69% (45/65)   \u001b[K\rremote: Counting objects:  70% (46/65)   \u001b[K\rremote: Counting objects:  72% (47/65)   \u001b[K\rremote: Counting objects:  73% (48/65)   \u001b[K\rremote: Counting objects:  75% (49/65)   \u001b[K\rremote: Counting objects:  76% (50/65)   \u001b[K\rremote: Counting objects:  78% (51/65)   \u001b[K\rremote: Counting objects:  80% (52/65)   \u001b[K\rremote: Counting objects:  81% (53/65)   \u001b[K\rremote: Counting objects:  83% (54/65)   \u001b[K\rremote: Counting objects:  84% (55/65)   \u001b[K\rremote: Counting objects:  86% (56/65)   \u001b[K\rremote: Counting objects:  87% (57/65)   \u001b[K\rremote: Counting objects:  89% (58/65)   \u001b[K\rremote: Counting objects:  90% (59/65)   \u001b[K\rremote: Counting objects:  92% (60/65)   \u001b[K\rremote: Counting objects:  93% (61/65)   \u001b[K\rremote: Counting objects:  95% (62/65)   \u001b[K\rremote: Counting objects:  96% (63/65)   \u001b[K\rremote: Counting objects:  98% (64/65)   \u001b[K\rremote: Counting objects: 100% (65/65)   \u001b[K\rremote: Counting objects: 100% (65/65), done.\u001b[K\n",
            "remote: Compressing objects: 100% (65/65), done.\u001b[K\n",
            "remote: Total 330 (delta 28), reused 0 (delta 0), pack-reused 265\u001b[K\n",
            "Receiving objects: 100% (330/330), 31.71 MiB | 32.87 MiB/s, done.\n",
            "Resolving deltas: 100% (157/157), done.\n",
            "/content/google-colab/google-colab/google-colab/google-colab/google-colab\n",
            "Requirement already satisfied: web3 in /usr/local/lib/python3.6/dist-packages (4.9.2)\n",
            "Requirement already satisfied: hexbytes<1.0.0,>=0.1.0 in /usr/local/lib/python3.6/dist-packages (from web3) (0.2.0)\n",
            "Requirement already satisfied: lru-dict<2.0.0,>=1.1.6 in /usr/local/lib/python3.6/dist-packages (from web3) (1.1.6)\n",
            "Requirement already satisfied: eth-utils<2.0.0,>=1.2.0 in /usr/local/lib/python3.6/dist-packages (from web3) (1.6.2)\n",
            "Requirement already satisfied: eth-hash[pycryptodome]<1.0.0,>=0.2.0 in /usr/local/lib/python3.6/dist-packages (from web3) (0.2.0)\n",
            "Requirement already satisfied: requests<3.0.0,>=2.16.0 in /usr/local/lib/python3.6/dist-packages (from web3) (2.21.0)\n",
            "Requirement already satisfied: cytoolz<1.0.0,>=0.9.0; implementation_name == \"cpython\" in /usr/local/lib/python3.6/dist-packages (from web3) (0.10.0)\n",
            "Requirement already satisfied: eth-abi<2.0.0,>=1.2.0 in /usr/local/lib/python3.6/dist-packages (from web3) (1.3.0)\n",
            "Requirement already satisfied: eth-account<0.4.0,>=0.2.1 in /usr/local/lib/python3.6/dist-packages (from web3) (0.3.0)\n",
            "Requirement already satisfied: websockets<7.0.0,>=6.0.0 in /usr/local/lib/python3.6/dist-packages (from web3) (6.0)\n",
            "Requirement already satisfied: eth-typing<3.0.0,>=1.0.0 in /usr/local/lib/python3.6/dist-packages (from eth-utils<2.0.0,>=1.2.0->web3) (2.1.0)\n",
            "Requirement already satisfied: pycryptodome<4,>=3.6.6; extra == \"pycryptodome\" in /usr/local/lib/python3.6/dist-packages (from eth-hash[pycryptodome]<1.0.0,>=0.2.0->web3) (3.8.2)\n",
            "Requirement already satisfied: idna<2.9,>=2.5 in /usr/local/lib/python3.6/dist-packages (from requests<3.0.0,>=2.16.0->web3) (2.8)\n",
            "Requirement already satisfied: certifi>=2017.4.17 in /usr/local/lib/python3.6/dist-packages (from requests<3.0.0,>=2.16.0->web3) (2019.6.16)\n",
            "Requirement already satisfied: chardet<3.1.0,>=3.0.2 in /usr/local/lib/python3.6/dist-packages (from requests<3.0.0,>=2.16.0->web3) (3.0.4)\n",
            "Requirement already satisfied: urllib3<1.25,>=1.21.1 in /usr/local/lib/python3.6/dist-packages (from requests<3.0.0,>=2.16.0->web3) (1.24.3)\n",
            "Requirement already satisfied: toolz>=0.8.0 in /usr/local/lib/python3.6/dist-packages (from cytoolz<1.0.0,>=0.9.0; implementation_name == \"cpython\"->web3) (0.10.0)\n",
            "Requirement already satisfied: parsimonious<0.9.0,>=0.8.0 in /usr/local/lib/python3.6/dist-packages (from eth-abi<2.0.0,>=1.2.0->web3) (0.8.1)\n",
            "Requirement already satisfied: eth-rlp<1,>=0.1.2 in /usr/local/lib/python3.6/dist-packages (from eth-account<0.4.0,>=0.2.1->web3) (0.1.2)\n",
            "Requirement already satisfied: eth-keyfile<0.6.0,>=0.5.0 in /usr/local/lib/python3.6/dist-packages (from eth-account<0.4.0,>=0.2.1->web3) (0.5.1)\n",
            "Requirement already satisfied: eth-keys<0.3.0,>=0.2.0b3 in /usr/local/lib/python3.6/dist-packages (from eth-account<0.4.0,>=0.2.1->web3) (0.2.4)\n",
            "Requirement already satisfied: attrdict<3,>=2.0.0 in /usr/local/lib/python3.6/dist-packages (from eth-account<0.4.0,>=0.2.1->web3) (2.0.1)\n",
            "Requirement already satisfied: six>=1.9.0 in /usr/local/lib/python3.6/dist-packages (from parsimonious<0.9.0,>=0.8.0->eth-abi<2.0.0,>=1.2.0->web3) (1.12.0)\n",
            "Requirement already satisfied: rlp<2,>=0.6.0 in /usr/local/lib/python3.6/dist-packages (from eth-rlp<1,>=0.1.2->eth-account<0.4.0,>=0.2.1->web3) (1.1.0)\n",
            "are we connected to blockchain network? True\n"
          ],
          "name": "stdout"
        }
      ]
    },
    {
      "cell_type": "code",
      "metadata": {
        "id": "ZVPCig7j7yDk",
        "colab_type": "code",
        "colab": {
          "base_uri": "https://localhost:8080/",
          "height": 85
        },
        "outputId": "c91807bb-5220-462a-c3b8-65bdf63fdf36"
      },
      "source": [
        "init1_tx=myContractaddress.functions.init1(scd.hashed_data_group, accuracy_criteria,offer_account)\n",
        "\n",
        "print(\"gas required\", init1_tx.estimateGas())\n",
        "print(\"gas price\", web3.eth.gasPrice)\n",
        "print(\"Total gas cost: \",init1_tx.estimateGas()* web3.eth.gasPrice)\n",
        "\n",
        "cost=web3.fromWei(init1_tx.estimateGas()* web3.eth.gasPrice,\"Ether\")\n",
        "print(\"Cost to execute function in Ether:\", cost)"
      ],
      "execution_count": 55,
      "outputs": [
        {
          "output_type": "stream",
          "text": [
            "gas required 326624\n",
            "gas price 20000000000\n",
            "Total gas cost:  6532480000000000\n",
            "Cost to execute function in Ether: 0.00653248\n"
          ],
          "name": "stdout"
        }
      ]
    },
    {
      "cell_type": "code",
      "metadata": {
        "id": "oIzhW51QzBZx",
        "colab_type": "code",
        "colab": {
          "base_uri": "https://localhost:8080/",
          "height": 119
        },
        "outputId": "e009454e-880e-4577-9abe-b72721413ac2"
      },
      "source": [
        "!pip install requests \n",
        "import requests, json\n",
        "api= \"https://api.cryptonator.com/api/ticker/eth-usd\"\n",
        "response=requests.get(api)\n",
        "json_data=response.json()\n",
        "eth_usd= float(json_data['ticker']['price'])\n",
        "cost=float(cost)\n",
        "print(\"Total USD cost to execute function:$\",cost*eth_usd)"
      ],
      "execution_count": 56,
      "outputs": [
        {
          "output_type": "stream",
          "text": [
            "Requirement already satisfied: requests in /usr/local/lib/python3.6/dist-packages (2.21.0)\n",
            "Requirement already satisfied: certifi>=2017.4.17 in /usr/local/lib/python3.6/dist-packages (from requests) (2019.6.16)\n",
            "Requirement already satisfied: idna<2.9,>=2.5 in /usr/local/lib/python3.6/dist-packages (from requests) (2.8)\n",
            "Requirement already satisfied: urllib3<1.25,>=1.21.1 in /usr/local/lib/python3.6/dist-packages (from requests) (1.24.3)\n",
            "Requirement already satisfied: chardet<3.1.0,>=3.0.2 in /usr/local/lib/python3.6/dist-packages (from requests) (3.0.4)\n",
            "Total USD cost to execute function:$ 1.3665873645307136\n"
          ],
          "name": "stdout"
        }
      ]
    },
    {
      "cell_type": "code",
      "metadata": {
        "id": "_nSfpWya9fY_",
        "colab_type": "code",
        "colab": {}
      },
      "source": [
        ""
      ],
      "execution_count": 0,
      "outputs": []
    }
  ]
}