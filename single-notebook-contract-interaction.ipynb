{
 "cells": [
  {
   "cell_type": "code",
   "execution_count": 1,
   "metadata": {},
   "outputs": [],
   "source": [
    "input_array = [bytes(range(idx, 32 + idx)) for idx in range(10)]"
   ]
  },
  {
   "cell_type": "code",
   "execution_count": 10,
   "metadata": {},
   "outputs": [],
   "source": [
   "%rm -rf /content/google-colab/\n",
   "!git clone https://github.com/eshnil2000/google-colab.git\n",
   "%cd google-colab\n",
    "import web3\n",
    "from web3 import Web3\n",
    "web3 = Web3(Web3.HTTPProvider(\"loaclhost:8545\",request_kwargs={'timeout':60}))\n",
    "web3.isConnected()\n",
    "\n",
    "import config as cfg\n",
    "cfg.DEBUG='TRUE'\n",
    "import json\n",
    "with open('contract/Danku_demo_final.json') as json_file:  \n",
    "    data = json.load(json_file)\n"
   ]
  },
  {
   "cell_type": "code",
   "execution_count": 11,
   "metadata": {},
   "outputs": [],
   "source": [
    "web3.eth.defaultAccount=web3.eth.accounts[1]\n",
    "myContract = web3.eth.contract(abi=data['abi'], bytecode=data['bytecode'])\n"
   ]
  },
  {
   "cell_type": "code",
   "execution_count": 12,
   "metadata": {},
   "outputs": [],
   "source": [
    "tx_hash=myContract.constructor().transact()"
   ]
  },
  {
   "cell_type": "code",
   "execution_count": 13,
   "metadata": {},
   "outputs": [],
   "source": [
    "tx_receipt = web3.eth.waitForTransactionReceipt(tx_hash)"
   ]
  },
  {
   "cell_type": "code",
   "execution_count": 14,
   "metadata": {},
   "outputs": [],
   "source": [
    "# Create the contract instance with the newly-deployed address\n",
    "myContractaddress = web3.eth.contract(\n",
    "    address=tx_receipt.contractAddress,\n",
    "    abi=data['abi'],\n",
    ")"
   ]
  },
  {
   "cell_type": "code",
   "execution_count": 15,
   "metadata": {},
   "outputs": [],
   "source": [
    "from dutils.dataset import DemoDataset\n",
    "from dutils.neural_network import NeuralNetwork\n",
    "import dutils.debug as dbg\n",
    "from secrets import randbelow\n",
    "from matplotlib import pyplot as plt\n",
    "import numpy as np"
   ]
  },
  {
   "cell_type": "code",
   "execution_count": 16,
   "metadata": {},
   "outputs": [
    {
     "name": "stderr",
     "output_type": "stream",
     "text": [
      "/opt/tljh/user/lib/python3.6/site-packages/IPython/core/interactiveshell.py:3214: DtypeWarning: Columns (0) have mixed types. Specify dtype option on import or set low_memory=False.\n",
      "  if (yield from self.run_code(code, result)):\n"
     ]
    },
    {
     "name": "stdout",
     "output_type": "stream",
     "text": [
      "(0) Hashed data group: [32383145, -82557135, 1, 33178426, -81182699, 0, 30288896, -84848444, 1, 34010202, -96754984, 1, 42697957, -122769269, 1, 2742906376]\n",
      "\n",
      "(1) Hashed data group: [31501042, -85113506, 1, 39839405, -74945624, 0, 47271463, -96182441, 1, 33904480, -84862139, 1, 36337083, -102916844, 1, 867575839]\n",
      "\n",
      "(2) Hashed data group: [41124530, -83144773, 1, 27867945, -80541647, 1, 42309687, -83772991, 0, 40867331, -74578269, 1, 36572762, -86305594, 1, 12425211]\n",
      "\n",
      "(3) Hashed data group: [37236073, -86270740, 1, 45934055, -96012359, 1, 43111474, -93467873, 1, 41336115, -85500246, 1, 44318900, -70477506, 1, 2732938395]\n",
      "\n",
      "(4) Hashed data group: [32946307, -80948043, 1, 43667270, -94673433, 1, 32743851, -81628687, 1, 40616536, -81681707, 1, 32400038, -97933708, 1, 131332403]\n",
      "\n",
      "(5) Hashed data group: [42238161, -96472847, 1, 38214874, -112923106, 1, 35521229, -81418729, 1, 34964812, -80427656, 1, 42788579, -103299462, 1, 809473407]\n",
      "\n",
      "(6) Hashed data group: [36277602, -100273561, 1, 47785848, -97347030, 1, 40639247, -98251120, 1, 40023673, -87475513, 1, 37345751, -84316140, 1, 1471720873]\n",
      "\n",
      "(7) Hashed data group: [48654170, -113126262, 0, 45996345, -112088845, 1, 42326783, -95477979, 1, 30769826, -92771752, 1, 34061674, -94808868, 1, 1286959068]\n",
      "\n",
      "(8) Hashed data group: [42600976, -93794414, 1, 32806707, -83691315, 0, 40866023, -86225982, 1, 34168309, -98000691, 1, 42996509, -97058654, 0, 3147301742]\n",
      "\n",
      "(9) Hashed data group: [34062000, -87814078, 1, 37907239, -89410304, 0, 31409873, -96572810, 1, 29512687, -95254188, 1, 44275371, -96141967, 1, 210735480]\n",
      "\n"
     ]
    }
   ],
   "source": [
    "scd = DemoDataset(training_percentage=0.8,partition_size=5)\n",
    "scd.generate_nonce()\n",
    "scd.sha_all_data_groups()\n"
   ]
  },
  {
   "cell_type": "code",
   "execution_count": 17,
   "metadata": {},
   "outputs": [],
   "source": [
    "offer_account = web3.eth.accounts[1]\n",
    "solver_account = web3.eth.accounts[2]\n",
    "_hashed_data_groups = []\n",
    "accuracy_criteria = 5000 # 50.00%\n",
    "#total_gas_used = 0\n",
    "timeout = 180\n",
    "w_scale = 1000 # Scale up weights by 1000x\n",
    "b_scale = 1000 # Scale up biases by 1000x"
   ]
  },
  {
   "cell_type": "code",
   "execution_count": 18,
   "metadata": {},
   "outputs": [],
   "source": [
    "init1_tx=myContractaddress.functions.init1(scd.hashed_data_group, accuracy_criteria,offer_account)\n",
    "init1_tx_hash=init1_tx.transact()\n",
    "\n",
    "init2_tx=myContractaddress.functions.init2().transact()\n"
   ]
  },
  {
   "cell_type": "code",
   "execution_count": 19,
   "metadata": {},
   "outputs": [],
   "source": [
    "training_partition = list(map(lambda x: myContractaddress.functions.training_partition(x).call(),range(scd.num_train_data_groups)))\n",
    "testing_partition = list(map(lambda x: myContractaddress.functions.training_partition(x).call(),range(scd.num_test_data_groups)))\n",
    "scd.partition_dataset(training_partition, testing_partition)\n"
   ]
  },
  {
   "cell_type": "code",
   "execution_count": 20,
   "metadata": {},
   "outputs": [
    {
     "name": "stdout",
     "output_type": "stream",
     "text": [
      "(1) Train data,nonce: [31501042, -85113506, 1, 39839405, -74945624, 0, 47271463, -96182441, 1, 33904480, -84862139, 1, 36337083, -102916844, 1],867575839\n",
      "\n",
      "(3) Train data,nonce: [37236073, -86270740, 1, 45934055, -96012359, 1, 43111474, -93467873, 1, 41336115, -85500246, 1, 44318900, -70477506, 1],2732938395\n",
      "\n",
      "(5) Train data,nonce: [42238161, -96472847, 1, 38214874, -112923106, 1, 35521229, -81418729, 1, 34964812, -80427656, 1, 42788579, -103299462, 1],809473407\n",
      "\n",
      "(0) Train data,nonce: [32383145, -82557135, 1, 33178426, -81182699, 0, 30288896, -84848444, 1, 34010202, -96754984, 1, 42697957, -122769269, 1],2742906376\n",
      "\n",
      "(4) Train data,nonce: [32946307, -80948043, 1, 43667270, -94673433, 1, 32743851, -81628687, 1, 40616536, -81681707, 1, 32400038, -97933708, 1],131332403\n",
      "\n",
      "(2) Train data,nonce: [41124530, -83144773, 1, 27867945, -80541647, 1, 42309687, -83772991, 0, 40867331, -74578269, 1, 36572762, -86305594, 1],12425211\n",
      "\n",
      "(7) Train data,nonce: [48654170, -113126262, 0, 45996345, -112088845, 1, 42326783, -95477979, 1, 30769826, -92771752, 1, 34061674, -94808868, 1],1286959068\n",
      "\n",
      "(6) Train data,nonce: [36277602, -100273561, 1, 47785848, -97347030, 1, 40639247, -98251120, 1, 40023673, -87475513, 1, 37345751, -84316140, 1],1471720873\n",
      "\n"
     ]
    }
   ],
   "source": [
    "def scale_packed_data(data, scale):\n",
    "    # Scale data and convert it to an integer\n",
    "    return list(map(lambda x: int(x*scale), data))\n",
    "\n",
    "training_nonces = []\n",
    "training_data = []\n",
    "for i in training_partition:\n",
    "    training_nonces.append(scd.nonce[i])\n",
    "# Pack data into a 1-dimension array\n",
    "# Since the data array is too large, we're going to send them in single data group chunks\n",
    "train_data = scd.pack_data(scd.train_data)\n",
    "test_data = scd.pack_data(scd.test_data)\n",
    "\n",
    "init3_tx = []\n",
    "for i in range(len(training_partition)):\n",
    "    start = i*scd.dps*scd.partition_size\n",
    "    end = start + scd.dps*scd.partition_size\n",
    "    dbg.dprint(\"(\" + str(training_partition[i]) + \") Train data,nonce: \" + str(train_data[start:end]) + \",\" + str(scd.train_nonce[i]))\n",
    "    iter_tx = myContractaddress.functions.init3(train_data[start:end], scd.train_nonce[i])\n",
    "    iter_receipt = iter_tx.transact()\n",
    "    init3_tx.append(iter_tx)\n"
   ]
  },
  {
   "cell_type": "code",
   "execution_count": 21,
   "metadata": {},
   "outputs": [
    {
     "name": "stdout",
     "output_type": "stream",
     "text": [
      "Contract training data: [(31501042, -85113506, 1), (39839405, -74945624, 0), (47271463, -96182441, 1), (33904480, -84862139, 1), (36337083, -102916844, 1), (37236073, -86270740, 1), (45934055, -96012359, 1), (43111474, -93467873, 1), (41336115, -85500246, 1), (44318900, -70477506, 1), (42238161, -96472847, 1), (38214874, -112923106, 1), (35521229, -81418729, 1), (34964812, -80427656, 1), (42788579, -103299462, 1), (32383145, -82557135, 1), (33178426, -81182699, 0), (30288896, -84848444, 1), (34010202, -96754984, 1), (42697957, -122769269, 1), (32946307, -80948043, 1), (43667270, -94673433, 1), (32743851, -81628687, 1), (40616536, -81681707, 1), (32400038, -97933708, 1), (41124530, -83144773, 1), (27867945, -80541647, 1), (42309687, -83772991, 0), (40867331, -74578269, 1), (36572762, -86305594, 1), (48654170, -113126262, 0), (45996345, -112088845, 1), (42326783, -95477979, 1), (30769826, -92771752, 1), (34061674, -94808868, 1), (36277602, -100273561, 1), (47785848, -97347030, 1), (40639247, -98251120, 1), (40023673, -87475513, 1), (37345751, -84316140, 1)]\n",
      "\n"
     ]
    }
   ],
   "source": [
    "# Get the training data from the contract\n",
    "contract_train_data_length = myContractaddress.functions.get_train_data_length().call()\n",
    "contract_train_data = []\n",
    "for i in range(contract_train_data_length):\n",
    "    for j in range(scd.dps):\n",
    "        contract_train_data.append(myContractaddress.functions.train_data(i,j).call())\n",
    "contract_train_data = scd.unpack_data(contract_train_data)\n",
    "dbg.dprint(\"Contract training data: \" + str(contract_train_data))"
   ]
  },
  {
   "cell_type": "code",
   "execution_count": 22,
   "metadata": {},
   "outputs": [
    {
     "name": "stdout",
     "output_type": "stream",
     "text": [
      "WARNING:tensorflow:From /opt/tljh/user/lib/python3.6/site-packages/tensorflow/python/framework/op_def_library.py:263: colocate_with (from tensorflow.python.framework.ops) is deprecated and will be removed in a future version.\n",
      "Instructions for updating:\n",
      "Colocations handled automatically by placer.\n",
      "WARNING:tensorflow:From /home/jupyter-nick/danku-ai-blockchain/dutils/neural_network.py:130: softmax_cross_entropy_with_logits (from tensorflow.python.ops.nn_ops) is deprecated and will be removed in a future version.\n",
      "Instructions for updating:\n",
      "\n",
      "Future major versions of TensorFlow will allow gradients to flow\n",
      "into the labels input on backprop by default.\n",
      "\n",
      "See `tf.nn.softmax_cross_entropy_with_logits_v2`.\n",
      "\n",
      "Step 1, Loss= 6435029.0000, Training Accuracy= 0.200\n",
      "\n",
      "Step 2, Loss= 0.0000, Training Accuracy= 0.000\n",
      "\n",
      "Step 3, Loss= 0.0000, Training Accuracy= 0.000\n",
      "\n",
      "Step 4, Loss= 4510522.5000, Training Accuracy= 0.200\n",
      "\n",
      "Step 5, Loss= 0.0000, Training Accuracy= 0.000\n",
      "\n",
      "Training Finished!\n",
      "\n",
      "Saving weights...\n",
      "\n",
      "Weights saved!\n",
      "\n"
     ]
    }
   ],
   "source": [
    "il_nn = 2\n",
    "hl_nn = []\n",
    "ol_nn = 2\n",
    "# Train a neural network with contract data\n",
    "nn = NeuralNetwork(il_nn, hl_nn, ol_nn, 0.001, 5, 5, 1)\n",
    "contract_train_data = nn.binary_2_one_hot(contract_train_data)\n",
    "nn.load_train_data(contract_train_data)\n",
    "nn.init_network()\n",
    "nn.train()\n",
    "trained_weights = nn.weights\n",
    "trained_biases = nn.bias"
   ]
  },
  {
   "cell_type": "code",
   "execution_count": 23,
   "metadata": {},
   "outputs": [
    {
     "name": "stdout",
     "output_type": "stream",
     "text": [
      "Trained weights: [array([[-2.0475268, -0.8630715],\n",
      "       [ 0.1282149,  0.336178 ]], dtype=float32)]\n",
      "\n",
      "Trained biases: [array([ 0.22566617, -0.465566  ], dtype=float32)]\n",
      "\n",
      "Packed weights: [-2.0475268, -0.8630715, 0.1282149, 0.336178]\n",
      "\n",
      "Packed biases: [0.22566617, -0.465566]\n",
      "\n",
      "Packed integer weights: [-2047, -863, 128, 336]\n",
      "\n",
      "Packed integer biases: [225, -465]\n",
      "\n",
      "Solver address: 0xC5fdf4076b8F3A5357c5E395ab970B5B54098Fef\n",
      "\n"
     ]
    }
   ],
   "source": [
    "dbg.dprint(\"Trained weights: \" + str(trained_weights))\n",
    "dbg.dprint(\"Trained biases: \" + str(trained_biases))\n",
    "\n",
    "packed_trained_weights = nn.pack_weights(trained_weights)\n",
    "dbg.dprint(\"Packed weights: \" + str(packed_trained_weights))\n",
    "\n",
    "packed_trained_biases = nn.pack_biases(trained_biases)\n",
    "dbg.dprint(\"Packed biases: \" + str(packed_trained_biases))\n",
    "\n",
    "int_packed_trained_weights = scale_packed_data(packed_trained_weights,\\\n",
    "        w_scale)\n",
    "dbg.dprint(\"Packed integer weights: \" + str(int_packed_trained_weights))\n",
    "\n",
    "int_packed_trained_biases = scale_packed_data(packed_trained_biases,\\\n",
    "        b_scale)\n",
    "dbg.dprint(\"Packed integer biases: \" + str(int_packed_trained_biases))\n",
    "\n",
    "dbg.dprint(\"Solver address: \" + str(solver_account))"
   ]
  },
  {
   "cell_type": "code",
   "execution_count": 24,
   "metadata": {},
   "outputs": [
    {
     "name": "stdout",
     "output_type": "stream",
     "text": [
      "3\n",
      "\n",
      "Submit TX: b'y\\x07{Y\\x0e{|Z`\\xfb\\x90h\\xfb+J4\\xab_=\\xaf\\xb48\\xee|z\\xbc\\xb0D\\x98c\\xe7\\xcc'\n",
      "\n"
     ]
    }
   ],
   "source": [
    "current_level=myContractaddress.functions.init_level().call()\n",
    "dbg.dprint(str(current_level))\n",
    "solver_account=web3.eth.accounts[0]\n",
    "# Submit the solution to the contract\n",
    "submit_tx = myContractaddress.functions.submit_model(solver_account, il_nn, ol_nn, hl_nn,int_packed_trained_weights, int_packed_trained_biases).transact()\n",
    "dbg.dprint(\"Submit TX: \" + str(submit_tx))\n"
   ]
  },
  {
   "cell_type": "code",
   "execution_count": 25,
   "metadata": {},
   "outputs": [
    {
     "name": "stdout",
     "output_type": "stream",
     "text": [
      "(1) Test data,nonce: [31501042, -85113506, 1, 39839405, -74945624, 0, 47271463, -96182441, 1, 33904480, -84862139, 1, 36337083, -102916844, 1],867575839\n",
      "\n",
      "Reveal test data iter 0\n",
      "\n",
      "(3) Test data,nonce: [37236073, -86270740, 1, 45934055, -96012359, 1, 43111474, -93467873, 1, 41336115, -85500246, 1, 44318900, -70477506, 1],2732938395\n",
      "\n",
      "Reveal test data iter 1\n",
      "\n"
     ]
    }
   ],
   "source": [
    "# Reveal the testing dataset after the submission period ends\n",
    "reveal_tx = []\n",
    "for i in range(len(testing_partition)):\n",
    "    start = i*scd.dps*scd.partition_size\n",
    "    end = start + scd.dps*scd.partition_size\n",
    "    dbg.dprint(\"(\" + str(testing_partition[i]) + \") Test data,nonce: \" + str(test_data[start:end]) + \",\" + str(scd.test_nonce[i]))\n",
    "    iter_tx = myContractaddress.functions.reveal_test_data(test_data[start:end], scd.test_nonce[i]).transact()\n",
    "    dbg.dprint(\"Reveal test data iter \" + str(i) )\n",
    "    reveal_tx.append(iter_tx)"
   ]
  },
  {
   "cell_type": "code",
   "execution_count": 26,
   "metadata": {},
   "outputs": [
    {
     "name": "stdout",
     "output_type": "stream",
     "text": [
      "Contract finalized: True\n",
      "\n"
     ]
    }
   ],
   "source": [
    "# Finalize the contract\n",
    "final_tx = myContractaddress.functions.finalize_contract().transact()\n",
    "contract_finalized = myContractaddress.functions.contract_terminated().call()\n",
    "dbg.dprint(\"Contract finalized: \" + str(contract_finalized))\n",
    "\n"
   ]
  },
  {
   "cell_type": "code",
   "execution_count": 27,
   "metadata": {},
   "outputs": [
    {
     "name": "stdout",
     "output_type": "stream",
     "text": [
      "Best submission ID: 0\n",
      "\n",
      "Best submission accuracy: 0\n",
      "\n"
     ]
    }
   ],
   "source": [
    "# Get best submission accuracy & ID\n",
    "best_submission_accuracy = myContractaddress.functions.best_submission_accuracy().call()\n",
    "best_submission_index = myContractaddress.functions.best_submission_index().call()\n",
    "\n",
    "dbg.dprint(\"Best submission ID: \" + str(best_submission_index))\n",
    "dbg.dprint(\"Best submission accuracy: \" + str(best_submission_accuracy))# Since the data array is too large, we're going to send them in single data group chunks\n",
    "train_data = scd.pack_data(scd.train_data)\n",
    "test_data = scd.pack_data(scd.test_data)\n",
    "\n",
    "#Build the Neural Network\n",
    "#Number of neurons in input layer\n",
    "il_nn=2\n",
    "#Hidden layers: each element represents number of neurons in that layer\n",
    "hl_nn = []\n",
    "#Number of neurons in output layer\n",
    "ol_nn = 2\n",
    "\n",
    "l_nn = [il_nn] + hl_nn + [ol_nn]\n",
    "input_layer = train_data[:2]\n",
    "hidden_layers = [0] * sum(hl_nn)\n",
    "output_layer = [0] * ol_nn\n",
    "weights = int_packed_trained_weights\n",
    "biases = int_packed_trained_biases\n",
    "# Test forward\n",
    "fwd_pass2 = myContractaddress.functions.forward_pass2(l_nn, input_layer, hidden_layers, output_layer, weights, biases).call()\n"
   ]
  },
  {
   "cell_type": "code",
   "execution_count": 28,
   "metadata": {},
   "outputs": [
    {
     "name": "stdout",
     "output_type": "stream",
     "text": [
      "Test input: [31501042, -85113506]\n",
      "\n",
      "Expected output: 1\n",
      "\n",
      "local nn prediction: [[-85058270. -20028498.]]\n",
      "\n",
      "forward_pass2: [897032, 0]\n",
      "\n",
      "#Total gas used: 0\n",
      "\n"
     ]
    }
   ],
   "source": [
    "dbg.dprint(\"Test input: \" + str(train_data[:2]))\n",
    "dbg.dprint(\"Expected output: \" + str(train_data[2]))\n",
    "dbg.dprint(\"local nn prediction: \" + str(nn.predict([train_data[:2]])))\n",
    "\n",
    "dbg.dprint(\"forward_pass2: \" + str(fwd_pass2))\n",
    "\n",
    "#dbg.dprint(\"Total gas used: \" + str(total_gas_used))"
   ]
  },
  {
   "cell_type": "code",
   "execution_count": 29,
   "metadata": {},
   "outputs": [
    {
     "data": {
      "image/png": "[encoded data removed]",
      "text/plain": [
       "<Figure size 432x288 with 1 Axes>"
      ]
     },
     "metadata": {
      "needs_background": "light"
     },
     "output_type": "display_data"
    }
   ],
   "source": [
    "# Import the required modules\n",
    "import pandas as pd\n",
    "import numpy as np\n",
    "import matplotlib.pyplot as plt\n",
    "\n",
    "scatter_x = np.array(list(map(lambda x: x[1:2][0], scd.data)))\n",
    "scatter_y = np.array(list(map(lambda x: x[:1][0], scd.data)))\n",
    "group = np.array(list(map(lambda x: x[2:3][0], scd.data)))\n",
    "cdict = {0: \"blue\", 1: \"red\"}\n",
    "\n",
    "fig, ax = plt.subplots()\n",
    "for g in np.unique(group):\n",
    "    ix = np.where(group == g)\n",
    "    ax.scatter(scatter_x[ix], scatter_y[ix], c = cdict[g], label = g, s = 4)\n",
    "ax.legend()\n",
    "plt.show()\n"
   ]
  }
 ],
 "metadata": {
  "kernelspec": {
   "display_name": "Python 3",
   "language": "python",
   "name": "python3"
  },
  "language_info": {
   "codemirror_mode": {
    "name": "ipython",
    "version": 3
   },
   "file_extension": ".py",
   "mimetype": "text/x-python",
   "name": "python",
   "nbconvert_exporter": "python",
   "pygments_lexer": "ipython3",
   "version": "3.6.7"
  }
 },
 "nbformat": 4,
 "nbformat_minor": 2
}
