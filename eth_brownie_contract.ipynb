{
  "nbformat": 4,
  "nbformat_minor": 0,
  "metadata": {
    "colab": {
      "name": "eth-brownie-contract.ipynb",
      "version": "0.3.2",
      "provenance": [],
      "include_colab_link": true
    },
    "kernelspec": {
      "name": "python3",
      "display_name": "Python 3"
    }
  },
  "cells": [
    {
      "cell_type": "markdown",
      "metadata": {
        "id": "view-in-github",
        "colab_type": "text"
      },
      "source": [
        "<a href=\"https://colab.research.google.com/github/eshnil2000/google-colab/blob/master/eth_brownie_contract.ipynb\" target=\"_parent\"><img src=\"https://colab.research.google.com/assets/colab-badge.svg\" alt=\"Open In Colab\"/></a>"
      ]
    },
    {
      "cell_type": "code",
      "metadata": {
        "id": "HPbyxyfTbXB5",
        "colab_type": "code",
        "outputId": "d5223c17-ec2f-439e-c03d-2f5e764fd3ce",
        "colab": {
          "base_uri": "https://localhost:8080/",
          "height": 479
        }
      },
      "source": [
        "!pip install web3\n",
        "import web3\n",
        "from web3 import Web3\n",
        "web3 = Web3(Web3.HTTPProvider(\"http://localhost:8545\",request_kwargs={'timeout':60}))\n",
        "web3.isConnected()\n",
        "import json\n",
        "%cd /content/Token/token/build/contracts/\n",
        "with open('Token.json') as json_file:  \n",
        "    data = json.load(json_file)\n",
        "\n",
        "web3.eth.defaultAccount=web3.eth.accounts[0]\n",
        "web3.eth.sendTransaction({'to': web3.eth.accounts[1], 'from': web3.eth.accounts[0], 'value': web3.toWei(1, 'ether')})\n",
        "\n",
        "myContract = web3.eth.contract(abi=data['abi'], bytecode=data['bytecode'])\n",
        "\n",
        "txn_hash=myContract.constructor('test','test',0,1000).transact({'from': web3.eth.accounts[0]})\n",
        "\n",
        "txn_receipt = web3.eth.getTransactionReceipt(txn_hash)\n",
        "\n",
        "myContractaddress = web3.eth.contract(address=txn_receipt.contractAddress,abi=data['abi'],)\n",
        "\n",
        "myContractaddress.functions.symbol().call()\n",
        "\n",
        "balance = myContractaddress.functions.balanceOf(web3.eth.defaultAccount).call()\n",
        "\n",
        "web3.fromWei(balance,'ether')"
      ],
      "execution_count": 0,
      "outputs": [
        {
          "output_type": "stream",
          "text": [
            "Requirement already satisfied: web3 in /usr/local/lib/python3.6/dist-packages (4.9.2)\n",
            "Requirement already satisfied: websockets<7.0.0,>=6.0.0 in /usr/local/lib/python3.6/dist-packages (from web3) (6.0)\n",
            "Requirement already satisfied: eth-account<0.4.0,>=0.2.1 in /usr/local/lib/python3.6/dist-packages (from web3) (0.3.0)\n",
            "Requirement already satisfied: hexbytes<1.0.0,>=0.1.0 in /usr/local/lib/python3.6/dist-packages (from web3) (0.2.0)\n",
            "Requirement already satisfied: eth-hash[pycryptodome]<1.0.0,>=0.2.0 in /usr/local/lib/python3.6/dist-packages (from web3) (0.2.0)\n",
            "Requirement already satisfied: eth-utils<2.0.0,>=1.2.0 in /usr/local/lib/python3.6/dist-packages (from web3) (1.6.0)\n",
            "Requirement already satisfied: cytoolz<1.0.0,>=0.9.0; implementation_name == \"cpython\" in /usr/local/lib/python3.6/dist-packages (from web3) (0.9.0.1)\n",
            "Requirement already satisfied: requests<3.0.0,>=2.16.0 in /usr/local/lib/python3.6/dist-packages (from web3) (2.21.0)\n",
            "Requirement already satisfied: lru-dict<2.0.0,>=1.1.6 in /usr/local/lib/python3.6/dist-packages (from web3) (1.1.6)\n",
            "Requirement already satisfied: eth-abi<2.0.0,>=1.2.0 in /usr/local/lib/python3.6/dist-packages (from web3) (1.3.0)\n",
            "Requirement already satisfied: attrdict<3,>=2.0.0 in /usr/local/lib/python3.6/dist-packages (from eth-account<0.4.0,>=0.2.1->web3) (2.0.1)\n",
            "Requirement already satisfied: eth-keys<0.3.0,>=0.2.0b3 in /usr/local/lib/python3.6/dist-packages (from eth-account<0.4.0,>=0.2.1->web3) (0.2.2)\n",
            "Requirement already satisfied: eth-rlp<1,>=0.1.2 in /usr/local/lib/python3.6/dist-packages (from eth-account<0.4.0,>=0.2.1->web3) (0.1.2)\n",
            "Requirement already satisfied: eth-keyfile<0.6.0,>=0.5.0 in /usr/local/lib/python3.6/dist-packages (from eth-account<0.4.0,>=0.2.1->web3) (0.5.1)\n",
            "Requirement already satisfied: pycryptodome<4,>=3.6.6; extra == \"pycryptodome\" in /usr/local/lib/python3.6/dist-packages (from eth-hash[pycryptodome]<1.0.0,>=0.2.0->web3) (3.8.2)\n",
            "Requirement already satisfied: eth-typing<3.0.0,>=1.0.0 in /usr/local/lib/python3.6/dist-packages (from eth-utils<2.0.0,>=1.2.0->web3) (2.1.0)\n",
            "Requirement already satisfied: toolz>=0.8.0 in /usr/local/lib/python3.6/dist-packages (from cytoolz<1.0.0,>=0.9.0; implementation_name == \"cpython\"->web3) (0.9.0)\n",
            "Requirement already satisfied: urllib3<1.25,>=1.21.1 in /usr/local/lib/python3.6/dist-packages (from requests<3.0.0,>=2.16.0->web3) (1.24.3)\n",
            "Requirement already satisfied: idna<2.9,>=2.5 in /usr/local/lib/python3.6/dist-packages (from requests<3.0.0,>=2.16.0->web3) (2.8)\n",
            "Requirement already satisfied: chardet<3.1.0,>=3.0.2 in /usr/local/lib/python3.6/dist-packages (from requests<3.0.0,>=2.16.0->web3) (3.0.4)\n",
            "Requirement already satisfied: certifi>=2017.4.17 in /usr/local/lib/python3.6/dist-packages (from requests<3.0.0,>=2.16.0->web3) (2019.3.9)\n",
            "Requirement already satisfied: parsimonious<0.9.0,>=0.8.0 in /usr/local/lib/python3.6/dist-packages (from eth-abi<2.0.0,>=1.2.0->web3) (0.8.1)\n",
            "Requirement already satisfied: six in /usr/local/lib/python3.6/dist-packages (from attrdict<3,>=2.0.0->eth-account<0.4.0,>=0.2.1->web3) (1.12.0)\n",
            "Requirement already satisfied: rlp<2,>=0.6.0 in /usr/local/lib/python3.6/dist-packages (from eth-rlp<1,>=0.1.2->eth-account<0.4.0,>=0.2.1->web3) (1.1.0)\n",
            "/content/Token/token/build/contracts\n"
          ],
          "name": "stdout"
        },
        {
          "output_type": "execute_result",
          "data": {
            "text/plain": [
              "Decimal('1000')"
            ]
          },
          "metadata": {
            "tags": []
          },
          "execution_count": 4
        }
      ]
    }
  ]
}
