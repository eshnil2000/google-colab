{
  "nbformat": 4,
  "nbformat_minor": 0,
  "metadata": {
    "colab": {
      "name": "MNIST-linear-regression.ipynb",
      "version": "0.3.2",
      "provenance": [],
      "include_colab_link": true
    },
    "kernelspec": {
      "display_name": "Python 3",
      "language": "python",
      "name": "python3"
    },
    "language_info": {
      "codemirror_mode": {
        "name": "ipython",
        "version": 3
      },
      "file_extension": ".py",
      "mimetype": "text/x-python",
      "name": "python",
      "nbconvert_exporter": "python",
      "pygments_lexer": "ipython3",
      "version": "3.7.3"
    }
  },
  "cells": [
    {
      "cell_type": "markdown",
      "metadata": {
        "id": "view-in-github",
        "colab_type": "text"
      },
      "source": [
        "<a href=\"https://colab.research.google.com/github/eshnil2000/google-colab/blob/master/MNIST_linear_regression.ipynb\" target=\"_parent\"><img src=\"https://colab.research.google.com/assets/colab-badge.svg\" alt=\"Open In Colab\"/></a>"
      ]
    },
    {
      "cell_type": "code",
      "metadata": {
        "colab_type": "code",
        "id": "rPVLIFEeR9WB",
        "colab": {}
      },
      "source": [
        "%%capture\n",
        "import warnings\n",
        "warnings.simplefilter('ignore')\n",
        "import sys\n",
        "import time\n",
        "import numpy as np\n",
        "import tensorflow as tf\n",
        "import matplotlib.pyplot as plt\n",
        "from tensorflow.examples.tutorials.mnist import input_data\n",
        "%matplotlib inline\n",
        "\n",
        "%load_ext autoreload\n",
        "%autoreload 2\n",
        "\n",
        "MNIST = input_data.read_data_sets(\"MNIST_data\", one_hot=True)"
      ],
      "execution_count": 0,
      "outputs": []
    },
    {
      "cell_type": "code",
      "metadata": {
        "colab_type": "code",
        "id": "5ZzQTOF-SD8q",
        "colab": {}
      },
      "source": [
        "# Define parameters for linear model\n",
        "learning_rate = 0.1\n",
        "batch_size = 128\n",
        "n_epochs = 3\n",
        "\n",
        "# Create placeholders\n",
        "X = tf.placeholder(tf.float32, [batch_size, 784], name=\"image\")\n",
        "Y = tf.placeholder(tf.float32, [batch_size, 10], name=\"label\")\n",
        "\n",
        "# Create weights and bias\n",
        "w = tf.Variable(tf.random_normal(shape=[784, 10], stddev=0.01), name=\"weights\")\n",
        "b = tf.Variable(tf.zeros([1,10]), name='bias')\n",
        "\n",
        "# calculate scores\n",
        "logits = tf.matmul(X, w) + b\n",
        "\n",
        "# Entropy cost function and loss\n",
        "entropy = tf.nn.softmax_cross_entropy_with_logits(logits=logits,labels=Y)\n",
        "loss = tf.reduce_mean(entropy)\n",
        "\n",
        "# Define optimizer\n",
        "optimizer = tf.train.GradientDescentOptimizer(learning_rate=learning_rate).minimize(loss)"
      ],
      "execution_count": 0,
      "outputs": []
    },
    {
      "cell_type": "code",
      "metadata": {
        "colab_type": "code",
        "id": "xtb-r2vjSKki",
        "outputId": "f46a7df9-21c5-40ed-9780-5629e4ab83cb",
        "colab": {
          "base_uri": "https://localhost:8080/",
          "height": 85
        }
      },
      "source": [
        "# Run optimization and test\n",
        "loss_history = []\n",
        "acc_history = []\n",
        "init = tf.global_variables_initializer()\n",
        "with tf.Session() as sess:\n",
        "    sess.run(init)\n",
        "    n_batches = int(MNIST.train.num_examples/batch_size)\n",
        "    #n_batches = 3\n",
        "    for i in range(n_epochs):\n",
        "        print(\"current epoch: \", i)\n",
        "        for _ in range(n_batches):\n",
        "            #print(\"n_batches\", n_batches)\n",
        "            X_batch, Y_batch = MNIST.train.next_batch(batch_size)\n",
        "            _, loss_value = sess.run([optimizer, loss], feed_dict={X: X_batch, Y:Y_batch})\n",
        "        loss_history.append(loss_value)\n",
        "        \n",
        "        # Check validation accuracy    \n",
        "        n_v_batches = int(MNIST.validation.num_examples/batch_size)\n",
        "        total_correct_preds = 0\n",
        "        for j in range(n_v_batches):\n",
        "            X_batch, Y_batch = MNIST.validation.next_batch(batch_size)\n",
        "            _, loss_batch, logits_batch = sess.run([optimizer, loss, logits], feed_dict={X: X_batch, Y:Y_batch})\n",
        "            preds = tf.nn.softmax(logits_batch)\n",
        "            correct_preds = tf.equal(tf.argmax(preds, 1), tf.argmax(Y_batch, 1))\n",
        "            accuracy = tf.reduce_sum(tf.cast(correct_preds, tf.float32))\n",
        "            total_correct_preds += sess.run(accuracy)\n",
        "        validation_accuracy = total_correct_preds/MNIST.validation.num_examples\n",
        "        acc_history.append(validation_accuracy)\n",
        "\n",
        "    \n",
        "    # Test the model\n",
        "    n_batches = int(MNIST.test.num_examples/batch_size)\n",
        "    #n_batches = 3\n",
        "    total_correct_preds = 0\n",
        "    for i in range(n_batches):\n",
        "        X_batch, Y_batch = MNIST.test.next_batch(batch_size)\n",
        "        logits_batch = sess.run(logits, feed_dict={X: X_batch, Y:Y_batch})\n",
        "        preds = tf.nn.softmax(logits_batch)\n",
        "        correct_preds = tf.equal(tf.argmax(preds, 1), tf.argmax(Y_batch, 1))\n",
        "        accuracy = tf.reduce_sum(tf.cast(correct_preds, tf.float32))\n",
        "        total_correct_preds += sess.run(accuracy)\n",
        "        \n",
        "    print(\"Test accuracy is {0}\".format(total_correct_preds/MNIST.test.num_examples))"
      ],
      "execution_count": 14,
      "outputs": [
        {
          "output_type": "stream",
          "text": [
            "current epoch:  0\n",
            "current epoch:  1\n",
            "current epoch:  2\n",
            "Test accuracy is 0.9124\n"
          ],
          "name": "stdout"
        }
      ]
    },
    {
      "cell_type": "code",
      "metadata": {
        "colab_type": "code",
        "id": "iopLZP_2SlNd",
        "colab": {}
      },
      "source": [
        ""
      ],
      "execution_count": 0,
      "outputs": []
    },
    {
      "cell_type": "code",
      "metadata": {
        "colab_type": "code",
        "id": "TO3wJ1alWSYt",
        "colab": {}
      },
      "source": [
        ""
      ],
      "execution_count": 0,
      "outputs": []
    }
  ]
}
