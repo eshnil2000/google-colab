{
  "nbformat": 4,
  "nbformat_minor": 0,
  "metadata": {
    "colab": {
      "name": "Untitled4.ipynb",
      "version": "0.3.2",
      "provenance": [],
      "include_colab_link": true
    },
    "kernelspec": {
      "name": "python3",
      "display_name": "Python 3"
    }
  },
  "cells": [
    {
      "cell_type": "markdown",
      "metadata": {
        "id": "view-in-github",
        "colab_type": "text"
      },
      "source": [
        "<a href=\"https://colab.research.google.com/github/eshnil2000/google-colab/blob/master/MNIST-linear-regression.ipynb\" target=\"_parent\"><img src=\"https://colab.research.google.com/assets/colab-badge.svg\" alt=\"Open In Colab\"/></a>"
      ]
    },
    {
      "cell_type": "code",
      "metadata": {
        "id": "rPVLIFEeR9WB",
        "colab_type": "code",
        "colab": {
          "base_uri": "https://localhost:8080/",
          "height": 547
        },
        "outputId": "51c02beb-1e93-4c92-ae5f-8394c296e834"
      },
      "source": [
        "import sys\n",
        "import time\n",
        "import numpy as np\n",
        "import tensorflow as tf\n",
        "import matplotlib.pyplot as plt\n",
        "from tensorflow.examples.tutorials.mnist import input_data\n",
        "%matplotlib inline\n",
        "\n",
        "%load_ext autoreload\n",
        "%autoreload 2\n",
        "\n",
        "MNIST = input_data.read_data_sets(\"MNIST_data\", one_hot=True)"
      ],
      "execution_count": 1,
      "outputs": [
        {
          "output_type": "stream",
          "text": [
            "WARNING: Logging before flag parsing goes to stderr.\n",
            "W0724 04:40:54.092116 140277095831424 deprecation.py:323] From <ipython-input-1-7d5bd00d5b39>:12: read_data_sets (from tensorflow.contrib.learn.python.learn.datasets.mnist) is deprecated and will be removed in a future version.\n",
            "Instructions for updating:\n",
            "Please use alternatives such as official/mnist/dataset.py from tensorflow/models.\n",
            "W0724 04:40:54.093915 140277095831424 deprecation.py:323] From /usr/local/lib/python3.6/dist-packages/tensorflow/contrib/learn/python/learn/datasets/mnist.py:260: maybe_download (from tensorflow.contrib.learn.python.learn.datasets.base) is deprecated and will be removed in a future version.\n",
            "Instructions for updating:\n",
            "Please write your own downloading logic.\n",
            "W0724 04:40:54.096515 140277095831424 deprecation.py:323] From /usr/local/lib/python3.6/dist-packages/tensorflow/contrib/learn/python/learn/datasets/base.py:252: _internal_retry.<locals>.wrap.<locals>.wrapped_fn (from tensorflow.contrib.learn.python.learn.datasets.base) is deprecated and will be removed in a future version.\n",
            "Instructions for updating:\n",
            "Please use urllib or similar directly.\n",
            "W0724 04:40:54.184622 140277095831424 deprecation.py:323] From /usr/local/lib/python3.6/dist-packages/tensorflow/contrib/learn/python/learn/datasets/mnist.py:262: extract_images (from tensorflow.contrib.learn.python.learn.datasets.mnist) is deprecated and will be removed in a future version.\n",
            "Instructions for updating:\n",
            "Please use tf.data to implement this functionality.\n"
          ],
          "name": "stderr"
        },
        {
          "output_type": "stream",
          "text": [
            "Successfully downloaded train-images-idx3-ubyte.gz 9912422 bytes.\n",
            "Extracting MNIST_data/train-images-idx3-ubyte.gz\n"
          ],
          "name": "stdout"
        },
        {
          "output_type": "stream",
          "text": [
            "W0724 04:40:54.491934 140277095831424 deprecation.py:323] From /usr/local/lib/python3.6/dist-packages/tensorflow/contrib/learn/python/learn/datasets/mnist.py:267: extract_labels (from tensorflow.contrib.learn.python.learn.datasets.mnist) is deprecated and will be removed in a future version.\n",
            "Instructions for updating:\n",
            "Please use tf.data to implement this functionality.\n",
            "W0724 04:40:54.497352 140277095831424 deprecation.py:323] From /usr/local/lib/python3.6/dist-packages/tensorflow/contrib/learn/python/learn/datasets/mnist.py:110: dense_to_one_hot (from tensorflow.contrib.learn.python.learn.datasets.mnist) is deprecated and will be removed in a future version.\n",
            "Instructions for updating:\n",
            "Please use tf.one_hot on tensors.\n",
            "W0724 04:40:54.592991 140277095831424 deprecation.py:323] From /usr/local/lib/python3.6/dist-packages/tensorflow/contrib/learn/python/learn/datasets/mnist.py:290: DataSet.__init__ (from tensorflow.contrib.learn.python.learn.datasets.mnist) is deprecated and will be removed in a future version.\n",
            "Instructions for updating:\n",
            "Please use alternatives such as official/mnist/dataset.py from tensorflow/models.\n"
          ],
          "name": "stderr"
        },
        {
          "output_type": "stream",
          "text": [
            "Successfully downloaded train-labels-idx1-ubyte.gz 28881 bytes.\n",
            "Extracting MNIST_data/train-labels-idx1-ubyte.gz\n",
            "Successfully downloaded t10k-images-idx3-ubyte.gz 1648877 bytes.\n",
            "Extracting MNIST_data/t10k-images-idx3-ubyte.gz\n",
            "Successfully downloaded t10k-labels-idx1-ubyte.gz 4542 bytes.\n",
            "Extracting MNIST_data/t10k-labels-idx1-ubyte.gz\n"
          ],
          "name": "stdout"
        }
      ]
    },
    {
      "cell_type": "code",
      "metadata": {
        "id": "5ZzQTOF-SD8q",
        "colab_type": "code",
        "colab": {}
      },
      "source": [
        "# Define parameters for linear model\n",
        "learning_rate = 0.1\n",
        "batch_size = 128\n",
        "n_epochs = 3\n",
        "\n",
        "# Create placeholders\n",
        "X = tf.placeholder(tf.float32, [batch_size, 784], name=\"image\")\n",
        "Y = tf.placeholder(tf.float32, [batch_size, 10], name=\"label\")\n",
        "\n",
        "# Create weights and bias\n",
        "w = tf.Variable(tf.random_normal(shape=[784, 10], stddev=0.01), name=\"weights\")\n",
        "b = tf.Variable(tf.zeros([1,10]), name='bias')\n",
        "\n",
        "# calculate scores\n",
        "logits = tf.matmul(X, w) + b\n",
        "\n",
        "# Entropy cost function and loss\n",
        "entropy = tf.nn.softmax_cross_entropy_with_logits(logits=logits,labels=Y)\n",
        "loss = tf.reduce_mean(entropy)\n",
        "\n",
        "# Define optimizer\n",
        "optimizer = tf.train.GradientDescentOptimizer(learning_rate=learning_rate).minimize(loss)"
      ],
      "execution_count": 0,
      "outputs": []
    },
    {
      "cell_type": "code",
      "metadata": {
        "id": "xtb-r2vjSKki",
        "colab_type": "code",
        "colab": {
          "base_uri": "https://localhost:8080/",
          "height": 238
        },
        "outputId": "95bc15fd-72b6-4a45-ae46-f79377a8b52f"
      },
      "source": [
        "# Run optimization and test\n",
        "loss_history = []\n",
        "acc_history = []\n",
        "init = tf.global_variables_initializer()\n",
        "with tf.Session() as sess:\n",
        "    sess.run(init)\n",
        "    n_batches = int(MNIST.train.num_examples/batch_size)\n",
        "    n_batches = 3\n",
        "    for i in range(n_epochs):\n",
        "        print(\"n_epochs\", n_epochs)\n",
        "        for _ in range(n_batches):\n",
        "            print(\"n_batches\", n_batches)\n",
        "            X_batch, Y_batch = MNIST.train.next_batch(batch_size)\n",
        "            _, loss_value = sess.run([optimizer, loss], feed_dict={X: X_batch, Y:Y_batch})\n",
        "        loss_history.append(loss_value)\n",
        "        \n",
        "        # Check validation accuracy    \n",
        "        n_v_batches = int(MNIST.validation.num_examples/batch_size)\n",
        "        total_correct_preds = 0\n",
        "        for j in range(n_v_batches):\n",
        "            X_batch, Y_batch = MNIST.validation.next_batch(batch_size)\n",
        "            _, loss_batch, logits_batch = sess.run([optimizer, loss, logits], feed_dict={X: X_batch, Y:Y_batch})\n",
        "            preds = tf.nn.softmax(logits_batch)\n",
        "            correct_preds = tf.equal(tf.argmax(preds, 1), tf.argmax(Y_batch, 1))\n",
        "            accuracy = tf.reduce_sum(tf.cast(correct_preds, tf.float32))\n",
        "            total_correct_preds += sess.run(accuracy)\n",
        "        validation_accuracy = total_correct_preds/MNIST.validation.num_examples\n",
        "        acc_history.append(validation_accuracy)\n",
        "\n",
        "    \n",
        "    # Test the model\n",
        "    n_batches = int(MNIST.test.num_examples/batch_size)\n",
        "    n_batches = 3\n",
        "    total_correct_preds = 0\n",
        "    for i in range(n_batches):\n",
        "        X_batch, Y_batch = MNIST.test.next_batch(batch_size)\n",
        "        logits_batch = sess.run(logits, feed_dict={X: X_batch, Y:Y_batch})\n",
        "        preds = tf.nn.softmax(logits_batch)\n",
        "        correct_preds = tf.equal(tf.argmax(preds, 1), tf.argmax(Y_batch, 1))\n",
        "        accuracy = tf.reduce_sum(tf.cast(correct_preds, tf.float32))\n",
        "        total_correct_preds += sess.run(accuracy)\n",
        "        \n",
        "    print(\"Test accuracy is {0}\".format(total_correct_preds/MNIST.test.num_examples))"
      ],
      "execution_count": 15,
      "outputs": [
        {
          "output_type": "stream",
          "text": [
            "n_epochs 3\n",
            "n_batches 3\n",
            "n_batches 3\n",
            "n_batches 3\n",
            "n_epochs 3\n",
            "n_batches 3\n",
            "n_batches 3\n",
            "n_batches 3\n",
            "n_epochs 3\n",
            "n_batches 3\n",
            "n_batches 3\n",
            "n_batches 3\n",
            "Test accuracy is 0.0331\n"
          ],
          "name": "stdout"
        }
      ]
    },
    {
      "cell_type": "code",
      "metadata": {
        "id": "iopLZP_2SlNd",
        "colab_type": "code",
        "colab": {}
      },
      "source": [
        ""
      ],
      "execution_count": 0,
      "outputs": []
    }
  ]
}