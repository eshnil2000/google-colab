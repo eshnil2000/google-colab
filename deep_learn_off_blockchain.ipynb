{
  "nbformat": 4,
  "nbformat_minor": 0,
  "metadata": {
    "kernelspec": {
      "display_name": "Python 3",
      "language": "python",
      "name": "python3"
    },
    "language_info": {
      "codemirror_mode": {
        "name": "ipython",
        "version": 3
      },
      "file_extension": ".py",
      "mimetype": "text/x-python",
      "name": "python",
      "nbconvert_exporter": "python",
      "pygments_lexer": "ipython3",
      "version": "3.7.3"
    },
    "colab": {
      "name": "single-notebook.ipynb",
      "version": "0.3.2",
      "provenance": [],
      "include_colab_link": true
    }
  },
  "cells": [
    {
      "cell_type": "markdown",
      "metadata": {
        "id": "view-in-github",
        "colab_type": "text"
      },
      "source": [
        "<a href=\"https://colab.research.google.com/github/eshnil2000/google-colab/blob/master/deep_learn_off_blockchain.ipynb\" target=\"_parent\"><img src=\"https://colab.research.google.com/assets/colab-badge.svg\" alt=\"Open In Colab\"/></a>"
      ]
    },
    {
      "cell_type": "code",
      "metadata": {
        "id": "l1kTzyTVzqSm",
        "colab_type": "code",
        "colab": {
          "base_uri": "https://localhost:8080/",
          "height": 425
        },
        "outputId": "633df794-9041-4941-9cf3-51748a2dfc21"
      },
      "source": [
        "# We will use Poll data as an example \n",
        "# Clone the git repository with the models, data, Smart Contract\n",
        "!git clone https://github.com/eshnil2000/google-colab.git\n",
        "!pip install pandas matplotlib tensorflow numpy\n",
        "%cd google-colab/\n",
        "# Import the required modules\n",
        "import pandas as pd\n",
        "import numpy as np\n",
        "import matplotlib.pyplot as plt\n",
        "\n",
        "#Load the polling data\n",
        "poll_data=pd.read_csv(\"data/poll_data.csv\")\n",
        "#Convert data to list format\n",
        "# The data has 3 columns: Latitude, Logitude & Party Voted in [0 indicates \"Blue Party\" Vote, 1 indicated \"Red Party\" Vote]\n",
        "# Our goal is to train a Neural Network to predict the Party Voted, given the Latitude & Longitude\n",
        "data= [tuple(map(lambda y: int(y), x)) for x in poll_data.values]\n",
        "\n",
        "#prepare the data so we can plot it\n",
        "scatter_x = np.array(list(map(lambda x: x[1:2][0], data)))\n",
        "scatter_y = np.array(list(map(lambda x: x[:1][0], data)))\n",
        "\n",
        "group = np.array(list(map(lambda x: x[2:3][0], data)))\n",
        "\n",
        "cdict = {0: \"blue\", 1: \"red\"}\n",
        "\n",
        "fig, ax = plt.subplots()\n",
        "for g in np.unique(group):\n",
        "    ix = np.where(group == g)\n",
        "    ax.scatter(scatter_x[ix], scatter_y[ix], c = cdict[g], label = g, s = 4)\n",
        "\n",
        "ax.legend()\n",
        "plt.show()"
      ],
      "execution_count": 1,
      "outputs": [
        {
          "output_type": "stream",
          "text": [
            "Cloning into 'google-colab'...\n",
            "remote: Enumerating objects: 92, done.\u001b[K\n",
            "remote: Counting objects: 100% (92/92), done.\u001b[K\n",
            "remote: Compressing objects: 100% (92/92), done.\u001b[K\n",
            "remote: Total 357 (delta 41), reused 0 (delta 0), pack-reused 265\u001b[K\n",
            "Receiving objects: 100% (357/357), 31.74 MiB | 32.34 MiB/s, done.\n",
            "Resolving deltas: 100% (170/170), done.\n",
            "/content/google-colab\n"
          ],
          "name": "stdout"
        },
        {
          "output_type": "display_data",
          "data": {
            "image/png": "[encoded data removed]",
            "text/plain": [
              "<Figure size 432x288 with 1 Axes>"
            ]
          },
          "metadata": {
            "tags": []
          }
        }
      ]
    },
    {
      "cell_type": "code",
      "metadata": {
        "id": "-5WkZjrmzqSv",
        "colab_type": "code",
        "colab": {
          "base_uri": "https://localhost:8080/",
          "height": 326
        },
        "outputId": "94e9fe9b-7d08-46f9-a811-6d3a13de2de8"
      },
      "source": [
        "# Let's build a simple Neural Network, which we can train on the Latitude, Longitude data\n",
        "#Load the modules\n",
        "import sys\n",
        "sys.path.append('../google-colab/')\n",
        "from dutils.neural_network import NeuralNetwork\n",
        "from dutils.dataset import DemoDataset\n",
        "\n",
        "#Build the Neural Network\n",
        "#Number of neurons in input layer\n",
        "il_nn=2\n",
        "#Hidden layers: each element represents number of neurons in that layer\n",
        "hl_nn = []\n",
        "#Number of neurons in output layer\n",
        "ol_nn = 2\n",
        "nn = NeuralNetwork(il_nn,hl_nn,ol_nn)\n",
        "nn.init_network()"
      ],
      "execution_count": 2,
      "outputs": [
        {
          "output_type": "stream",
          "text": [
            "WARNING: Logging before flag parsing goes to stderr.\n",
            "W0802 00:51:44.718852 139773124220800 deprecation_wrapper.py:119] From /content/google-colab/dutils/neural_network.py:49: The name tf.placeholder is deprecated. Please use tf.compat.v1.placeholder instead.\n",
            "\n",
            "W0802 00:51:44.766516 139773124220800 deprecation_wrapper.py:119] From /content/google-colab/dutils/neural_network.py:75: The name tf.random_normal is deprecated. Please use tf.random.normal instead.\n",
            "\n",
            "W0802 00:51:44.792281 139773124220800 deprecation.py:323] From /content/google-colab/dutils/neural_network.py:130: softmax_cross_entropy_with_logits (from tensorflow.python.ops.nn_ops) is deprecated and will be removed in a future version.\n",
            "Instructions for updating:\n",
            "\n",
            "Future major versions of TensorFlow will allow gradients to flow\n",
            "into the labels input on backprop by default.\n",
            "\n",
            "See `tf.nn.softmax_cross_entropy_with_logits_v2`.\n",
            "\n",
            "W0802 00:51:44.862714 139773124220800 deprecation_wrapper.py:119] From /content/google-colab/dutils/neural_network.py:131: The name tf.train.AdamOptimizer is deprecated. Please use tf.compat.v1.train.AdamOptimizer instead.\n",
            "\n",
            "W0802 00:51:44.948805 139773124220800 deprecation_wrapper.py:119] From /content/google-colab/dutils/neural_network.py:140: The name tf.global_variables_initializer is deprecated. Please use tf.compat.v1.global_variables_initializer instead.\n",
            "\n"
          ],
          "name": "stderr"
        }
      ]
    },
    {
      "cell_type": "code",
      "metadata": {
        "id": "_QDl8v7szqSy",
        "colab_type": "code",
        "colab": {
          "base_uri": "https://localhost:8080/",
          "height": 572
        },
        "outputId": "037ca10e-30aa-4f02-d7d8-c3d64808525c"
      },
      "source": [
        "# Let's visualize the Neural Network we just built\n",
        "#Import modules for Visualization\n",
        "import dutils.VisualizeNN as VisNN\n",
        "import numpy as np\n",
        "\n",
        "# Visualize the neural Network\n",
        "# Combine the input layer + hidden layers + output layers into a big matrix\n",
        "network_array=[]\n",
        "network_array.clear()\n",
        "network_array=hl_nn\n",
        "network_array.insert(0,il_nn)\n",
        "network_array.append(ol_nn)\n",
        "\n",
        "# Print the network\n",
        "print(network_array)\n",
        "network=VisNN.DrawNN(np.asarray(network_array))\n",
        "network.draw()"
      ],
      "execution_count": 3,
      "outputs": [
        {
          "output_type": "stream",
          "text": [
            "[2, 2]\n"
          ],
          "name": "stdout"
        },
        {
          "output_type": "display_data",
          "data": {
            "image/png": "[encoded data removed]",
            "text/plain": [
              "<Figure size 864x648 with 1 Axes>"
            ]
          },
          "metadata": {
            "tags": []
          }
        }
      ]
    },
    {
      "cell_type": "code",
      "metadata": {
        "id": "mKZrYQIHzqS2",
        "colab_type": "code",
        "colab": {}
      },
      "source": [
        "# Separate out the input data [Latitude, Longitude] into an array batch_xs and the output data [Party] into array batch_ys\n",
        "\n",
        "import tensorflow as tf\n",
        "\n",
        "batch_xs=np.array([poll_data['latitude'],poll_data['longitude']])\n",
        "batch_xs=batch_xs.T\n",
        "yy=tf.one_hot(poll_data['party'],2)\n",
        "sess = tf.Session()\n",
        "batch_ys=yy.eval(session=sess)"
      ],
      "execution_count": 0,
      "outputs": []
    },
    {
      "cell_type": "code",
      "metadata": {
        "id": "DzXtJljHzqS5",
        "colab_type": "code",
        "colab": {
          "base_uri": "https://localhost:8080/",
          "height": 51
        },
        "outputId": "a09e8c0d-046f-41ef-ec26-b406024644b6"
      },
      "source": [
        "print(\"Shape of input data: \" ,batch_xs.shape,\"\\nShape of output data: \" ,batch_ys.shape)"
      ],
      "execution_count": 5,
      "outputs": [
        {
          "output_type": "stream",
          "text": [
            "Shape of input data:  (2742, 2) \n",
            "Shape of output data:  (2742, 2)\n"
          ],
          "name": "stdout"
        }
      ]
    },
    {
      "cell_type": "code",
      "metadata": {
        "id": "wOomUCCZzqS9",
        "colab_type": "code",
        "colab": {
          "base_uri": "https://localhost:8080/",
          "height": 85
        },
        "outputId": "a04c3644-b6eb-4fc7-d8ed-b73fa7aff817"
      },
      "source": [
        "# Let's \n",
        "NUM_STEPS = 2\n",
        "MINIBATCH_SIZE = 100\n",
        "\n",
        "x = tf.placeholder(tf.float32, [None, 2])\n",
        "W = tf.Variable(tf.zeros([2, 2]))\n",
        "b = tf.Variable(tf.zeros([1, 2]))\n",
        "y_true = tf.placeholder(tf.float32, [None, 2])\n",
        "\n",
        "y_pred = tf.add(tf.matmul(x, W),b)\n",
        "\n",
        "cross_entropy = tf.reduce_mean(tf.nn.softmax_cross_entropy_with_logits(\n",
        "    logits=y_pred, labels=y_true))\n",
        "\n",
        "gd_step = tf.train.GradientDescentOptimizer(0.5).minimize(cross_entropy)\n",
        "\n",
        "correct_mask = tf.equal(tf.argmax(y_pred, 1), tf.argmax(y_true, 1))\n",
        "\n",
        "accuracy = tf.reduce_mean(tf.cast(correct_mask, tf.float32))\n",
        "\n",
        "with tf.Session() as sess: # Train\n",
        "    sess.run(tf.global_variables_initializer())\n",
        "    i=0\n",
        "    for _ in range(NUM_STEPS):\n",
        "        \n",
        "        sess.run(gd_step, feed_dict={x: batch_xs[i:i+MINIBATCH_SIZE], y_true: batch_ys[i:i+MINIBATCH_SIZE]})\n",
        "        \n",
        "        i=i+MINIBATCH_SIZE\n",
        "        #print(i)\n",
        "        # Test\n",
        "        raw_prediction,true,prediction,ans = sess.run([y_pred,tf.argmax(y_true, 1),tf.argmax(y_pred, 1),accuracy], feed_dict={x: batch_xs[NUM_STEPS*MINIBATCH_SIZE:],y_true: batch_ys[NUM_STEPS*MINIBATCH_SIZE:]})\n",
        "        print(sess.run(tf.argmax(raw_prediction,1)))\n",
        "        #print(\"Accuracy: {:.4}%\".format(ans*100),\"Prediction:\", prediction,\"True:\", true)\n",
        "        print(\"Accuracy: {:.4}%\".format(ans*100))\n",
        "import sys\n",
        "import numpy\n",
        "numpy.set_printoptions(threshold=sys.maxsize)\n",
        "#print(true)\n",
        "#print(raw_prediction)"
      ],
      "execution_count": 6,
      "outputs": [
        {
          "output_type": "stream",
          "text": [
            "[1 1 1 ... 1 1 1]\n",
            "Accuracy: 85.96%\n",
            "[0 0 0 ... 0 0 0]\n",
            "Accuracy: 14.04%\n"
          ],
          "name": "stdout"
        }
      ]
    }
  ]
}
