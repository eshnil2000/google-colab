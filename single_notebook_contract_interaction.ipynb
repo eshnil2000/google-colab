{
  "nbformat": 4,
  "nbformat_minor": 0,
  "metadata": {
    "kernelspec": {
      "display_name": "Python 3",
      "language": "python",
      "name": "python3"
    },
    "language_info": {
      "codemirror_mode": {
        "name": "ipython",
        "version": 3
      },
      "file_extension": ".py",
      "mimetype": "text/x-python",
      "name": "python",
      "nbconvert_exporter": "python",
      "pygments_lexer": "ipython3",
      "version": "3.7.3"
    },
    "colab": {
      "name": "single-notebook-contract-interaction.ipynb",
      "version": "0.3.2",
      "provenance": [],
      "include_colab_link": true
    }
  },
  "cells": [
    {
      "cell_type": "markdown",
      "metadata": {
        "id": "view-in-github",
        "colab_type": "text"
      },
      "source": [
        "<a href=\"https://colab.research.google.com/github/eshnil2000/google-colab/blob/master/single_notebook_contract_interaction.ipynb\" target=\"_parent\"><img src=\"https://colab.research.google.com/assets/colab-badge.svg\" alt=\"Open In Colab\"/></a>"
      ]
    },
    {
      "cell_type": "code",
      "metadata": {
        "id": "G4HuTCLS9-1F",
        "colab_type": "code",
        "colab": {
          "base_uri": "https://localhost:8080/",
          "height": 323
        },
        "outputId": "1e1da913-576c-40dc-9adb-3bd1a77b4c0b"
      },
      "source": [
        "#Import required modules & files\n",
        "%rm -rf /content/google-colab/\n",
        "!git clone https://github.com/eshnil2000/google-colab.git\n",
        "%cd google-colab\n",
        "!brownie compile\n",
        "\n",
        "import web3\n",
        "from web3 import Web3\n",
        "web3 = Web3(Web3.HTTPProvider(\"http://localhost:8545\",request_kwargs={'timeout':60}))\n",
        "web3.isConnected()\n",
        "\n",
        "import config as cfg\n",
        "cfg.DEBUG='TRUE'\n",
        "import json\n",
        "\n",
        "#Read in the contract\n",
        "with open('contracts/Danku_demo_final.json') as json_file:  \n",
        "    data = json.load(json_file)\n"
      ],
      "execution_count": 1,
      "outputs": [
        {
          "output_type": "stream",
          "text": [
            "Cloning into 'google-colab'...\n",
            "remote: Enumerating objects: 89, done.\u001b[K\n",
            "remote: Counting objects:   1% (1/89)   \u001b[K\rremote: Counting objects:   2% (2/89)   \u001b[K\rremote: Counting objects:   3% (3/89)   \u001b[K\rremote: Counting objects:   4% (4/89)   \u001b[K\rremote: Counting objects:   5% (5/89)   \u001b[K\rremote: Counting objects:   6% (6/89)   \u001b[K\rremote: Counting objects:   7% (7/89)   \u001b[K\rremote: Counting objects:   8% (8/89)   \u001b[K\rremote: Counting objects:  10% (9/89)   \u001b[K\rremote: Counting objects:  11% (10/89)   \u001b[K\rremote: Counting objects:  12% (11/89)   \u001b[K\rremote: Counting objects:  13% (12/89)   \u001b[K\rremote: Counting objects:  14% (13/89)   \u001b[K\rremote: Counting objects:  15% (14/89)   \u001b[K\rremote: Counting objects:  16% (15/89)   \u001b[K\rremote: Counting objects:  17% (16/89)   \u001b[K\rremote: Counting objects:  19% (17/89)   \u001b[K\rremote: Counting objects:  20% (18/89)   \u001b[K\rremote: Counting objects:  21% (19/89)   \u001b[K\rremote: Counting objects:  22% (20/89)   \u001b[K\rremote: Counting objects:  23% (21/89)   \u001b[K\rremote: Counting objects:  24% (22/89)   \u001b[K\rremote: Counting objects:  25% (23/89)   \u001b[K\rremote: Counting objects:  26% (24/89)   \u001b[K\rremote: Counting objects:  28% (25/89)   \u001b[K\rremote: Counting objects:  29% (26/89)   \u001b[K\rremote: Counting objects:  30% (27/89)   \u001b[K\rremote: Counting objects:  31% (28/89)   \u001b[K\rremote: Counting objects:  32% (29/89)   \u001b[K\rremote: Counting objects:  33% (30/89)   \u001b[K\rremote: Counting objects:  34% (31/89)   \u001b[K\rremote: Counting objects:  35% (32/89)   \u001b[K\rremote: Counting objects:  37% (33/89)   \u001b[K\rremote: Counting objects:  38% (34/89)   \u001b[K\rremote: Counting objects:  39% (35/89)   \u001b[K\rremote: Counting objects:  40% (36/89)   \u001b[K\rremote: Counting objects:  41% (37/89)   \u001b[K\rremote: Counting objects:  42% (38/89)   \u001b[K\rremote: Counting objects:  43% (39/89)   \u001b[K\rremote: Counting objects:  44% (40/89)   \u001b[K\rremote: Counting objects:  46% (41/89)   \u001b[K\rremote: Counting objects:  47% (42/89)   \u001b[K\rremote: Counting objects:  48% (43/89)   \u001b[K\rremote: Counting objects:  49% (44/89)   \u001b[K\rremote: Counting objects:  50% (45/89)   \u001b[K\rremote: Counting objects:  51% (46/89)   \u001b[K\rremote: Counting objects:  52% (47/89)   \u001b[K\rremote: Counting objects:  53% (48/89)   \u001b[K\rremote: Counting objects:  55% (49/89)   \u001b[K\rremote: Counting objects:  56% (50/89)   \u001b[K\rremote: Counting objects:  57% (51/89)   \u001b[K\rremote: Counting objects:  58% (52/89)   \u001b[K\rremote: Counting objects:  59% (53/89)   \u001b[K\rremote: Counting objects:  60% (54/89)   \u001b[K\rremote: Counting objects:  61% (55/89)   \u001b[K\rremote: Counting objects:  62% (56/89)   \u001b[K\rremote: Counting objects:  64% (57/89)   \u001b[K\rremote: Counting objects:  65% (58/89)   \u001b[K\rremote: Counting objects:  66% (59/89)   \u001b[K\rremote: Counting objects:  67% (60/89)   \u001b[K\rremote: Counting objects:  68% (61/89)   \u001b[K\rremote: Counting objects:  69% (62/89)   \u001b[K\rremote: Counting objects:  70% (63/89)   \u001b[K\rremote: Counting objects:  71% (64/89)   \u001b[K\rremote: Counting objects:  73% (65/89)   \u001b[K\rremote: Counting objects:  74% (66/89)   \u001b[K\rremote: Counting objects:  75% (67/89)   \u001b[K\rremote: Counting objects:  76% (68/89)   \u001b[K\rremote: Counting objects:  77% (69/89)   \u001b[K\rremote: Counting objects:  78% (70/89)   \u001b[K\rremote: Counting objects:  79% (71/89)   \u001b[K\rremote: Counting objects:  80% (72/89)   \u001b[K\rremote: Counting objects:  82% (73/89)   \u001b[K\rremote: Counting objects:  83% (74/89)   \u001b[K\rremote: Counting objects:  84% (75/89)   \u001b[K\rremote: Counting objects:  85% (76/89)   \u001b[K\rremote: Counting objects:  86% (77/89)   \u001b[K\rremote: Counting objects:  87% (78/89)   \u001b[K\rremote: Counting objects:  88% (79/89)   \u001b[K\rremote: Counting objects:  89% (80/89)   \u001b[K\rremote: Counting objects:  91% (81/89)   \u001b[K\rremote: Counting objects:  92% (82/89)   \u001b[K\rremote: Counting objects:  93% (83/89)   \u001b[K\rremote: Counting objects:  94% (84/89)   \u001b[K\rremote: Counting objects:  95% (85/89)   \u001b[K\rremote: Counting objects:  96% (86/89)   \u001b[K\rremote: Counting objects:  97% (87/89)   \u001b[K\rremote: Counting objects:  98% (88/89)   \u001b[K\rremote: Counting objects: 100% (89/89)   \u001b[K\rremote: Counting objects: 100% (89/89), done.\u001b[K\n",
            "remote: Compressing objects: 100% (89/89), done.\u001b[K\n",
            "remote: Total 354 (delta 40), reused 0 (delta 0), pack-reused 265\u001b[K\n",
            "Receiving objects: 100% (354/354), 31.73 MiB | 33.77 MiB/s, done.\n",
            "Resolving deltas: 100% (169/169), done.\n",
            "/content/google-colab\n",
            "Brownie v1.0.0b10 - Python development framework for Ethereum\n",
            "\n",
            "WARNING: 'test.revert_traceback' not found in the config file for this project. The default setting has been used.\n",
            "WARNING: 'solc.minify_source' not found in the config file for this project. The default setting has been used.\n",
            "Using solc version v0.4.19\n",
            "Compiling contracts...\n",
            "Optimizer: Enabled  Runs: 200\n",
            "Generating build data...\n",
            " - Danku_demo_final...\n",
            "Brownie project has been compiled at /content/google-colab/build/contracts\n"
          ],
          "name": "stdout"
        }
      ]
    },
    {
      "cell_type": "code",
      "metadata": {
        "id": "GXxEmZUd9-1I",
        "colab_type": "code",
        "colab": {}
      },
      "source": [
        "#Prepare the contract for deployment\n",
        "web3.eth.defaultAccount=web3.eth.accounts[1]\n",
        "myContract = web3.eth.contract(abi=data['abi'], bytecode=data['bytecode'])\n"
      ],
      "execution_count": 0,
      "outputs": []
    },
    {
      "cell_type": "code",
      "metadata": {
        "id": "iwXHia729-1L",
        "colab_type": "code",
        "colab": {}
      },
      "source": [
        "tx_hash=myContract.constructor().transact()"
      ],
      "execution_count": 0,
      "outputs": []
    },
    {
      "cell_type": "code",
      "metadata": {
        "id": "ia3FVADv9-1P",
        "colab_type": "code",
        "colab": {}
      },
      "source": [
        "#Confirmation of contract deployment\n",
        "tx_receipt = web3.eth.waitForTransactionReceipt(tx_hash)"
      ],
      "execution_count": 0,
      "outputs": []
    },
    {
      "cell_type": "code",
      "metadata": {
        "id": "lzehFDss9-1S",
        "colab_type": "code",
        "colab": {}
      },
      "source": [
        "# Create a handle to the contract instance with the newly-deployed address\n",
        "myContractaddress = web3.eth.contract(\n",
        "    address=tx_receipt.contractAddress,\n",
        "    abi=data['abi'],\n",
        ")"
      ],
      "execution_count": 0,
      "outputs": []
    },
    {
      "cell_type": "code",
      "metadata": {
        "id": "-403JpwQ9-1W",
        "colab_type": "code",
        "colab": {}
      },
      "source": [
        "#Install modules to read in training data, prepare Neural Network\n",
        "from dutils.dataset import DemoDataset\n",
        "from dutils.neural_network import NeuralNetwork\n",
        "import dutils.debug as dbg\n",
        "from secrets import randbelow\n",
        "from matplotlib import pyplot as plt\n",
        "import numpy as np"
      ],
      "execution_count": 0,
      "outputs": []
    },
    {
      "cell_type": "code",
      "metadata": {
        "id": "8knZIFk_9-1Z",
        "colab_type": "code",
        "colab": {}
      },
      "source": [
        "#Split data into training & test sets\n",
        "scd = DemoDataset(training_percentage=0.8,partition_size=5)\n",
        "#Generate Unique number for each partition\n",
        "scd.generate_nonce()\n",
        "#COmpute the unique hash of each group of data in each of the partitions\n",
        "scd.sha_all_data_groups()\n"
      ],
      "execution_count": 0,
      "outputs": []
    },
    {
      "cell_type": "code",
      "metadata": {
        "id": "4-JYUe0o-ugV",
        "colab_type": "code",
        "colab": {
          "base_uri": "https://localhost:8080/",
          "height": 241
        },
        "outputId": "c2016ab7-cea1-4393-b862-3f8c63769b4f"
      },
      "source": [
        "print(\"The input data is\\n\",scd.data)\n",
        "print(\"The data is of length:\", len(scd.data), \" and split up into \",scd.num_data_groups, \" data partitions\")\n",
        "print(\"Each partition has a nonces/unique number \\n\",scd.nonce)\n",
        "print(\"Hashed byte value of each partition \\n\")\n",
        "print(scd.hashed_data_group)\n",
        "print(\"The number of training groups\\n\",scd.num_train_data_groups)\n",
        "print(\"Training data in format (latitude,longitude,party_voted):\")\n",
        "print(scd.train_data)"
      ],
      "execution_count": 34,
      "outputs": [
        {
          "output_type": "stream",
          "text": [
            "The input data is\n",
            " [(31569243, -103006747, 1), (36931166, -76239720, 0), (34675090, -78044929, 1), (41775934, -94357971, 1), (40036673, -98069593, 1), (30914247, -91098267, 1), (36442431, -78557098, 1), (36379479, -79366733, 1), (29297302, -97047148, 1), (35936934, -76203339, 1), (31762219, -83876179, 1), (30901690, -89820725, 1), (31689973, -84327480, 0), (31212878, -83412143, 1), (36690661, -93344687, 1), (40280531, -74712018, 0), (42480150, -76946931, 1), (35504165, -86792003, 1), (40495710, -81216271, 1), (30383156, -85515060, 1), (30025584, -85215173, 1), (41772503, -91132480, 1), (48940067, -111849008, 1), (40306854, -92085363, 1), (45567085, -104539066, 1), (33495794, -97143184, 1), (41027277, -76653633, 1), (34310191, -96670349, 1), (41685744, -81672797, 0), (46315267, -119371393, 1), (39165152, -108076508, 1), (44330169, -86027194, 1), (37092605, -108125194, 0), (34155253, -78055776, 1), (36311201, -78922920, 1), (41396988, -75186881, 1), (37368042, -102265146, 1), (32257831, -85129772, 0), (34965525, -100814865, 1), (32378209, -101612630, 1), (37534736, -122325880, 0), (37119566, -90444953, 1), (41232908, -120507888, 1), (40712900, -91238190, 1), (46577941, -119162115, 1), (44063604, -116750704, 1), (33895272, -80498019, 0), (33331905, -91297702, 0), (26763312, -81438833, 1), (27297687, -97787713, 0)]\n",
            "The data is of length: 50  and split up into  10  data partitions\n",
            "Each partition has a nonces/unique number \n",
            " [3781611467, 3441994498, 3603825693, 3600697719, 274457994, 3315424871, 1536865784, 2376477371, 1629934853, 949686412]\n",
            "Hashed byte value of each partition \n",
            "\n",
            "[b'\\x06<,\\xbc=8\\xa24\\xe3|K\\x99\\x8cu\\xd4\\xf6Z\\xe7\\xcc\\xc0;\\xaf\\xac\\xf8F\\x94i7\\xfaXC\\xa5', b'E\\xe5\\xe7(\\xe9\\xd5\\x04#\\x1dK.\\xf9\"q\\xcb\\xe0y\\x9b\\xf7\\x9eh\\xa8Z\\xecU\\xc5\\xbfr\\x16\\xfc4\\xa2', b'r\\x1a\\x99)\\xaf\\xbd\\x91\\xf0.\\xe2[=\\xd8\\xf9\\x95\\x9e=\\xd6\\xb3\\x03VI\\x08\\xb1\\x83\\xd7-\\x0f\\x86\\xd9^%', b\"Z\\xb5\\x8c\\x16\\x9f\\x10!\\xfd\\xe1\\xb3Sw'\\xf9\\x04D\\xe2\\xba\\x84t\\t\\x0e\\x12\\xdc\\xbaHW\\xcc\\xad\\x9a^:\", b'e\\xf7\\x0b \\xe4#\\xda\\xf3\\x8f\\xcc*\\xd4A\\x84\\xd7B\\xbf\\x06\\x10\\x8e\\xda\\x97\\x01\\xd0\\xff}\\x12_w\\xf4m\\xfd', b'*\\x98\\xf0\\xa4\\xd9N\\xedS!\\xc6\\xa08\\rD\\x16:\\xf4@\\xdaIT\\xc97\\xc69\\x8a\\xe3\\xd0uF&8', b'Qk.1\\x12i5\\xc3P\\xc5\\xb5\\xe9\\xe0\\x86\\x82/\\x9a\\x19\\x8e\\xbf\\xfc\\x9e\\xe4\\x804\\x98 \\x9c\\xd8\\xe7&\\x8f', b\"dx\\xa8\\xc6\\xed\\x00'\\xd1\\xcb\\xd65T\\x8b\\x89@\\x1d\\xaa\\xbd\\xb8\\xc9\\xdb\\x12F\\xefJ\\xa1LZ\\xbf\\xcbLP\", b\"Vg\\x80G\\x91 c\\x86J\\n\\xe9\\xdb'r\\x1d\\x1b$U\\x0ffm\\xd2\\x14\\x9c\\xec<mS\\xc8\\x81\\xd0\\x17\", b'\\xef\\x01\\xf9#&\\x98\\xf2 8\\xaa\\xd1\\xf7\\xc179\\x8bZ\\xdb\\xa2\\\\\\xcf\\xf4\\x90Eg\\xf0\\x90=\\xfa\\xd7ub']\n",
            "The number of training groups\n",
            " 8\n",
            "Training data in format (latitude,longitude,party_voted):\n",
            "[(30914247, -91098267, 1), (36442431, -78557098, 1), (36379479, -79366733, 1), (29297302, -97047148, 1), (35936934, -76203339, 1), (41396988, -75186881, 1), (37368042, -102265146, 1), (32257831, -85129772, 0), (34965525, -100814865, 1), (32378209, -101612630, 1), (33495794, -97143184, 1), (41027277, -76653633, 1), (34310191, -96670349, 1), (41685744, -81672797, 0), (46315267, -119371393, 1), (30025584, -85215173, 1), (41772503, -91132480, 1), (48940067, -111849008, 1), (40306854, -92085363, 1), (45567085, -104539066, 1), (37534736, -122325880, 0), (37119566, -90444953, 1), (41232908, -120507888, 1), (40712900, -91238190, 1), (46577941, -119162115, 1), (44063604, -116750704, 1), (33895272, -80498019, 0), (33331905, -91297702, 0), (26763312, -81438833, 1), (27297687, -97787713, 0), (39165152, -108076508, 1), (44330169, -86027194, 1), (37092605, -108125194, 0), (34155253, -78055776, 1), (36311201, -78922920, 1), (31762219, -83876179, 1), (30901690, -89820725, 1), (31689973, -84327480, 0), (31212878, -83412143, 1), (36690661, -93344687, 1)]\n"
          ],
          "name": "stdout"
        }
      ]
    },
    {
      "cell_type": "code",
      "metadata": {
        "id": "o0X7eikv9-1e",
        "colab_type": "code",
        "colab": {}
      },
      "source": [
        "offer_account = web3.eth.accounts[1]\n",
        "solver_account = web3.eth.accounts[2]\n",
        "_hashed_data_groups = []\n",
        "accuracy_criteria = 5000 # 50.00%\n",
        "#total_gas_used = 0\n",
        "timeout = 180\n",
        "w_scale = 1000 # Scale up weights by 1000x\n",
        "b_scale = 1000 # Scale up biases by 1000x"
      ],
      "execution_count": 0,
      "outputs": []
    },
    {
      "cell_type": "code",
      "metadata": {
        "id": "wt6SEA_n9-1j",
        "colab_type": "code",
        "colab": {}
      },
      "source": [
        "init1_tx=myContractaddress.functions.init1(scd.hashed_data_group, accuracy_criteria,offer_account)\n",
        "init1_tx_hash=init1_tx.transact()\n",
        "\n",
        "init2_tx=myContractaddress.functions.init2().transact()\n"
      ],
      "execution_count": 0,
      "outputs": []
    },
    {
      "cell_type": "code",
      "metadata": {
        "id": "vimT_svw9-1p",
        "colab_type": "code",
        "colab": {}
      },
      "source": [
        "# Get training & testing partition numbers from the Contract. These are randomly generated on the contract\n",
        "training_partition = list(map(lambda x: myContractaddress.functions.training_partition(x).call(),range(scd.num_train_data_groups)))\n",
        "testing_partition = list(map(lambda x: myContractaddress.functions.training_partition(x).call(),range(scd.num_test_data_groups)))\n",
        "scd.partition_dataset(training_partition, testing_partition)\n"
      ],
      "execution_count": 0,
      "outputs": []
    },
    {
      "cell_type": "code",
      "metadata": {
        "id": "jKw5J50H9-1u",
        "colab_type": "code",
        "colab": {
          "base_uri": "https://localhost:8080/",
          "height": 309
        },
        "outputId": "ea3d2474-5132-4532-a3b4-029e3a043c0a"
      },
      "source": [
        "def scale_packed_data(data, scale):\n",
        "    # Scale data and convert it to an integer\n",
        "    return list(map(lambda x: int(x*scale), data))\n",
        "\n",
        "training_nonces = []\n",
        "training_data = []\n",
        "for i in training_partition:\n",
        "    training_nonces.append(scd.nonce[i])\n",
        "# Pack data into a 1-dimension array\n",
        "# Since the data array is too large, we're going to send them in single data group chunks\n",
        "train_data = scd.pack_data(scd.train_data)\n",
        "test_data = scd.pack_data(scd.test_data)\n",
        "\n",
        "init3_tx = []\n",
        "for i in range(len(training_partition)):\n",
        "    start = i*scd.dps*scd.partition_size\n",
        "    end = start + scd.dps*scd.partition_size\n",
        "    dbg.dprint(\"(\" + str(training_partition[i]) + \") Train data,nonce: \" + str(train_data[start:end]) + \",\" + str(scd.train_nonce[i]))\n",
        "    iter_tx = myContractaddress.functions.init3(train_data[start:end], scd.train_nonce[i])\n",
        "    iter_receipt = iter_tx.transact()\n",
        "    init3_tx.append(iter_tx)\n"
      ],
      "execution_count": 11,
      "outputs": [
        {
          "output_type": "stream",
          "text": [
            "(1) Train data,nonce: [30914247, -91098267, 1, 36442431, -78557098, 1, 36379479, -79366733, 1, 29297302, -97047148, 1, 35936934, -76203339, 1],3441994498\n",
            "\n",
            "(7) Train data,nonce: [41396988, -75186881, 1, 37368042, -102265146, 1, 32257831, -85129772, 0, 34965525, -100814865, 1, 32378209, -101612630, 1],2376477371\n",
            "\n",
            "(5) Train data,nonce: [33495794, -97143184, 1, 41027277, -76653633, 1, 34310191, -96670349, 1, 41685744, -81672797, 0, 46315267, -119371393, 1],3315424871\n",
            "\n",
            "(4) Train data,nonce: [30025584, -85215173, 1, 41772503, -91132480, 1, 48940067, -111849008, 1, 40306854, -92085363, 1, 45567085, -104539066, 1],274457994\n",
            "\n",
            "(8) Train data,nonce: [37534736, -122325880, 0, 37119566, -90444953, 1, 41232908, -120507888, 1, 40712900, -91238190, 1, 46577941, -119162115, 1],1629934853\n",
            "\n",
            "(9) Train data,nonce: [44063604, -116750704, 1, 33895272, -80498019, 0, 33331905, -91297702, 0, 26763312, -81438833, 1, 27297687, -97787713, 0],949686412\n",
            "\n",
            "(6) Train data,nonce: [39165152, -108076508, 1, 44330169, -86027194, 1, 37092605, -108125194, 0, 34155253, -78055776, 1, 36311201, -78922920, 1],1536865784\n",
            "\n",
            "(2) Train data,nonce: [31762219, -83876179, 1, 30901690, -89820725, 1, 31689973, -84327480, 0, 31212878, -83412143, 1, 36690661, -93344687, 1],3603825693\n",
            "\n"
          ],
          "name": "stdout"
        }
      ]
    },
    {
      "cell_type": "code",
      "metadata": {
        "id": "9bbQuq949-11",
        "colab_type": "code",
        "colab": {
          "base_uri": "https://localhost:8080/",
          "height": 71
        },
        "outputId": "13d6e36e-cc7f-4514-c44a-9022923020ae"
      },
      "source": [
        "# Get the training data from the contract\n",
        "contract_train_data_length = myContractaddress.functions.get_train_data_length().call()\n",
        "contract_train_data = []\n",
        "for i in range(contract_train_data_length):\n",
        "    for j in range(scd.dps):\n",
        "        contract_train_data.append(myContractaddress.functions.train_data(i,j).call())\n",
        "contract_train_data = scd.unpack_data(contract_train_data)\n",
        "dbg.dprint(\"Contract training data: \" + str(contract_train_data))"
      ],
      "execution_count": 12,
      "outputs": [
        {
          "output_type": "stream",
          "text": [
            "Contract training data: [(30914247, -91098267, 1), (36442431, -78557098, 1), (36379479, -79366733, 1), (29297302, -97047148, 1), (35936934, -76203339, 1), (41396988, -75186881, 1), (37368042, -102265146, 1), (32257831, -85129772, 0), (34965525, -100814865, 1), (32378209, -101612630, 1), (33495794, -97143184, 1), (41027277, -76653633, 1), (34310191, -96670349, 1), (41685744, -81672797, 0), (46315267, -119371393, 1), (30025584, -85215173, 1), (41772503, -91132480, 1), (48940067, -111849008, 1), (40306854, -92085363, 1), (45567085, -104539066, 1), (37534736, -122325880, 0), (37119566, -90444953, 1), (41232908, -120507888, 1), (40712900, -91238190, 1), (46577941, -119162115, 1), (44063604, -116750704, 1), (33895272, -80498019, 0), (33331905, -91297702, 0), (26763312, -81438833, 1), (27297687, -97787713, 0), (39165152, -108076508, 1), (44330169, -86027194, 1), (37092605, -108125194, 0), (34155253, -78055776, 1), (36311201, -78922920, 1), (31762219, -83876179, 1), (30901690, -89820725, 1), (31689973, -84327480, 0), (31212878, -83412143, 1), (36690661, -93344687, 1)]\n",
            "\n"
          ],
          "name": "stdout"
        }
      ]
    },
    {
      "cell_type": "code",
      "metadata": {
        "id": "Y642Zgzb9-18",
        "colab_type": "code",
        "colab": {
          "base_uri": "https://localhost:8080/",
          "height": 632
        },
        "outputId": "1dc23db4-72ee-4adf-e17e-deff31cef986"
      },
      "source": [
        "#Neural Network structure\n",
        "il_nn = 2  #Input layer\n",
        "hl_nn = [] # hidden layers\n",
        "ol_nn = 2 # output layer\n",
        "#End Neural Network structure\n",
        "\n",
        "# Train a neural network with contract data\n",
        "nn = NeuralNetwork(il_nn, hl_nn, ol_nn, 0.001, 5, 5, 1)\n",
        "contract_train_data = nn.binary_2_one_hot(contract_train_data)\n",
        "nn.load_train_data(contract_train_data)\n",
        "nn.init_network()\n",
        "nn.train()\n",
        "trained_weights = nn.weights\n",
        "trained_biases = nn.bias"
      ],
      "execution_count": 13,
      "outputs": [
        {
          "output_type": "stream",
          "text": [
            "WARNING: Logging before flag parsing goes to stderr.\n",
            "W0801 11:37:55.192971 140377098798976 deprecation_wrapper.py:119] From /content/google-colab/dutils/neural_network.py:49: The name tf.placeholder is deprecated. Please use tf.compat.v1.placeholder instead.\n",
            "\n",
            "W0801 11:37:55.554388 140377098798976 deprecation_wrapper.py:119] From /content/google-colab/dutils/neural_network.py:75: The name tf.random_normal is deprecated. Please use tf.random.normal instead.\n",
            "\n",
            "W0801 11:37:55.575252 140377098798976 deprecation.py:323] From /content/google-colab/dutils/neural_network.py:130: softmax_cross_entropy_with_logits (from tensorflow.python.ops.nn_ops) is deprecated and will be removed in a future version.\n",
            "Instructions for updating:\n",
            "\n",
            "Future major versions of TensorFlow will allow gradients to flow\n",
            "into the labels input on backprop by default.\n",
            "\n",
            "See `tf.nn.softmax_cross_entropy_with_logits_v2`.\n",
            "\n",
            "W0801 11:37:55.602298 140377098798976 deprecation_wrapper.py:119] From /content/google-colab/dutils/neural_network.py:131: The name tf.train.AdamOptimizer is deprecated. Please use tf.compat.v1.train.AdamOptimizer instead.\n",
            "\n",
            "W0801 11:37:55.684622 140377098798976 deprecation_wrapper.py:119] From /content/google-colab/dutils/neural_network.py:140: The name tf.global_variables_initializer is deprecated. Please use tf.compat.v1.global_variables_initializer instead.\n",
            "\n",
            "W0801 11:37:55.687103 140377098798976 deprecation_wrapper.py:119] From /content/google-colab/dutils/neural_network.py:143: The name tf.Session is deprecated. Please use tf.compat.v1.Session instead.\n",
            "\n"
          ],
          "name": "stderr"
        },
        {
          "output_type": "stream",
          "text": [
            "Step 1, Loss= 0.0000, Training Accuracy= 1.000\n",
            "\n",
            "Step 2, Loss= 19844310.0000, Training Accuracy= 0.800\n",
            "\n",
            "Step 3, Loss= 23863286.0000, Training Accuracy= 0.800\n",
            "\n",
            "Step 4, Loss= 0.0000, Training Accuracy= 1.000\n",
            "\n",
            "Step 5, Loss= 24367108.0000, Training Accuracy= 0.800\n",
            "\n",
            "Training Finished!\n",
            "\n",
            "Saving weights...\n",
            "\n",
            "Weights saved!\n",
            "\n"
          ],
          "name": "stdout"
        }
      ]
    },
    {
      "cell_type": "code",
      "metadata": {
        "id": "_XOZHSWR9-2B",
        "colab_type": "code",
        "colab": {
          "base_uri": "https://localhost:8080/",
          "height": 272
        },
        "outputId": "e3983017-1aae-49bd-fb83-64956123883e"
      },
      "source": [
        "dbg.dprint(\"Trained weights: \" + str(trained_weights))\n",
        "dbg.dprint(\"Trained biases: \" + str(trained_biases))\n",
        "\n",
        "packed_trained_weights = nn.pack_weights(trained_weights)\n",
        "dbg.dprint(\"Packed weights: \" + str(packed_trained_weights))\n",
        "\n",
        "packed_trained_biases = nn.pack_biases(trained_biases)\n",
        "dbg.dprint(\"Packed biases: \" + str(packed_trained_biases))\n",
        "\n",
        "int_packed_trained_weights = scale_packed_data(packed_trained_weights,\\\n",
        "        w_scale)\n",
        "dbg.dprint(\"Packed integer weights: \" + str(int_packed_trained_weights))\n",
        "\n",
        "int_packed_trained_biases = scale_packed_data(packed_trained_biases,\\\n",
        "        b_scale)\n",
        "dbg.dprint(\"Packed integer biases: \" + str(int_packed_trained_biases))\n",
        "\n",
        "dbg.dprint(\"Solver address: \" + str(solver_account))"
      ],
      "execution_count": 14,
      "outputs": [
        {
          "output_type": "stream",
          "text": [
            "Trained weights: [array([[-1.9735551 ,  0.2880651 ],\n",
            "       [ 0.3702731 ,  0.06824204]], dtype=float32)]\n",
            "\n",
            "Trained biases: [array([-0.03366775, -0.7616474 ], dtype=float32)]\n",
            "\n",
            "Packed weights: [-1.9735551, 0.2880651, 0.3702731, 0.068242036]\n",
            "\n",
            "Packed biases: [-0.033667747, -0.7616474]\n",
            "\n",
            "Packed integer weights: [-1973, 288, 370, 68]\n",
            "\n",
            "Packed integer biases: [-33, -761]\n",
            "\n",
            "Solver address: 0x3fF446a7319A60F83e8848f74838f8B3BdFEf675\n",
            "\n"
          ],
          "name": "stdout"
        }
      ]
    },
    {
      "cell_type": "code",
      "metadata": {
        "id": "a0q7-IBK9-2F",
        "colab_type": "code",
        "colab": {
          "base_uri": "https://localhost:8080/",
          "height": 85
        },
        "outputId": "e0263da9-0ec1-400f-b8a6-d2128577467f"
      },
      "source": [
        "current_level=myContractaddress.functions.init_level().call()\n",
        "#dbg.dprint(str(current_level))\n",
        "solver_account=web3.eth.accounts[0]\n",
        "# Submit the solution to the contract\n",
        "submit_tx = myContractaddress.functions.submit_model(solver_account, il_nn, ol_nn, hl_nn,int_packed_trained_weights, int_packed_trained_biases).transact()\n",
        "dbg.dprint(\"Submit TX: \" + str(submit_tx))\n"
      ],
      "execution_count": 15,
      "outputs": [
        {
          "output_type": "stream",
          "text": [
            "3\n",
            "\n",
            "Submit TX: b'C?\\xd8E\\xdbxh\\xad\\xdc>\\xb8\\xb3\\xf9O\\xd5\\x8e\\xa5qB]5/\\x8e\\x07\\x0e\\xe2\\x06^}\\x83\\xe7$'\n",
            "\n"
          ],
          "name": "stdout"
        }
      ]
    },
    {
      "cell_type": "code",
      "metadata": {
        "id": "bR6N9s9m9-2I",
        "colab_type": "code",
        "colab": {
          "base_uri": "https://localhost:8080/",
          "height": 153
        },
        "outputId": "d93ded1b-30d3-42a1-b551-e56c1e8d43a7"
      },
      "source": [
        "# Reveal the testing dataset after the submission period ends\n",
        "reveal_tx = []\n",
        "for i in range(len(testing_partition)):\n",
        "    start = i*scd.dps*scd.partition_size\n",
        "    end = start + scd.dps*scd.partition_size\n",
        "    dbg.dprint(\"(\" + str(testing_partition[i]) + \") Test data,nonce: \" + str(test_data[start:end]) + \",\" + str(scd.test_nonce[i]))\n",
        "    iter_tx = myContractaddress.functions.reveal_test_data(test_data[start:end], scd.test_nonce[i]).transact()\n",
        "    dbg.dprint(\"Reveal test data iter \" + str(i) )\n",
        "    reveal_tx.append(iter_tx)"
      ],
      "execution_count": 16,
      "outputs": [
        {
          "output_type": "stream",
          "text": [
            "(1) Test data,nonce: [30914247, -91098267, 1, 36442431, -78557098, 1, 36379479, -79366733, 1, 29297302, -97047148, 1, 35936934, -76203339, 1],3441994498\n",
            "\n",
            "Reveal test data iter 0\n",
            "\n",
            "(7) Test data,nonce: [41396988, -75186881, 1, 37368042, -102265146, 1, 32257831, -85129772, 0, 34965525, -100814865, 1, 32378209, -101612630, 1],2376477371\n",
            "\n",
            "Reveal test data iter 1\n",
            "\n"
          ],
          "name": "stdout"
        }
      ]
    },
    {
      "cell_type": "code",
      "metadata": {
        "id": "a-DAZH1A9-2L",
        "colab_type": "code",
        "colab": {
          "base_uri": "https://localhost:8080/",
          "height": 51
        },
        "outputId": "2d4bf7f5-51cb-4e7e-f6f7-671e8c5cd6ef"
      },
      "source": [
        "# Finalize the contract\n",
        "final_tx = myContractaddress.functions.finalize_contract().transact()\n",
        "contract_finalized = myContractaddress.functions.contract_terminated().call()\n",
        "dbg.dprint(\"Contract finalized: \" + str(contract_finalized))\n",
        "\n"
      ],
      "execution_count": 17,
      "outputs": [
        {
          "output_type": "stream",
          "text": [
            "Contract finalized: True\n",
            "\n"
          ],
          "name": "stdout"
        }
      ]
    },
    {
      "cell_type": "code",
      "metadata": {
        "id": "rZw-nMxp9-2P",
        "colab_type": "code",
        "colab": {
          "base_uri": "https://localhost:8080/",
          "height": 85
        },
        "outputId": "02534995-5329-486f-cc8c-a4c8dfc4ca85"
      },
      "source": [
        "# Get best submission accuracy & ID\n",
        "best_submission_accuracy = myContractaddress.functions.best_submission_accuracy().call()\n",
        "best_submission_index = myContractaddress.functions.best_submission_index().call()\n",
        "\n",
        "dbg.dprint(\"Best submission ID: \" + str(best_submission_index))\n",
        "dbg.dprint(\"Best submission accuracy: \" + str(best_submission_accuracy))# Since the data array is too large, we're going to send them in single data group chunks\n",
        "train_data = scd.pack_data(scd.train_data)\n",
        "test_data = scd.pack_data(scd.test_data)\n",
        "\n",
        "#Build the Neural Network\n",
        "#Number of neurons in input layer\n",
        "il_nn=2\n",
        "#Hidden layers: each element represents number of neurons in that layer\n",
        "hl_nn = []\n",
        "#Number of neurons in output layer\n",
        "ol_nn = 2\n",
        "\n",
        "l_nn = [il_nn] + hl_nn + [ol_nn]\n",
        "input_layer = train_data[:2]\n",
        "hidden_layers = [0] * sum(hl_nn)\n",
        "output_layer = [0] * ol_nn\n",
        "weights = int_packed_trained_weights\n",
        "biases = int_packed_trained_biases\n",
        "# Test forward\n",
        "fwd_pass2 = myContractaddress.functions.forward_pass2(l_nn, input_layer, hidden_layers, output_layer, weights, biases).call()\n"
      ],
      "execution_count": 18,
      "outputs": [
        {
          "output_type": "stream",
          "text": [
            "Best submission ID: 0\n",
            "\n",
            "Best submission accuracy: 0\n",
            "\n"
          ],
          "name": "stdout"
        }
      ]
    },
    {
      "cell_type": "code",
      "metadata": {
        "id": "jZGG8eEO9-2U",
        "colab_type": "code",
        "colab": {
          "base_uri": "https://localhost:8080/",
          "height": 153
        },
        "outputId": "4c81d9b8-e1c8-4af4-aaa4-8cbf8f332eb7"
      },
      "source": [
        "dbg.dprint(\"Test input: \" + str(train_data[:2]))\n",
        "dbg.dprint(\"Expected output: \" + str(train_data[2]))\n",
        "dbg.dprint(\"local nn prediction: \" + str(nn.predict([train_data[:2]])))\n",
        "\n",
        "dbg.dprint(\"forward_pass2: \" + str(fwd_pass2))\n",
        "\n",
        "#dbg.dprint(\"Total gas used: \" + str(total_gas_used))"
      ],
      "execution_count": 19,
      "outputs": [
        {
          "output_type": "stream",
          "text": [
            "Test input: [30914247, -91098267]\n",
            "\n",
            "Expected output: 1\n",
            "\n",
            "local nn prediction: [[-2.3088267e+08 -3.2442120e+07]]\n",
            "\n",
            "forward_pass2: [0, 524358]\n",
            "\n"
          ],
          "name": "stdout"
        }
      ]
    },
    {
      "cell_type": "code",
      "metadata": {
        "id": "Zg8PofNe9-2f",
        "colab_type": "code",
        "colab": {
          "base_uri": "https://localhost:8080/",
          "height": 289
        },
        "outputId": "d9735b14-ec74-4fcd-e905-da85dfbccee3"
      },
      "source": [
        "# Import the required modules, plot the data\n",
        "import pandas as pd\n",
        "import numpy as np\n",
        "import matplotlib.pyplot as plt\n",
        "\n",
        "scatter_x = np.array(list(map(lambda x: x[1:2][0], scd.data)))\n",
        "scatter_y = np.array(list(map(lambda x: x[:1][0], scd.data)))\n",
        "group = np.array(list(map(lambda x: x[2:3][0], scd.data)))\n",
        "cdict = {0: \"blue\", 1: \"red\"}\n",
        "\n",
        "fig, ax = plt.subplots()\n",
        "for g in np.unique(group):\n",
        "    ix = np.where(group == g)\n",
        "    ax.scatter(scatter_x[ix], scatter_y[ix], c = cdict[g], label = g, s = 4)\n",
        "ax.legend()\n",
        "plt.show()\n"
      ],
      "execution_count": 20,
      "outputs": [
        {
          "output_type": "display_data",
          "data": {
            "image/png": "[encoded data removed]",
            "text/plain": [
              "<Figure size 432x288 with 1 Axes>"
            ]
          },
          "metadata": {
            "tags": []
          }
        }
      ]
    },
    {
      "cell_type": "code",
      "metadata": {
        "id": "NY0H0eG9-ceF",
        "colab_type": "code",
        "colab": {}
      },
      "source": [
        ""
      ],
      "execution_count": 0,
      "outputs": []
    }
  ]
}